{
 "cells": [
  {
   "cell_type": "markdown",
   "metadata": {},
   "source": [
    "# Исследование надёжности заёмщиков\n",
    "\n",
    "Заказчик — кредитный отдел банка. Нужно разобраться, влияет ли семейное положение и количество детей клиента на факт погашения кредита в срок. Входные данные от банка — статистика о платёжеспособности клиентов.\n",
    "\n",
    "Результаты исследования будут учтены при построении модели **кредитного скоринга** — специальной системы, которая оценивает способность потенциального заёмщика вернуть кредит банку."
   ]
  },
  {
   "cell_type": "markdown",
   "metadata": {},
   "source": [
    "## Изучение общей информации"
   ]
  },
  {
   "cell_type": "code",
   "execution_count": 2,
   "metadata": {},
   "outputs": [
    {
     "data": {
      "text/html": [
       "<div>\n",
       "<style scoped>\n",
       "    .dataframe tbody tr th:only-of-type {\n",
       "        vertical-align: middle;\n",
       "    }\n",
       "\n",
       "    .dataframe tbody tr th {\n",
       "        vertical-align: top;\n",
       "    }\n",
       "\n",
       "    .dataframe thead th {\n",
       "        text-align: right;\n",
       "    }\n",
       "</style>\n",
       "<table border=\"1\" class=\"dataframe\">\n",
       "  <thead>\n",
       "    <tr style=\"text-align: right;\">\n",
       "      <th></th>\n",
       "      <th>children</th>\n",
       "      <th>days_employed</th>\n",
       "      <th>dob_years</th>\n",
       "      <th>education</th>\n",
       "      <th>education_id</th>\n",
       "      <th>family_status</th>\n",
       "      <th>family_status_id</th>\n",
       "      <th>gender</th>\n",
       "      <th>income_type</th>\n",
       "      <th>debt</th>\n",
       "      <th>total_income</th>\n",
       "      <th>purpose</th>\n",
       "    </tr>\n",
       "  </thead>\n",
       "  <tbody>\n",
       "    <tr>\n",
       "      <th>0</th>\n",
       "      <td>1</td>\n",
       "      <td>-8437.67</td>\n",
       "      <td>42</td>\n",
       "      <td>высшее</td>\n",
       "      <td>0</td>\n",
       "      <td>женат / замужем</td>\n",
       "      <td>0</td>\n",
       "      <td>F</td>\n",
       "      <td>сотрудник</td>\n",
       "      <td>0</td>\n",
       "      <td>253875.64</td>\n",
       "      <td>покупка жилья</td>\n",
       "    </tr>\n",
       "    <tr>\n",
       "      <th>1</th>\n",
       "      <td>1</td>\n",
       "      <td>-4024.80</td>\n",
       "      <td>36</td>\n",
       "      <td>среднее</td>\n",
       "      <td>1</td>\n",
       "      <td>женат / замужем</td>\n",
       "      <td>0</td>\n",
       "      <td>F</td>\n",
       "      <td>сотрудник</td>\n",
       "      <td>0</td>\n",
       "      <td>112080.01</td>\n",
       "      <td>приобретение автомобиля</td>\n",
       "    </tr>\n",
       "    <tr>\n",
       "      <th>2</th>\n",
       "      <td>0</td>\n",
       "      <td>-5623.42</td>\n",
       "      <td>33</td>\n",
       "      <td>Среднее</td>\n",
       "      <td>1</td>\n",
       "      <td>женат / замужем</td>\n",
       "      <td>0</td>\n",
       "      <td>M</td>\n",
       "      <td>сотрудник</td>\n",
       "      <td>0</td>\n",
       "      <td>145885.95</td>\n",
       "      <td>покупка жилья</td>\n",
       "    </tr>\n",
       "    <tr>\n",
       "      <th>3</th>\n",
       "      <td>3</td>\n",
       "      <td>-4124.75</td>\n",
       "      <td>32</td>\n",
       "      <td>среднее</td>\n",
       "      <td>1</td>\n",
       "      <td>женат / замужем</td>\n",
       "      <td>0</td>\n",
       "      <td>M</td>\n",
       "      <td>сотрудник</td>\n",
       "      <td>0</td>\n",
       "      <td>267628.55</td>\n",
       "      <td>дополнительное образование</td>\n",
       "    </tr>\n",
       "    <tr>\n",
       "      <th>4</th>\n",
       "      <td>0</td>\n",
       "      <td>340266.07</td>\n",
       "      <td>53</td>\n",
       "      <td>среднее</td>\n",
       "      <td>1</td>\n",
       "      <td>гражданский брак</td>\n",
       "      <td>1</td>\n",
       "      <td>F</td>\n",
       "      <td>пенсионер</td>\n",
       "      <td>0</td>\n",
       "      <td>158616.08</td>\n",
       "      <td>сыграть свадьбу</td>\n",
       "    </tr>\n",
       "  </tbody>\n",
       "</table>\n",
       "</div>"
      ],
      "text/plain": [
       "   children  days_employed  dob_years education  education_id  \\\n",
       "0         1       -8437.67         42    высшее             0   \n",
       "1         1       -4024.80         36   среднее             1   \n",
       "2         0       -5623.42         33   Среднее             1   \n",
       "3         3       -4124.75         32   среднее             1   \n",
       "4         0      340266.07         53   среднее             1   \n",
       "\n",
       "      family_status  family_status_id gender income_type  debt  total_income  \\\n",
       "0   женат / замужем                 0      F   сотрудник     0     253875.64   \n",
       "1   женат / замужем                 0      F   сотрудник     0     112080.01   \n",
       "2   женат / замужем                 0      M   сотрудник     0     145885.95   \n",
       "3   женат / замужем                 0      M   сотрудник     0     267628.55   \n",
       "4  гражданский брак                 1      F   пенсионер     0     158616.08   \n",
       "\n",
       "                      purpose  \n",
       "0               покупка жилья  \n",
       "1     приобретение автомобиля  \n",
       "2               покупка жилья  \n",
       "3  дополнительное образование  \n",
       "4             сыграть свадьбу  "
      ]
     },
     "metadata": {},
     "output_type": "display_data"
    }
   ],
   "source": [
    "import pandas as pd\n",
    "data = pd.read_csv('C:/Users/79833/Desktop/Data/1 project/data.csv')\n",
    "pd.set_option('display.float_format', '{:.2f}'.format)\n",
    "display(data.head())"
   ]
  },
  {
   "cell_type": "code",
   "execution_count": 2,
   "metadata": {},
   "outputs": [
    {
     "name": "stdout",
     "output_type": "stream",
     "text": [
      "<class 'pandas.core.frame.DataFrame'>\n",
      "RangeIndex: 21525 entries, 0 to 21524\n",
      "Data columns (total 12 columns):\n",
      "children            21525 non-null int64\n",
      "days_employed       19351 non-null float64\n",
      "dob_years           21525 non-null int64\n",
      "education           21525 non-null object\n",
      "education_id        21525 non-null int64\n",
      "family_status       21525 non-null object\n",
      "family_status_id    21525 non-null int64\n",
      "gender              21525 non-null object\n",
      "income_type         21525 non-null object\n",
      "debt                21525 non-null int64\n",
      "total_income        19351 non-null float64\n",
      "purpose             21525 non-null object\n",
      "dtypes: float64(2), int64(5), object(5)\n",
      "memory usage: 2.0+ MB\n"
     ]
    }
   ],
   "source": [
    "data.info()"
   ]
  },
  {
   "cell_type": "markdown",
   "metadata": {},
   "source": [
    "Итого файл состоит из 12 столбцов и 21525 строк. Присутствуют типы данных: *float64* - 2 столбца, *int64*  - 5 столбцов, *object*- 5 столбцов."
   ]
  },
  {
   "cell_type": "markdown",
   "metadata": {},
   "source": [
    "Посмотрю названия столбцов:"
   ]
  },
  {
   "cell_type": "code",
   "execution_count": 3,
   "metadata": {},
   "outputs": [
    {
     "name": "stdout",
     "output_type": "stream",
     "text": [
      "Index(['children', 'days_employed', 'dob_years', 'education', 'education_id',\n",
      "       'family_status', 'family_status_id', 'gender', 'income_type', 'debt',\n",
      "       'total_income', 'purpose'],\n",
      "      dtype='object')\n"
     ]
    }
   ],
   "source": [
    "print(data.columns)"
   ]
  },
  {
   "cell_type": "markdown",
   "metadata": {},
   "source": [
    "Подробно разберу каждый:\n",
    "   - children — количество детей в семье;\n",
    "   - days_employed — общий трудовой стаж в днях;\n",
    "   - dob_years — возраст клиента в годах;\n",
    "   - education — уровень образования клиента;\n",
    "   - education_id — идентификатор уровня образования;\n",
    "   - family_status — семейное положение;\n",
    "   - family_status_id — идентификатор семейного положения;\n",
    "   - gender — пол клиента;\n",
    "   - income_type — тип занятости;\n",
    "   - debt — имел ли задолженность по возврату кредитов;\n",
    "   - total_income — ежемесячный доход;\n",
    "   - purpose — цель получения кредита."
   ]
  },
  {
   "cell_type": "markdown",
   "metadata": {},
   "source": [
    "## Предобработка данных"
   ]
  },
  {
   "cell_type": "markdown",
   "metadata": {},
   "source": [
    "### Обработка пропусков"
   ]
  },
  {
   "cell_type": "markdown",
   "metadata": {},
   "source": [
    "Для начала рассчитываю количество пропущенных значений методом *isnull()* и посчитаю их количество с помощью *sum()*:"
   ]
  },
  {
   "cell_type": "code",
   "execution_count": 4,
   "metadata": {},
   "outputs": [
    {
     "name": "stdout",
     "output_type": "stream",
     "text": [
      "children               0\n",
      "days_employed       2174\n",
      "dob_years              0\n",
      "education              0\n",
      "education_id           0\n",
      "family_status          0\n",
      "family_status_id       0\n",
      "gender                 0\n",
      "income_type            0\n",
      "debt                   0\n",
      "total_income        2174\n",
      "purpose                0\n",
      "dtype: int64\n"
     ]
    }
   ],
   "source": [
    "print(data.isnull().sum())"
   ]
  },
  {
   "cell_type": "markdown",
   "metadata": {},
   "source": [
    "В столбцах 'days_employed' - 'общий трудовой стаж в днях' и 'total_income' - 'ежемесячный доход' по 2174 пропущенных значения. Можно предположить, что данные с пропусками в вышеуказанных столбцах являются данными о людях с зарплатными проектами в банке. Другими словами, можно предположить, что если если потенциальный заёмщик получает зарплату/пенсию на счет в банке, для одобрения кредита ему уже не нужно подавать дополнительные документы, например, 2-НДФЛ, так как банк уже располагает этими данными. Однако возникает вопрос почему эти данные не \"подтянулись\" в анализируемую таблицу."
   ]
  },
  {
   "cell_type": "markdown",
   "metadata": {},
   "source": [
    "Для замены пустых значений общего трудового стажа ('days_employed') использую медианные значения."
   ]
  },
  {
   "cell_type": "markdown",
   "metadata": {},
   "source": [
    "Посмотрю уникальные значения колонки 'income_type' с помощью unique() и занесу их в отдельный лист income_types:"
   ]
  },
  {
   "cell_type": "code",
   "execution_count": 5,
   "metadata": {},
   "outputs": [
    {
     "name": "stdout",
     "output_type": "stream",
     "text": [
      "['сотрудник' 'пенсионер' 'компаньон' 'госслужащий' 'безработный'\n",
      " 'предприниматель' 'студент' 'в декрете']\n"
     ]
    }
   ],
   "source": [
    "income_types = data['income_type'].unique()\n",
    "print(income_types)"
   ]
  },
  {
   "cell_type": "markdown",
   "metadata": {},
   "source": [
    "Отсортирую исходные данные по возрастанию значений в колонке 'total_income' с помощью sort_values():"
   ]
  },
  {
   "cell_type": "code",
   "execution_count": 6,
   "metadata": {
    "scrolled": true
   },
   "outputs": [],
   "source": [
    "data = data.sort_values(by='total_income')"
   ]
  },
  {
   "cell_type": "markdown",
   "metadata": {},
   "source": [
    "Для поиска медианы по всем типам занятости создам цикл с помощью оператора *for*: "
   ]
  },
  {
   "cell_type": "code",
   "execution_count": 7,
   "metadata": {},
   "outputs": [
    {
     "name": "stdout",
     "output_type": "stream",
     "text": [
      "сотрудник 142594.39684740017\n",
      "пенсионер 118514.48641164352\n",
      "компаньон 172357.95096577113\n",
      "госслужащий 150447.9352830068\n",
      "безработный 131339.7516762103\n",
      "предприниматель 499163.1449470857\n",
      "студент 98201.62531401133\n",
      "в декрете 53829.13072905995\n"
     ]
    }
   ],
   "source": [
    "for type in income_types:\n",
    "    print(type, data.loc[data['income_type']==type, 'total_income'].median())"
   ]
  },
  {
   "cell_type": "markdown",
   "metadata": {},
   "source": [
    "Для дальнейшего исследования создам словарь *income_medians* и с помощью цикла добавлю в него данные о типах занятости"
   ]
  },
  {
   "cell_type": "code",
   "execution_count": 8,
   "metadata": {},
   "outputs": [
    {
     "name": "stdout",
     "output_type": "stream",
     "text": [
      "{'сотрудник': 142594.39684740017, 'пенсионер': 118514.48641164352, 'компаньон': 172357.95096577113, 'госслужащий': 150447.9352830068, 'безработный': 131339.7516762103, 'предприниматель': 499163.1449470857, 'студент': 98201.62531401133, 'в декрете': 53829.13072905995}\n"
     ]
    }
   ],
   "source": [
    "income_medians = {}\n",
    "for type in income_types:\n",
    "    income_medians[type] = data.loc[data['income_type']==type, 'total_income'].median()\n",
    "print(income_medians)"
   ]
  },
  {
   "cell_type": "markdown",
   "metadata": {},
   "source": [
    "Обработаю пропуски в колонке *'total_income'*, заменив в ней все пустые значения на искусственное значение -1 с помощью *fillna()*: "
   ]
  },
  {
   "cell_type": "code",
   "execution_count": 9,
   "metadata": {},
   "outputs": [],
   "source": [
    "data['total_income'] = data['total_income'].fillna(-1)"
   ]
  },
  {
   "cell_type": "markdown",
   "metadata": {},
   "source": [
    "Создам функцию *default_income*, в которой заменю значение -1 на медианное значение в соответствии с типом занятости из словаря *income_medians*. Далее применю эту функцию для всех значений колонки *'total_income'* с помощью  метода *apply()* "
   ]
  },
  {
   "cell_type": "code",
   "execution_count": 10,
   "metadata": {},
   "outputs": [],
   "source": [
    "def default_income(row):\n",
    "    if row['total_income'] == -1:\n",
    "        row['total_income'] = income_medians[row['income_type']]\n",
    "    return row\n",
    "  \n",
    "data['total_income'] = data.loc[:, ['total_income', 'income_type']].apply(default_income, axis=1)['total_income']"
   ]
  },
  {
   "cell_type": "markdown",
   "metadata": {},
   "source": [
    "После проделланых операций в колонке *'total_income'* не осталось пропусков, все пропущенные значения заменены на средние соответсвенного источника дохода."
   ]
  },
  {
   "cell_type": "markdown",
   "metadata": {},
   "source": [
    "Выведу первые 5 значений из колонки *'days_employed'*:"
   ]
  },
  {
   "cell_type": "code",
   "execution_count": 11,
   "metadata": {},
   "outputs": [
    {
     "name": "stdout",
     "output_type": "stream",
     "text": [
      "14585    359219.059341\n",
      "13006    369708.589113\n",
      "16174     -3642.820023\n",
      "1598     359726.104207\n",
      "14276    346602.453782\n",
      "Name: days_employed, dtype: float64\n"
     ]
    }
   ],
   "source": [
    "print(data['days_employed'].head())"
   ]
  },
  {
   "cell_type": "markdown",
   "metadata": {},
   "source": [
    "Очевидно, что данные в колонке *'days_employed'* указаны некорректно, так как трудовой стаж в днях не может принимать настолько большие и отрицательные значения. Так как для дальнейшего исследования данные о стаже не используются, просто заменю пропуски на 0 с помощью *fillna()*:"
   ]
  },
  {
   "cell_type": "code",
   "execution_count": 12,
   "metadata": {},
   "outputs": [],
   "source": [
    "data['days_employed'] = data['days_employed'].fillna(0)"
   ]
  },
  {
   "cell_type": "markdown",
   "metadata": {},
   "source": [
    "Проверю наличие пропусков методом *isnull()* и посчитаю их количество с помощью *sum()*"
   ]
  },
  {
   "cell_type": "code",
   "execution_count": 13,
   "metadata": {},
   "outputs": [
    {
     "name": "stdout",
     "output_type": "stream",
     "text": [
      "children            0\n",
      "days_employed       0\n",
      "dob_years           0\n",
      "education           0\n",
      "education_id        0\n",
      "family_status       0\n",
      "family_status_id    0\n",
      "gender              0\n",
      "income_type         0\n",
      "debt                0\n",
      "total_income        0\n",
      "purpose             0\n",
      "dtype: int64\n"
     ]
    }
   ],
   "source": [
    "print(data.isnull().sum())"
   ]
  },
  {
   "cell_type": "markdown",
   "metadata": {},
   "source": [
    "### Замена типа данных"
   ]
  },
  {
   "cell_type": "markdown",
   "metadata": {},
   "source": [
    "Проверю типы данных всех столбов:"
   ]
  },
  {
   "cell_type": "code",
   "execution_count": 14,
   "metadata": {},
   "outputs": [
    {
     "name": "stdout",
     "output_type": "stream",
     "text": [
      "<class 'pandas.core.frame.DataFrame'>\n",
      "Int64Index: 21525 entries, 14585 to 21510\n",
      "Data columns (total 12 columns):\n",
      "children            21525 non-null int64\n",
      "days_employed       21525 non-null float64\n",
      "dob_years           21525 non-null int64\n",
      "education           21525 non-null object\n",
      "education_id        21525 non-null int64\n",
      "family_status       21525 non-null object\n",
      "family_status_id    21525 non-null int64\n",
      "gender              21525 non-null object\n",
      "income_type         21525 non-null object\n",
      "debt                21525 non-null int64\n",
      "total_income        21525 non-null float64\n",
      "purpose             21525 non-null object\n",
      "dtypes: float64(2), int64(5), object(5)\n",
      "memory usage: 2.1+ MB\n"
     ]
    }
   ],
   "source": [
    "data.info()"
   ]
  },
  {
   "cell_type": "markdown",
   "metadata": {},
   "source": [
    "Для замены вещественного типа данных на целочисленный применю цикл, меняющий тип данных *float* на *int* с помощью метода *astype()*:"
   ]
  },
  {
   "cell_type": "code",
   "execution_count": 15,
   "metadata": {},
   "outputs": [],
   "source": [
    "for i in data.columns:\n",
    "    if data[i].dtype == float:\n",
    "        data[i] = data[i].astype('int')"
   ]
  },
  {
   "cell_type": "markdown",
   "metadata": {},
   "source": [
    "Проверю результат замены:"
   ]
  },
  {
   "cell_type": "code",
   "execution_count": 16,
   "metadata": {},
   "outputs": [
    {
     "name": "stdout",
     "output_type": "stream",
     "text": [
      "<class 'pandas.core.frame.DataFrame'>\n",
      "Int64Index: 21525 entries, 14585 to 21510\n",
      "Data columns (total 12 columns):\n",
      "children            21525 non-null int64\n",
      "days_employed       21525 non-null int64\n",
      "dob_years           21525 non-null int64\n",
      "education           21525 non-null object\n",
      "education_id        21525 non-null int64\n",
      "family_status       21525 non-null object\n",
      "family_status_id    21525 non-null int64\n",
      "gender              21525 non-null object\n",
      "income_type         21525 non-null object\n",
      "debt                21525 non-null int64\n",
      "total_income        21525 non-null int64\n",
      "purpose             21525 non-null object\n",
      "dtypes: int64(7), object(5)\n",
      "memory usage: 2.1+ MB\n"
     ]
    }
   ],
   "source": [
    "data.info()"
   ]
  },
  {
   "cell_type": "markdown",
   "metadata": {},
   "source": [
    "**Вывод**"
   ]
  },
  {
   "cell_type": "markdown",
   "metadata": {},
   "source": [
    "### Обработка дубликатов"
   ]
  },
  {
   "cell_type": "markdown",
   "metadata": {},
   "source": [
    "До начала поиска дубликатов приведу все символы к нижнему регистру вызовом метода *str.lower()* в теле цикла:"
   ]
  },
  {
   "cell_type": "code",
   "execution_count": 17,
   "metadata": {},
   "outputs": [],
   "source": [
    "for i in data.columns:\n",
    "    if data[i].dtype == object:\n",
    "        data[i] = data[i].str.lower()"
   ]
  },
  {
   "cell_type": "markdown",
   "metadata": {},
   "source": [
    "Посчитаю количество дубликатов с помошью метода duplicated():"
   ]
  },
  {
   "cell_type": "code",
   "execution_count": 18,
   "metadata": {},
   "outputs": [
    {
     "name": "stdout",
     "output_type": "stream",
     "text": [
      "71\n"
     ]
    }
   ],
   "source": [
    "print(data.duplicated().sum())"
   ]
  },
  {
   "cell_type": "markdown",
   "metadata": {},
   "source": [
    "всего найдено 71 дубликат. Причиной появления дубликатов может стать как ошибочное повторное добавление тех же самых данных, так и разница в раскладке регистра при заполнении данных"
   ]
  },
  {
   "cell_type": "markdown",
   "metadata": {},
   "source": [
    "Для удаления дубликатов использую метод *drop_duplicates()*:"
   ]
  },
  {
   "cell_type": "code",
   "execution_count": 19,
   "metadata": {},
   "outputs": [],
   "source": [
    "data = data.drop_duplicates().reset_index(drop=True)"
   ]
  },
  {
   "cell_type": "markdown",
   "metadata": {},
   "source": [
    "Проверяю на отсутствие дубликатов:"
   ]
  },
  {
   "cell_type": "code",
   "execution_count": 20,
   "metadata": {},
   "outputs": [
    {
     "name": "stdout",
     "output_type": "stream",
     "text": [
      "0\n"
     ]
    }
   ],
   "source": [
    "print(data.duplicated().sum())"
   ]
  },
  {
   "cell_type": "markdown",
   "metadata": {},
   "source": [
    "**Вывод**"
   ]
  },
  {
   "cell_type": "markdown",
   "metadata": {},
   "source": [
    "### Лемматизация"
   ]
  },
  {
   "cell_type": "markdown",
   "metadata": {},
   "source": [
    "Для начала посмотрю список целей на получение кредита и их количество с помощью *value_counts()* и отсортирую по алфавиту названия целей с помощью *sort_index()*:"
   ]
  },
  {
   "cell_type": "code",
   "execution_count": 21,
   "metadata": {},
   "outputs": [
    {
     "name": "stdout",
     "output_type": "stream",
     "text": [
      "автомобили                                478\n",
      "автомобиль                                494\n",
      "высшее образование                        452\n",
      "дополнительное образование                460\n",
      "жилье                                     646\n",
      "заняться высшим образованием              496\n",
      "заняться образованием                     408\n",
      "на покупку автомобиля                     471\n",
      "на покупку подержанного автомобиля        478\n",
      "на покупку своего автомобиля              505\n",
      "на проведение свадьбы                     768\n",
      "недвижимость                              633\n",
      "образование                               447\n",
      "операции с жильем                         652\n",
      "операции с коммерческой недвижимостью     650\n",
      "операции с недвижимостью                  675\n",
      "операции со своей недвижимостью           627\n",
      "покупка жилой недвижимости                606\n",
      "покупка жилья                             646\n",
      "покупка жилья для сдачи                   651\n",
      "покупка жилья для семьи                   638\n",
      "покупка коммерческой недвижимости         661\n",
      "покупка недвижимости                      621\n",
      "покупка своего жилья                      620\n",
      "получение высшего образования             426\n",
      "получение дополнительного образования     446\n",
      "получение образования                     442\n",
      "приобретение автомобиля                   461\n",
      "профильное образование                    436\n",
      "ремонт жилью                              607\n",
      "свадьба                                   791\n",
      "свой автомобиль                           478\n",
      "сделка с автомобилем                      455\n",
      "сделка с подержанным автомобилем          486\n",
      "строительство жилой недвижимости          624\n",
      "строительство недвижимости                619\n",
      "строительство собственной недвижимости    635\n",
      "сыграть свадьбу                           765\n",
      "Name: purpose, dtype: int64\n"
     ]
    }
   ],
   "source": [
    "print(data['purpose'].value_counts().sort_index())"
   ]
  },
  {
   "cell_type": "markdown",
   "metadata": {},
   "source": [
    "Из представленных данных видно, что во многих строках цель кредита одна и та же, но записана разными формулировками, например, 'свадьба', 'на проведение свадьбы', 'сыграть свадьбу'.  "
   ]
  },
  {
   "cell_type": "markdown",
   "metadata": {},
   "source": [
    "Посчитаю вцелом количество уникальных значений в столбце 'purpose':"
   ]
  },
  {
   "cell_type": "code",
   "execution_count": 22,
   "metadata": {},
   "outputs": [
    {
     "name": "stdout",
     "output_type": "stream",
     "text": [
      "38\n"
     ]
    }
   ],
   "source": [
    "print(len(data['purpose'].unique()))"
   ]
  },
  {
   "cell_type": "markdown",
   "metadata": {},
   "source": [
    "Всего 38 причин для взятия кредита."
   ]
  },
  {
   "cell_type": "markdown",
   "metadata": {},
   "source": [
    "Для того, чтобы сократить количество целей для получения кредита использую лемматизацию, которая поможет привести слова в инфинитив.\n",
    "Импортирую библиотеку pymystem3.\n",
    "Создам новый столбец *'lemmas'*, в который вернуться цели кредита после лемматизации. Для этого применю метод *lemmatize* ко всем значениям колонки *'purpose'* с помощью метода *apply()*.\n",
    "\n",
    "Выведу первые 5 значений новой колонки *'lemmas'*."
   ]
  },
  {
   "cell_type": "code",
   "execution_count": 23,
   "metadata": {
    "scrolled": true
   },
   "outputs": [
    {
     "name": "stdout",
     "output_type": "stream",
     "text": [
      "0                              [недвижимость, \\n]\n",
      "1    [заниматься,  , высокий,  , образование, \\n]\n",
      "2               [приобретение,  , автомобиль, \\n]\n",
      "3             [на,  , проведение,  , свадьба, \\n]\n",
      "4                              [недвижимость, \\n]\n",
      "Name: lemmas, dtype: object\n"
     ]
    }
   ],
   "source": [
    "from pymystem3 import Mystem\n",
    "m=Mystem()\n",
    "\n",
    "data['lemmas'] = data['purpose'].apply(m.lemmatize)\n",
    "\n",
    "print(data['lemmas'].head())"
   ]
  },
  {
   "cell_type": "markdown",
   "metadata": {},
   "source": [
    "Для подсчета количества используемых слов после лемматизации использую *Counter* библиотеки *collections*:"
   ]
  },
  {
   "cell_type": "code",
   "execution_count": 24,
   "metadata": {},
   "outputs": [
    {
     "name": "stdout",
     "output_type": "stream",
     "text": [
      "Counter({' ': 33570, '\\n': 21454, 'недвижимость': 6351, 'покупка': 5897, 'жилье': 4460, 'автомобиль': 4306, 'образование': 4013, 'с': 2918, 'операция': 2604, 'свадьба': 2324, 'свой': 2230, 'на': 2222, 'строительство': 1878, 'высокий': 1374, 'получение': 1314, 'коммерческий': 1311, 'для': 1289, 'жилой': 1230, 'сделка': 941, 'дополнительный': 906, 'заниматься': 904, 'проведение': 768, 'сыграть': 765, 'сдача': 651, 'семья': 638, 'собственный': 635, 'со': 627, 'ремонт': 607, 'подержанный': 486, 'подержать': 478, 'приобретение': 461, 'профильный': 436})\n"
     ]
    }
   ],
   "source": [
    "from collections import Counter\n",
    "print(Counter(data['lemmas'].sum()))"
   ]
  },
  {
   "cell_type": "markdown",
   "metadata": {},
   "source": [
    "Так как многие слова в инфинитиве употребляются в разных словосочетаниях, объединю их в 4 группы с помощью объявления функции *map_lemma* и применения ее ко всем значениям колонки *'lemmas'* методом *apply()*. Выведу первые 10 строк обновленной колонки:"
   ]
  },
  {
   "cell_type": "code",
   "execution_count": 25,
   "metadata": {},
   "outputs": [
    {
     "name": "stdout",
     "output_type": "stream",
     "text": [
      "0    недвижимость\n",
      "1     образование\n",
      "2      автомобиль\n",
      "3         свадьба\n",
      "4    недвижимость\n",
      "5    недвижимость\n",
      "6    недвижимость\n",
      "7    недвижимость\n",
      "8     образование\n",
      "9     образование\n",
      "Name: lemmas, dtype: object\n"
     ]
    }
   ],
   "source": [
    "def map_lemma(row):\n",
    "    if 'свадьба' in row:\n",
    "        return 'свадьба'\n",
    "    if 'недвижимость' in row or 'жилье' in row:\n",
    "        return 'недвижимость'\n",
    "    if 'автомобиль' in row:\n",
    "        return 'автомобиль'\n",
    "    if 'образование' in row:\n",
    "        return 'образование'\n",
    "    return row\n",
    "    \n",
    "data['lemmas'] = data['lemmas'].apply(map_lemma)\n",
    "print(data['lemmas'].head(10))  \n"
   ]
  },
  {
   "cell_type": "markdown",
   "metadata": {},
   "source": [
    "Проверю уникальные значения в колонке 'lemmas':"
   ]
  },
  {
   "cell_type": "code",
   "execution_count": 26,
   "metadata": {},
   "outputs": [
    {
     "name": "stdout",
     "output_type": "stream",
     "text": [
      "['недвижимость' 'образование' 'автомобиль' 'свадьба']\n"
     ]
    }
   ],
   "source": [
    "print(data['lemmas'].unique())"
   ]
  },
  {
   "cell_type": "markdown",
   "metadata": {},
   "source": [
    "**Вывод**"
   ]
  },
  {
   "cell_type": "markdown",
   "metadata": {},
   "source": [
    "Лемматизация помогает категоризировать текстовые данные для эффективного анализа"
   ]
  },
  {
   "cell_type": "markdown",
   "metadata": {},
   "source": [
    "### Категоризация данных"
   ]
  },
  {
   "cell_type": "markdown",
   "metadata": {},
   "source": [
    "Проверю уникальные значения и их количество в колонке 'children' с помощью value_counts()"
   ]
  },
  {
   "cell_type": "code",
   "execution_count": 27,
   "metadata": {},
   "outputs": [
    {
     "name": "stdout",
     "output_type": "stream",
     "text": [
      " 0     14091\n",
      " 1      4808\n",
      " 2      2052\n",
      " 3       330\n",
      " 20       76\n",
      "-1        47\n",
      " 4        41\n",
      " 5         9\n",
      "Name: children, dtype: int64\n"
     ]
    }
   ],
   "source": [
    "print(data['children'].value_counts())"
   ]
  },
  {
   "cell_type": "markdown",
   "metadata": {},
   "source": [
    " Очевидно, что -1 ребенка быть не может и 20 тоже скорее всего ошибка"
   ]
  },
  {
   "cell_type": "markdown",
   "metadata": {},
   "source": [
    "Заменю значение -1 на 1 и 20 на 2, предполагая опечатку:"
   ]
  },
  {
   "cell_type": "code",
   "execution_count": 28,
   "metadata": {},
   "outputs": [],
   "source": [
    "def child(row):\n",
    "    if row == -1:\n",
    "        return 1\n",
    "    if row == 20:\n",
    "        return 2\n",
    "    return row\n",
    "\n",
    "\n",
    "data['children'] = data['children'].apply(child)"
   ]
  },
  {
   "cell_type": "markdown",
   "metadata": {},
   "source": [
    "Повторно посмотрю уникальные значения в колонке 'children':"
   ]
  },
  {
   "cell_type": "code",
   "execution_count": 29,
   "metadata": {},
   "outputs": [
    {
     "name": "stdout",
     "output_type": "stream",
     "text": [
      "[0 1 2 3 5 4]\n"
     ]
    }
   ],
   "source": [
    "print(data['children'].unique())"
   ]
  },
  {
   "cell_type": "markdown",
   "metadata": {},
   "source": [
    "Для категоризации дохода заемщиков посмотрю размер минимального и максимального дохода с помощью min() и max():"
   ]
  },
  {
   "cell_type": "code",
   "execution_count": 30,
   "metadata": {},
   "outputs": [
    {
     "name": "stdout",
     "output_type": "stream",
     "text": [
      "Минимальное значение ежемесячного дохода: 20667\n",
      "Максимальное значение ежемесячного дохода: 2265604\n"
     ]
    }
   ],
   "source": [
    "print('Минимальное значение ежемесячного дохода:', data['total_income'].min())\n",
    "print('Максимальное значение ежемесячного дохода:', data['total_income'].max())"
   ]
  },
  {
   "cell_type": "markdown",
   "metadata": {},
   "source": [
    "Далее создам цикл, разбивающий заемщиков по нескольким категорям дохода:"
   ]
  },
  {
   "cell_type": "code",
   "execution_count": 31,
   "metadata": {},
   "outputs": [],
   "source": [
    "def income(row):\n",
    "    if row < 100000:\n",
    "        return 'меньше 100 тыс.'\n",
    "    if 100000 <= row < 200000:\n",
    "        return 'от 100 до 200 тыс.'\n",
    "    if 200000 <= row < 300000:\n",
    "        return 'от 200 до 300 тыс.'\n",
    "    if 300000 <= row < 400000:\n",
    "        return 'от 300 до 400 тыс.'\n",
    "    if 400000 <= row < 500000:\n",
    "        return 'от 400 до 500 тыс.'\n",
    "    if row >= 500000:\n",
    "        return 'от 500 тыс.'\n",
    "    return 'доход не указан'\n",
    "\n",
    "data['income_level'] = data['total_income'].apply(income)"
   ]
  },
  {
   "cell_type": "markdown",
   "metadata": {},
   "source": [
    "Проверю данные о доходе после категоризации:"
   ]
  },
  {
   "cell_type": "code",
   "execution_count": 32,
   "metadata": {},
   "outputs": [
    {
     "name": "stdout",
     "output_type": "stream",
     "text": [
      "['меньше 100 тыс.' 'от 100 до 200 тыс.' 'от 200 до 300 тыс.'\n",
      " 'от 300 до 400 тыс.' 'от 400 до 500 тыс.' 'от 500 тыс.']\n"
     ]
    }
   ],
   "source": [
    "print(data['income_level'].unique())"
   ]
  },
  {
   "cell_type": "markdown",
   "metadata": {},
   "source": [
    "**Вывод**"
   ]
  },
  {
   "cell_type": "markdown",
   "metadata": {},
   "source": [
    "Категоризация данных позволила исключить ошибки, возникшие в результате человеческого фактора в колонке с количеством детей заемщиков, а также разбить на группы заемщиков по количеству детей и по уровню дохода для дальнейщего более эффективного анализа."
   ]
  },
  {
   "cell_type": "markdown",
   "metadata": {},
   "source": [
    "## Исследовательский анализ"
   ]
  },
  {
   "cell_type": "markdown",
   "metadata": {},
   "source": [
    "Для дальнейшего анализа рассчитаю конверсию по всей колонке 'debt'"
   ]
  },
  {
   "cell_type": "code",
   "execution_count": 33,
   "metadata": {},
   "outputs": [
    {
     "name": "stdout",
     "output_type": "stream",
     "text": [
      "Общая средняя конверсия задолженностей по кредитам: 0.08115036822970076\n"
     ]
    }
   ],
   "source": [
    "avg = data['debt'].mean()\n",
    "print('Общая средняя конверсия задолженностей по кредитам:', avg)"
   ]
  },
  {
   "cell_type": "markdown",
   "metadata": {},
   "source": [
    "В последующем анализе зависимость между возвратом кредита в срок и различными категорями заемщиков буду рассчитывать по одной схеме: \n",
    "\n",
    "* с помощью *groupby()* и *agg()* создам сводную таблицу с информацией о количестве кредитов по каждой категории (подколонка *'count'*) и количестве невозвратов в срок (подколонка *'sum'*)\n",
    "\n",
    "* посчитаю по каждой категории конверсию задолженностей и отсортирую конверсию по убыванию (т.е. от наибольшей доли невозвратов к меньшей)\n",
    "\n",
    "* в колонке *'delta'* будет указана разница между конверсией по категории и общей средней конверсии по задолженности\n",
    "    "
   ]
  },
  {
   "cell_type": "markdown",
   "metadata": {},
   "source": [
    "- Есть ли зависимость между наличием детей и возвратом кредита в срок?"
   ]
  },
  {
   "cell_type": "code",
   "execution_count": 34,
   "metadata": {},
   "outputs": [
    {
     "name": "stdout",
     "output_type": "stream",
     "text": [
      "           debt       conversion     delta\n",
      "          count   sum                     \n",
      "children                                  \n",
      "4            41     4   0.097561  0.016411\n",
      "2          2128   202   0.094925  0.013774\n",
      "1          4855   445   0.091658  0.010508\n",
      "3           330    27   0.081818  0.000668\n",
      "0         14091  1063   0.075438 -0.005712\n",
      "5             9     0   0.000000 -0.081150\n"
     ]
    }
   ],
   "source": [
    "children = data.groupby('children').agg({'debt': ['count', 'sum']})\n",
    "\n",
    "children['conversion'] = children['debt']['sum']/children['debt']['count']\n",
    "\n",
    "children['delta'] = children['conversion'] - avg\n",
    "\n",
    "children = children.sort_values('conversion', ascending=False)\n",
    "\n",
    "print(children)\n"
   ]
  },
  {
   "cell_type": "markdown",
   "metadata": {},
   "source": [
    "**Вывод**"
   ]
  },
  {
   "cell_type": "markdown",
   "metadata": {},
   "source": [
    "Для анализа семьи с 4 и 5 детьми выборка составляет всего 41 и 9 заемщиков соответсвенно, что не позволяет сделать однозначного вывода? Но можно отметить, что наибольшую долю невозвратов кредитов в срок имеют семьи с 4 детьми, среди них возвращают кредиты не в срок почти 10% заемщиков, а семьи с 5 детьми не имеют просрочки по кредитам.\n",
    "Заемщики с 1-2 детьми состовляют в сумме выборку из 6983 чел. могут иметь задолженности по кредитам чаще среднего на 1-1,3%.\n",
    "Самая многочисленная категория - заемщики без детей (14091 чел.). Среди них возвращают кредиты не в срок 7,5%, что на половину процента меньше чем общая средняя конверсия невозвратов."
   ]
  },
  {
   "cell_type": "markdown",
   "metadata": {},
   "source": [
    "- Есть ли зависимость между семейным положением и возвратом кредита в срок?"
   ]
  },
  {
   "cell_type": "code",
   "execution_count": 35,
   "metadata": {},
   "outputs": [
    {
     "name": "stdout",
     "output_type": "stream",
     "text": [
      "                        debt      conversion     delta\n",
      "                       count  sum                     \n",
      "family_status                                         \n",
      "не женат / не замужем   2810  274   0.097509  0.016359\n",
      "гражданский брак        4151  388   0.093471  0.012321\n",
      "женат / замужем        12339  931   0.075452 -0.005699\n",
      "в разводе               1195   85   0.071130 -0.010021\n",
      "вдовец / вдова           959   63   0.065693 -0.015457\n"
     ]
    }
   ],
   "source": [
    "marital_status = data.groupby('family_status').agg({'debt': ['count', 'sum']})\n",
    "\n",
    "marital_status['conversion'] = marital_status['debt']['sum']/marital_status['debt']['count']\n",
    "\n",
    "marital_status['delta'] = marital_status['conversion'] - avg\n",
    "\n",
    "marital_status = marital_status.sort_values('conversion', ascending=False)\n",
    "\n",
    "print(marital_status)"
   ]
  },
  {
   "cell_type": "markdown",
   "metadata": {},
   "source": [
    "**Вывод**"
   ]
  },
  {
   "cell_type": "markdown",
   "metadata": {},
   "source": [
    "Наибольшее число кредитов приходится на заемщиков, состоящих в браке (12339 чел.). Среди них 7,54% не возвращают в срок кредиты, что на 1.6% реже среднего значения.\n",
    "Из всех категорий имеют конверсию невозврата выше средней только заемщики, не состоящие в браке или живущие в гражданском: 9,75% и 9,34% соответственно.\n",
    "Самая малочисленная группа 'вдовец/вдова' имеют наименьшее количество невозвратов - 6,56%."
   ]
  },
  {
   "cell_type": "markdown",
   "metadata": {},
   "source": [
    "- Есть ли зависимость между уровнем дохода и возвратом кредита в срок?"
   ]
  },
  {
   "cell_type": "code",
   "execution_count": 36,
   "metadata": {},
   "outputs": [
    {
     "name": "stdout",
     "output_type": "stream",
     "text": [
      "                     debt       conversion     delta\n",
      "                    count   sum                     \n",
      "income_level                                        \n",
      "от 100 до 200 тыс.  11924  1029   0.086297  0.005146\n",
      "меньше 100 тыс.      4463   354   0.079319 -0.001832\n",
      "от 300 до 400 тыс.    954    75   0.078616 -0.002534\n",
      "от 200 до 300 тыс.   3584   252   0.070312 -0.010838\n",
      "от 500 тыс.           222    14   0.063063 -0.018087\n",
      "от 400 до 500 тыс.    307    17   0.055375 -0.025776\n"
     ]
    }
   ],
   "source": [
    "income = data.groupby('income_level').agg({'debt': ['count', 'sum']})\n",
    "\n",
    "income['conversion'] = income['debt']['sum']/income['debt']['count']\n",
    "\n",
    "income['delta'] = income['conversion'] - avg\n",
    "\n",
    "income = income.sort_values('conversion', ascending=False)\n",
    "\n",
    "print(income)"
   ]
  },
  {
   "cell_type": "markdown",
   "metadata": {},
   "source": [
    "**Вывод**"
   ]
  },
  {
   "cell_type": "markdown",
   "metadata": {},
   "source": [
    "Наименьшее количество возвратов кредитов не срок имеют заемщики, относящиеся к категорям дохода 'от 500 тыс.' и 'от 400 до 500 тыс.': 6,3% и 5,5% соответственно.\n",
    "Наибольшее количество кредитов и наибольшее количество невозвратов в срок имеют заемщики, получающие в месяц от 100 до 200 тыс.руб. - их 11924 чел., на которых приходится 8,6% просрочек."
   ]
  },
  {
   "cell_type": "markdown",
   "metadata": {},
   "source": [
    "- Как разные цели кредита влияют на его возврат в срок?"
   ]
  },
  {
   "cell_type": "code",
   "execution_count": 37,
   "metadata": {},
   "outputs": [
    {
     "name": "stdout",
     "output_type": "stream",
     "text": [
      "               debt      conversion     delta\n",
      "              count  sum                     \n",
      "lemmas                                       \n",
      "автомобиль     4306  403   0.093590  0.012440\n",
      "образование    4013  370   0.092200  0.011050\n",
      "свадьба        2324  186   0.080034 -0.001116\n",
      "недвижимость  10811  782   0.072334 -0.008817\n"
     ]
    }
   ],
   "source": [
    "purpose = data.groupby('lemmas').agg({'debt': ['count', 'sum']})\n",
    "\n",
    "purpose['conversion'] = purpose['debt']['sum']/purpose['debt']['count']\n",
    "\n",
    "purpose['delta'] = purpose['conversion'] - avg\n",
    "\n",
    "purpose = purpose.sort_values('conversion', ascending=False)\n",
    "\n",
    "print(purpose)"
   ]
  },
  {
   "cell_type": "markdown",
   "metadata": {},
   "source": [
    "**Вывод**"
   ]
  },
  {
   "cell_type": "markdown",
   "metadata": {},
   "source": [
    "Наибольшее количество невозвратов в срок приходится на заемщиков, взявших кредит на автомобиль - 9,4%. Немного меньше задолжников среди тех, кто брал заемные средства для оплаты образования (на 0,1%).\n",
    "С целью приобретения или ремонта недвижимости кредит взяли 10811 чел., среди которых 782 чел. вернули его не в срок, что состовляет самую большую выборку по всему массиву данных, с конверсией невозврата ниже средней - 7,2%."
   ]
  },
  {
   "cell_type": "markdown",
   "metadata": {},
   "source": [
    "## Общий вывод"
   ]
  },
  {
   "cell_type": "markdown",
   "metadata": {},
   "source": [
    "- В результате исследования было выявлено, что в среднем возвращают кредит не в срок 8,1% заемщиков.\n",
    "- Наибольшее число кредитов приходится на заемщиков, не имеющих детей, среди которых 7,5% не вернули в срок заемные средства. 9 семей с пятью детьми вообще не имели просрочки по кредиту, однако выборка для таких заемщиков очень мала.\n",
    "- Также 7,5% невозвратов имеет самая крупная категория заемщиков, состоящих в браке. Наибольшее количество возвратов кредитов не в срок среди данных категорий имеют заемщики, не состоящие в официальных отношениях - в среднем 9,6%.\n",
    "- Также было выявлено, что заемщики, получающие в месяц от 100 до 200 тыс.руб. чаще берут кредит, но 8,6% из них возвращают кредит не в срок. Заемщики с уровнем ежемесячного дохода от 400 тыс.руб. имеют конверсию меньше 6,3%. Соответственно люди, получающие меньше 100 тыс.руб. наравне с теми, кото зарабатывает от 200 до 400 тыс.руб. имеют почти одинаковую конверсию от 7 до 8%.\n",
    "- Цель для получения кредита 'недвижимость' составляет половину от всех указываемых целей. По ней же самый маленький процент невозврата в срок - 7,2. Также конверсию ниже среднего имеет категория заемщиков, взявшая кредит на свадьбу - 8%. Заемщики, приобетающие на кредитные деньги автомобиль или его ремонт не возвращают в срок в 9,4% случаев.\n"
   ]
  },
  {
   "cell_type": "code",
   "execution_count": null,
   "metadata": {},
   "outputs": [],
   "source": []
  }
 ],
 "metadata": {
  "ExecuteTimeLog": [
   {
    "duration": 2948,
    "start_time": "2021-07-20T11:58:53.966Z"
   },
   {
    "duration": 762,
    "start_time": "2021-07-20T11:59:26.973Z"
   },
   {
    "duration": 737,
    "start_time": "2021-07-20T12:00:54.874Z"
   },
   {
    "duration": 2225,
    "start_time": "2021-07-20T12:01:04.483Z"
   },
   {
    "duration": 2908,
    "start_time": "2021-07-20T12:04:06.967Z"
   },
   {
    "duration": 67,
    "start_time": "2021-07-20T12:10:50.810Z"
   },
   {
    "duration": 95,
    "start_time": "2021-07-20T12:17:49.422Z"
   },
   {
    "duration": 13,
    "start_time": "2021-07-20T12:55:01.567Z"
   },
   {
    "duration": 41,
    "start_time": "2021-07-20T12:59:10.061Z"
   },
   {
    "duration": 35,
    "start_time": "2021-07-20T12:59:31.081Z"
   },
   {
    "duration": 111,
    "start_time": "2021-07-20T14:00:09.525Z"
   },
   {
    "duration": 505,
    "start_time": "2021-07-20T14:09:31.377Z"
   },
   {
    "duration": 880,
    "start_time": "2021-07-20T14:09:43.887Z"
   },
   {
    "duration": 15,
    "start_time": "2021-07-20T14:09:56.472Z"
   },
   {
    "duration": 7,
    "start_time": "2021-07-20T14:10:00.212Z"
   },
   {
    "duration": 13,
    "start_time": "2021-07-20T14:10:03.004Z"
   },
   {
    "duration": 15,
    "start_time": "2021-07-20T14:13:25.347Z"
   },
   {
    "duration": 457,
    "start_time": "2021-07-20T15:13:42.694Z"
   },
   {
    "duration": 7,
    "start_time": "2021-07-20T15:13:49.962Z"
   },
   {
    "duration": 5,
    "start_time": "2021-07-20T15:13:53.336Z"
   },
   {
    "duration": 16,
    "start_time": "2021-07-20T15:15:50.445Z"
   },
   {
    "duration": 22,
    "start_time": "2021-07-20T15:31:00.091Z"
   },
   {
    "duration": 33,
    "start_time": "2021-07-20T15:31:15.967Z"
   },
   {
    "duration": 24,
    "start_time": "2021-07-20T15:31:54.109Z"
   },
   {
    "duration": 864,
    "start_time": "2021-07-20T15:50:42.225Z"
   },
   {
    "duration": 15,
    "start_time": "2021-07-20T15:50:43.092Z"
   },
   {
    "duration": 11,
    "start_time": "2021-07-20T15:50:43.110Z"
   },
   {
    "duration": 34,
    "start_time": "2021-07-20T15:50:43.124Z"
   },
   {
    "duration": 20,
    "start_time": "2021-07-20T15:50:43.161Z"
   },
   {
    "duration": 100,
    "start_time": "2021-07-20T15:50:43.184Z"
   },
   {
    "duration": 68787,
    "start_time": "2021-07-20T15:49:34.500Z"
   },
   {
    "duration": 68785,
    "start_time": "2021-07-20T15:49:34.504Z"
   },
   {
    "duration": 68782,
    "start_time": "2021-07-20T15:49:34.508Z"
   },
   {
    "duration": 68771,
    "start_time": "2021-07-20T15:49:34.521Z"
   },
   {
    "duration": 7,
    "start_time": "2021-07-20T15:51:16.118Z"
   },
   {
    "duration": 16,
    "start_time": "2021-07-20T15:51:18.686Z"
   },
   {
    "duration": 69,
    "start_time": "2021-07-20T15:51:41.069Z"
   },
   {
    "duration": 33,
    "start_time": "2021-07-20T15:55:27.995Z"
   },
   {
    "duration": 5,
    "start_time": "2021-07-20T16:50:55.566Z"
   },
   {
    "duration": 5,
    "start_time": "2021-07-20T16:54:07.868Z"
   },
   {
    "duration": 6,
    "start_time": "2021-07-20T16:54:18.286Z"
   },
   {
    "duration": 5,
    "start_time": "2021-07-20T16:54:53.488Z"
   },
   {
    "duration": 397,
    "start_time": "2021-07-20T16:56:44.455Z"
   },
   {
    "duration": 6,
    "start_time": "2021-07-20T17:07:16.759Z"
   },
   {
    "duration": 60,
    "start_time": "2021-07-20T20:08:52.292Z"
   },
   {
    "duration": 230,
    "start_time": "2021-07-21T10:33:22.315Z"
   },
   {
    "duration": 625,
    "start_time": "2021-07-21T10:33:46.266Z"
   },
   {
    "duration": 12,
    "start_time": "2021-07-21T10:33:50.289Z"
   },
   {
    "duration": 4,
    "start_time": "2021-07-21T10:33:53.531Z"
   },
   {
    "duration": 9,
    "start_time": "2021-07-21T10:34:01.427Z"
   },
   {
    "duration": 8,
    "start_time": "2021-07-21T10:34:05.475Z"
   },
   {
    "duration": 16,
    "start_time": "2021-07-21T10:34:12.357Z"
   },
   {
    "duration": 10,
    "start_time": "2021-07-21T10:34:20.565Z"
   },
   {
    "duration": 346,
    "start_time": "2021-07-21T14:25:52.487Z"
   },
   {
    "duration": 761,
    "start_time": "2021-07-21T14:26:20.686Z"
   },
   {
    "duration": 15,
    "start_time": "2021-07-21T14:26:21.449Z"
   },
   {
    "duration": 4,
    "start_time": "2021-07-21T14:26:21.467Z"
   },
   {
    "duration": 13,
    "start_time": "2021-07-21T14:26:21.474Z"
   },
   {
    "duration": 11,
    "start_time": "2021-07-21T14:26:21.490Z"
   },
   {
    "duration": 61,
    "start_time": "2021-07-21T14:26:21.503Z"
   },
   {
    "duration": 14,
    "start_time": "2021-07-21T14:26:21.566Z"
   },
   {
    "duration": 5,
    "start_time": "2021-07-21T14:26:21.583Z"
   },
   {
    "duration": 19,
    "start_time": "2021-07-21T14:26:21.591Z"
   },
   {
    "duration": 148,
    "start_time": "2021-07-21T14:26:21.612Z"
   },
   {
    "duration": 33,
    "start_time": "2021-07-21T14:26:21.762Z"
   },
   {
    "duration": 81,
    "start_time": "2021-07-21T14:26:21.797Z"
   },
   {
    "duration": 24,
    "start_time": "2021-07-21T14:26:21.880Z"
   },
   {
    "duration": 57,
    "start_time": "2021-07-21T14:39:54.274Z"
   },
   {
    "duration": 4,
    "start_time": "2021-07-21T14:49:33.005Z"
   },
   {
    "duration": 16,
    "start_time": "2021-07-21T14:49:35.797Z"
   },
   {
    "duration": 23,
    "start_time": "2021-07-21T14:50:06.064Z"
   },
   {
    "duration": 795,
    "start_time": "2021-07-21T14:50:13.781Z"
   },
   {
    "duration": 15,
    "start_time": "2021-07-21T14:50:14.579Z"
   },
   {
    "duration": 8,
    "start_time": "2021-07-21T14:50:14.597Z"
   },
   {
    "duration": 17,
    "start_time": "2021-07-21T14:50:14.608Z"
   },
   {
    "duration": 12,
    "start_time": "2021-07-21T14:50:14.655Z"
   },
   {
    "duration": 28,
    "start_time": "2021-07-21T14:50:14.670Z"
   },
   {
    "duration": 13,
    "start_time": "2021-07-21T14:50:14.700Z"
   },
   {
    "duration": 46,
    "start_time": "2021-07-21T14:50:14.717Z"
   },
   {
    "duration": 4,
    "start_time": "2021-07-21T14:50:14.766Z"
   },
   {
    "duration": 23,
    "start_time": "2021-07-21T14:50:14.772Z"
   },
   {
    "duration": 145,
    "start_time": "2021-07-21T14:50:14.797Z"
   },
   {
    "duration": 38,
    "start_time": "2021-07-21T14:50:14.945Z"
   },
   {
    "duration": 82,
    "start_time": "2021-07-21T14:50:14.985Z"
   },
   {
    "duration": 24,
    "start_time": "2021-07-21T14:50:15.070Z"
   },
   {
    "duration": 823,
    "start_time": "2021-07-21T14:50:37.246Z"
   },
   {
    "duration": 14,
    "start_time": "2021-07-21T14:50:38.072Z"
   },
   {
    "duration": 12,
    "start_time": "2021-07-21T14:50:38.089Z"
   },
   {
    "duration": 13,
    "start_time": "2021-07-21T14:50:38.104Z"
   },
   {
    "duration": 15,
    "start_time": "2021-07-21T14:50:38.119Z"
   },
   {
    "duration": 41,
    "start_time": "2021-07-21T14:50:38.136Z"
   },
   {
    "duration": 12,
    "start_time": "2021-07-21T14:50:38.180Z"
   },
   {
    "duration": 16,
    "start_time": "2021-07-21T14:50:38.196Z"
   },
   {
    "duration": 40,
    "start_time": "2021-07-21T14:50:38.215Z"
   },
   {
    "duration": 15,
    "start_time": "2021-07-21T14:50:38.257Z"
   },
   {
    "duration": 129,
    "start_time": "2021-07-21T14:50:38.275Z"
   },
   {
    "duration": 32,
    "start_time": "2021-07-21T14:50:38.407Z"
   },
   {
    "duration": 61,
    "start_time": "2021-07-21T14:50:38.454Z"
   },
   {
    "duration": 43,
    "start_time": "2021-07-21T14:50:38.518Z"
   },
   {
    "duration": 851,
    "start_time": "2021-07-21T14:51:03.730Z"
   },
   {
    "duration": 16,
    "start_time": "2021-07-21T14:51:07.775Z"
   },
   {
    "duration": 5,
    "start_time": "2021-07-21T14:51:15.503Z"
   },
   {
    "duration": 12,
    "start_time": "2021-07-21T14:51:18.099Z"
   },
   {
    "duration": 13,
    "start_time": "2021-07-21T14:51:20.939Z"
   },
   {
    "duration": 25,
    "start_time": "2021-07-21T14:51:23.313Z"
   },
   {
    "duration": 13,
    "start_time": "2021-07-21T14:51:27.414Z"
   },
   {
    "duration": 16,
    "start_time": "2021-07-21T14:51:31.199Z"
   },
   {
    "duration": 801,
    "start_time": "2021-07-21T14:52:17.069Z"
   },
   {
    "duration": 15,
    "start_time": "2021-07-21T14:52:17.873Z"
   },
   {
    "duration": 6,
    "start_time": "2021-07-21T14:52:17.891Z"
   },
   {
    "duration": 15,
    "start_time": "2021-07-21T14:52:17.900Z"
   },
   {
    "duration": 3,
    "start_time": "2021-07-21T14:52:17.917Z"
   },
   {
    "duration": 33,
    "start_time": "2021-07-21T14:52:17.922Z"
   },
   {
    "duration": 14,
    "start_time": "2021-07-21T14:52:17.958Z"
   },
   {
    "duration": 16,
    "start_time": "2021-07-21T14:52:17.975Z"
   },
   {
    "duration": 4,
    "start_time": "2021-07-21T14:52:17.993Z"
   },
   {
    "duration": 17,
    "start_time": "2021-07-21T14:52:17.999Z"
   },
   {
    "duration": 70,
    "start_time": "2021-07-21T14:52:18.055Z"
   },
   {
    "duration": 55,
    "start_time": "2021-07-21T14:52:18.127Z"
   },
   {
    "duration": 77,
    "start_time": "2021-07-21T14:52:18.184Z"
   },
   {
    "duration": 26,
    "start_time": "2021-07-21T14:52:18.263Z"
   },
   {
    "duration": 827,
    "start_time": "2021-07-21T14:52:40.931Z"
   },
   {
    "duration": 15,
    "start_time": "2021-07-21T14:52:41.761Z"
   },
   {
    "duration": 15,
    "start_time": "2021-07-21T14:52:41.779Z"
   },
   {
    "duration": 23,
    "start_time": "2021-07-21T14:52:41.797Z"
   },
   {
    "duration": 12,
    "start_time": "2021-07-21T14:52:41.822Z"
   },
   {
    "duration": 23,
    "start_time": "2021-07-21T14:52:41.836Z"
   },
   {
    "duration": 26,
    "start_time": "2021-07-21T14:52:41.861Z"
   },
   {
    "duration": 26,
    "start_time": "2021-07-21T14:52:41.891Z"
   },
   {
    "duration": 381,
    "start_time": "2021-07-21T14:52:41.919Z"
   },
   {
    "duration": 70008,
    "start_time": "2021-07-21T14:51:32.295Z"
   },
   {
    "duration": 70008,
    "start_time": "2021-07-21T14:51:32.296Z"
   },
   {
    "duration": 70008,
    "start_time": "2021-07-21T14:51:32.298Z"
   },
   {
    "duration": 70007,
    "start_time": "2021-07-21T14:51:32.300Z"
   },
   {
    "duration": 70008,
    "start_time": "2021-07-21T14:51:32.301Z"
   },
   {
    "duration": 351,
    "start_time": "2021-07-21T14:53:11.910Z"
   },
   {
    "duration": 282,
    "start_time": "2021-07-21T14:53:16.674Z"
   },
   {
    "duration": 283,
    "start_time": "2021-07-21T14:53:41.109Z"
   },
   {
    "duration": 15,
    "start_time": "2021-07-21T14:56:47.546Z"
   },
   {
    "duration": 70,
    "start_time": "2021-07-21T14:56:55.343Z"
   },
   {
    "duration": 36,
    "start_time": "2021-07-21T14:56:59.755Z"
   },
   {
    "duration": 69,
    "start_time": "2021-07-21T14:57:09.531Z"
   },
   {
    "duration": 34,
    "start_time": "2021-07-21T14:57:24.158Z"
   },
   {
    "duration": 30,
    "start_time": "2021-07-21T14:57:47.548Z"
   },
   {
    "duration": 26,
    "start_time": "2021-07-21T14:57:51.389Z"
   },
   {
    "duration": 12,
    "start_time": "2021-07-21T15:50:18.689Z"
   },
   {
    "duration": 15,
    "start_time": "2021-07-21T16:00:48.293Z"
   },
   {
    "duration": 287,
    "start_time": "2021-07-21T16:29:21.824Z"
   },
   {
    "duration": 17,
    "start_time": "2021-07-21T16:30:41.783Z"
   },
   {
    "duration": 414,
    "start_time": "2021-07-21T19:27:35.362Z"
   },
   {
    "duration": 635,
    "start_time": "2021-07-21T19:27:50.198Z"
   },
   {
    "duration": 11,
    "start_time": "2021-07-21T19:27:50.835Z"
   },
   {
    "duration": 3,
    "start_time": "2021-07-21T19:27:50.848Z"
   },
   {
    "duration": 10,
    "start_time": "2021-07-21T19:27:50.853Z"
   },
   {
    "duration": 2,
    "start_time": "2021-07-21T19:27:50.864Z"
   },
   {
    "duration": 4,
    "start_time": "2021-07-21T19:27:50.868Z"
   },
   {
    "duration": 10,
    "start_time": "2021-07-21T19:27:50.874Z"
   },
   {
    "duration": 9,
    "start_time": "2021-07-21T19:27:50.886Z"
   },
   {
    "duration": 344,
    "start_time": "2021-07-21T19:27:50.897Z"
   },
   {
    "duration": 69987,
    "start_time": "2021-07-21T19:26:41.256Z"
   },
   {
    "duration": 69983,
    "start_time": "2021-07-21T19:26:41.261Z"
   },
   {
    "duration": 69980,
    "start_time": "2021-07-21T19:26:41.265Z"
   },
   {
    "duration": 69978,
    "start_time": "2021-07-21T19:26:41.268Z"
   },
   {
    "duration": 69975,
    "start_time": "2021-07-21T19:26:41.272Z"
   },
   {
    "duration": 69973,
    "start_time": "2021-07-21T19:26:41.275Z"
   },
   {
    "duration": 69972,
    "start_time": "2021-07-21T19:26:41.277Z"
   },
   {
    "duration": 623,
    "start_time": "2021-07-21T19:28:48.475Z"
   },
   {
    "duration": 12,
    "start_time": "2021-07-21T19:28:49.101Z"
   },
   {
    "duration": 3,
    "start_time": "2021-07-21T19:28:49.116Z"
   },
   {
    "duration": 19,
    "start_time": "2021-07-21T19:28:49.122Z"
   },
   {
    "duration": 3,
    "start_time": "2021-07-21T19:28:49.142Z"
   },
   {
    "duration": 4,
    "start_time": "2021-07-21T19:28:49.147Z"
   },
   {
    "duration": 10,
    "start_time": "2021-07-21T19:28:49.153Z"
   },
   {
    "duration": 11,
    "start_time": "2021-07-21T19:28:49.166Z"
   },
   {
    "duration": 2,
    "start_time": "2021-07-21T19:28:49.179Z"
   },
   {
    "duration": 11,
    "start_time": "2021-07-21T19:28:49.183Z"
   },
   {
    "duration": 79,
    "start_time": "2021-07-21T19:28:49.196Z"
   },
   {
    "duration": 23,
    "start_time": "2021-07-21T19:28:49.277Z"
   },
   {
    "duration": 21,
    "start_time": "2021-07-21T19:28:49.301Z"
   },
   {
    "duration": 37,
    "start_time": "2021-07-21T19:28:49.323Z"
   },
   {
    "duration": 8,
    "start_time": "2021-07-21T19:28:49.361Z"
   },
   {
    "duration": 7,
    "start_time": "2021-07-21T19:28:49.371Z"
   },
   {
    "duration": 357,
    "start_time": "2021-07-21T21:15:53.064Z"
   },
   {
    "duration": 3192,
    "start_time": "2021-07-21T21:16:33.507Z"
   },
   {
    "duration": 5535,
    "start_time": "2021-07-21T21:20:43.559Z"
   },
   {
    "duration": 263,
    "start_time": "2021-07-21T21:22:12.719Z"
   },
   {
    "duration": 5556,
    "start_time": "2021-07-21T21:22:35.936Z"
   },
   {
    "duration": 3330,
    "start_time": "2021-07-21T21:25:48.689Z"
   },
   {
    "duration": 3692,
    "start_time": "2021-07-21T21:26:07.017Z"
   },
   {
    "duration": 99,
    "start_time": "2021-07-21T21:32:06.751Z"
   },
   {
    "duration": 12,
    "start_time": "2021-07-21T21:33:42.262Z"
   },
   {
    "duration": 274,
    "start_time": "2021-07-21T21:33:54.064Z"
   },
   {
    "duration": 1323,
    "start_time": "2021-07-21T21:34:25.087Z"
   },
   {
    "duration": 1293,
    "start_time": "2021-07-21T21:35:08.535Z"
   },
   {
    "duration": 1211,
    "start_time": "2021-07-21T21:38:06.740Z"
   },
   {
    "duration": 1217,
    "start_time": "2021-07-21T21:51:06.704Z"
   },
   {
    "duration": 339,
    "start_time": "2021-07-22T10:11:43.622Z"
   },
   {
    "duration": 621,
    "start_time": "2021-07-22T10:12:00.305Z"
   },
   {
    "duration": 11,
    "start_time": "2021-07-22T10:12:00.929Z"
   },
   {
    "duration": 12,
    "start_time": "2021-07-22T10:12:00.942Z"
   },
   {
    "duration": 24,
    "start_time": "2021-07-22T10:12:00.956Z"
   },
   {
    "duration": 16,
    "start_time": "2021-07-22T10:12:00.982Z"
   },
   {
    "duration": 10,
    "start_time": "2021-07-22T10:12:01.000Z"
   },
   {
    "duration": 31,
    "start_time": "2021-07-22T10:12:01.012Z"
   },
   {
    "duration": 24,
    "start_time": "2021-07-22T10:12:01.046Z"
   },
   {
    "duration": 11,
    "start_time": "2021-07-22T10:12:01.073Z"
   },
   {
    "duration": 18,
    "start_time": "2021-07-22T10:12:01.085Z"
   },
   {
    "duration": 64,
    "start_time": "2021-07-22T10:12:01.105Z"
   },
   {
    "duration": 24,
    "start_time": "2021-07-22T10:12:01.170Z"
   },
   {
    "duration": 20,
    "start_time": "2021-07-22T10:12:01.196Z"
   },
   {
    "duration": 39,
    "start_time": "2021-07-22T10:12:01.218Z"
   },
   {
    "duration": 8,
    "start_time": "2021-07-22T10:12:01.259Z"
   },
   {
    "duration": 23,
    "start_time": "2021-07-22T10:12:01.269Z"
   },
   {
    "duration": 3279,
    "start_time": "2021-07-22T10:12:01.293Z"
   },
   {
    "duration": 5268,
    "start_time": "2021-07-22T10:12:04.574Z"
   },
   {
    "duration": 18,
    "start_time": "2021-07-22T10:12:09.844Z"
   },
   {
    "duration": 2127,
    "start_time": "2021-07-22T10:12:28.969Z"
   },
   {
    "duration": 97,
    "start_time": "2021-07-22T10:13:27.310Z"
   },
   {
    "duration": 1279,
    "start_time": "2021-07-22T10:13:50.248Z"
   },
   {
    "duration": 1340,
    "start_time": "2021-07-22T10:14:46.904Z"
   },
   {
    "duration": 5,
    "start_time": "2021-07-22T10:24:28.650Z"
   },
   {
    "duration": 1239,
    "start_time": "2021-07-22T10:24:45.303Z"
   },
   {
    "duration": 668,
    "start_time": "2021-07-22T10:26:49.729Z"
   },
   {
    "duration": 10,
    "start_time": "2021-07-22T10:26:50.399Z"
   },
   {
    "duration": 5,
    "start_time": "2021-07-22T10:26:50.411Z"
   },
   {
    "duration": 10,
    "start_time": "2021-07-22T10:26:50.417Z"
   },
   {
    "duration": 1,
    "start_time": "2021-07-22T10:26:50.429Z"
   },
   {
    "duration": 5,
    "start_time": "2021-07-22T10:26:50.432Z"
   },
   {
    "duration": 9,
    "start_time": "2021-07-22T10:26:50.441Z"
   },
   {
    "duration": 13,
    "start_time": "2021-07-22T10:26:50.453Z"
   },
   {
    "duration": 2,
    "start_time": "2021-07-22T10:26:50.468Z"
   },
   {
    "duration": 15,
    "start_time": "2021-07-22T10:26:50.472Z"
   },
   {
    "duration": 62,
    "start_time": "2021-07-22T10:26:50.488Z"
   },
   {
    "duration": 30,
    "start_time": "2021-07-22T10:26:50.551Z"
   },
   {
    "duration": 19,
    "start_time": "2021-07-22T10:26:50.583Z"
   },
   {
    "duration": 38,
    "start_time": "2021-07-22T10:26:50.604Z"
   },
   {
    "duration": 13,
    "start_time": "2021-07-22T10:26:50.645Z"
   },
   {
    "duration": 9,
    "start_time": "2021-07-22T10:26:50.660Z"
   },
   {
    "duration": 3560,
    "start_time": "2021-07-22T10:26:50.671Z"
   },
   {
    "duration": 5524,
    "start_time": "2021-07-22T10:26:54.241Z"
   },
   {
    "duration": 19,
    "start_time": "2021-07-22T10:26:59.767Z"
   },
   {
    "duration": 12,
    "start_time": "2021-07-22T10:27:27.867Z"
   },
   {
    "duration": 6,
    "start_time": "2021-07-22T10:27:59.675Z"
   },
   {
    "duration": 13,
    "start_time": "2021-07-22T10:37:39.848Z"
   },
   {
    "duration": 4,
    "start_time": "2021-07-22T10:37:42.193Z"
   },
   {
    "duration": 6,
    "start_time": "2021-07-22T11:15:00.255Z"
   },
   {
    "duration": 667,
    "start_time": "2021-07-22T13:46:00.521Z"
   },
   {
    "duration": 1089,
    "start_time": "2021-07-22T13:46:11.335Z"
   },
   {
    "duration": 19,
    "start_time": "2021-07-22T13:46:12.427Z"
   },
   {
    "duration": 4,
    "start_time": "2021-07-22T13:46:12.461Z"
   },
   {
    "duration": 17,
    "start_time": "2021-07-22T13:46:12.469Z"
   },
   {
    "duration": 14,
    "start_time": "2021-07-22T13:46:12.489Z"
   },
   {
    "duration": 6,
    "start_time": "2021-07-22T13:46:12.506Z"
   },
   {
    "duration": 14,
    "start_time": "2021-07-22T13:46:12.515Z"
   },
   {
    "duration": 20,
    "start_time": "2021-07-22T13:46:12.562Z"
   },
   {
    "duration": 3,
    "start_time": "2021-07-22T13:46:12.586Z"
   },
   {
    "duration": 15,
    "start_time": "2021-07-22T13:46:12.591Z"
   },
   {
    "duration": 99,
    "start_time": "2021-07-22T13:46:12.608Z"
   },
   {
    "duration": 56,
    "start_time": "2021-07-22T13:46:12.709Z"
   },
   {
    "duration": 30,
    "start_time": "2021-07-22T13:46:12.767Z"
   },
   {
    "duration": 32,
    "start_time": "2021-07-22T13:46:12.799Z"
   },
   {
    "duration": 38,
    "start_time": "2021-07-22T13:46:12.834Z"
   },
   {
    "duration": 10,
    "start_time": "2021-07-22T13:46:12.874Z"
   },
   {
    "duration": 4654,
    "start_time": "2021-07-22T13:46:12.886Z"
   },
   {
    "duration": 8534,
    "start_time": "2021-07-22T13:46:17.543Z"
   },
   {
    "duration": 27,
    "start_time": "2021-07-22T13:46:26.080Z"
   },
   {
    "duration": 8,
    "start_time": "2021-07-22T13:46:26.111Z"
   },
   {
    "duration": 45,
    "start_time": "2021-07-22T13:46:26.122Z"
   },
   {
    "duration": 19,
    "start_time": "2021-07-22T13:46:26.170Z"
   },
   {
    "duration": 15,
    "start_time": "2021-07-22T13:48:44.804Z"
   },
   {
    "duration": 6,
    "start_time": "2021-07-22T13:48:47.451Z"
   },
   {
    "duration": 9,
    "start_time": "2021-07-22T14:04:44.542Z"
   },
   {
    "duration": 6,
    "start_time": "2021-07-22T14:08:17.849Z"
   },
   {
    "duration": 7,
    "start_time": "2021-07-22T14:08:29.635Z"
   },
   {
    "duration": 6,
    "start_time": "2021-07-22T14:09:33.982Z"
   },
   {
    "duration": 8377,
    "start_time": "2021-07-22T14:11:20.672Z"
   },
   {
    "duration": 17,
    "start_time": "2021-07-22T14:11:29.223Z"
   },
   {
    "duration": 16,
    "start_time": "2021-07-22T14:11:32.157Z"
   },
   {
    "duration": 7,
    "start_time": "2021-07-22T14:11:35.199Z"
   },
   {
    "duration": 7,
    "start_time": "2021-07-22T14:11:46.020Z"
   },
   {
    "duration": 7,
    "start_time": "2021-07-22T14:11:56.292Z"
   },
   {
    "duration": 6,
    "start_time": "2021-07-22T15:02:57.982Z"
   },
   {
    "duration": 9,
    "start_time": "2021-07-22T15:04:46.825Z"
   },
   {
    "duration": 339,
    "start_time": "2021-07-22T15:22:27.051Z"
   },
   {
    "duration": 75,
    "start_time": "2021-07-22T15:22:46.111Z"
   },
   {
    "duration": 8,
    "start_time": "2021-07-22T15:23:01.335Z"
   },
   {
    "duration": 6,
    "start_time": "2021-07-22T15:23:13.002Z"
   },
   {
    "duration": 9,
    "start_time": "2021-07-22T15:23:18.798Z"
   },
   {
    "duration": 64,
    "start_time": "2021-07-22T15:23:24.418Z"
   },
   {
    "duration": 50,
    "start_time": "2021-07-22T15:27:01.705Z"
   },
   {
    "duration": 11,
    "start_time": "2021-07-22T15:28:34.439Z"
   },
   {
    "duration": 992,
    "start_time": "2021-07-22T15:37:51.611Z"
   },
   {
    "duration": 24,
    "start_time": "2021-07-22T15:37:52.606Z"
   },
   {
    "duration": 6,
    "start_time": "2021-07-22T15:37:52.634Z"
   },
   {
    "duration": 12,
    "start_time": "2021-07-22T15:37:52.662Z"
   },
   {
    "duration": 11,
    "start_time": "2021-07-22T15:37:52.677Z"
   },
   {
    "duration": 7,
    "start_time": "2021-07-22T15:37:52.690Z"
   },
   {
    "duration": 19,
    "start_time": "2021-07-22T15:37:52.699Z"
   },
   {
    "duration": 96,
    "start_time": "2021-07-22T15:37:52.723Z"
   },
   {
    "duration": 11,
    "start_time": "2021-07-22T15:37:52.823Z"
   },
   {
    "duration": 30,
    "start_time": "2021-07-22T15:37:52.837Z"
   },
   {
    "duration": 21,
    "start_time": "2021-07-22T15:37:52.870Z"
   },
   {
    "duration": 10,
    "start_time": "2021-07-22T15:37:52.894Z"
   },
   {
    "duration": 11,
    "start_time": "2021-07-22T15:37:52.907Z"
   },
   {
    "duration": 41,
    "start_time": "2021-07-22T15:37:52.921Z"
   },
   {
    "duration": 10,
    "start_time": "2021-07-22T15:37:52.965Z"
   },
   {
    "duration": 11,
    "start_time": "2021-07-22T15:37:52.978Z"
   },
   {
    "duration": 17,
    "start_time": "2021-07-22T15:37:52.992Z"
   },
   {
    "duration": 56,
    "start_time": "2021-07-22T15:37:53.012Z"
   },
   {
    "duration": 3,
    "start_time": "2021-07-22T15:37:53.071Z"
   },
   {
    "duration": 23,
    "start_time": "2021-07-22T15:37:53.077Z"
   },
   {
    "duration": 86,
    "start_time": "2021-07-22T15:37:53.102Z"
   },
   {
    "duration": 39,
    "start_time": "2021-07-22T15:37:53.191Z"
   },
   {
    "duration": 57,
    "start_time": "2021-07-22T15:37:53.235Z"
   },
   {
    "duration": 25,
    "start_time": "2021-07-22T15:37:53.295Z"
   },
   {
    "duration": 40,
    "start_time": "2021-07-22T15:37:53.323Z"
   },
   {
    "duration": 7,
    "start_time": "2021-07-22T15:37:53.365Z"
   },
   {
    "duration": 4799,
    "start_time": "2021-07-22T15:37:53.375Z"
   },
   {
    "duration": 8760,
    "start_time": "2021-07-22T15:37:58.177Z"
   },
   {
    "duration": 44,
    "start_time": "2021-07-22T15:38:06.939Z"
   },
   {
    "duration": 7,
    "start_time": "2021-07-22T15:38:06.985Z"
   },
   {
    "duration": 7,
    "start_time": "2021-07-22T15:38:06.995Z"
   },
   {
    "duration": 17,
    "start_time": "2021-07-22T15:38:07.005Z"
   },
   {
    "duration": 38,
    "start_time": "2021-07-22T15:38:07.025Z"
   },
   {
    "duration": 7,
    "start_time": "2021-07-22T15:38:07.065Z"
   },
   {
    "duration": 22,
    "start_time": "2021-07-22T15:38:07.076Z"
   },
   {
    "duration": 8,
    "start_time": "2021-07-22T15:38:07.101Z"
   },
   {
    "duration": 6,
    "start_time": "2021-07-22T15:43:35.514Z"
   },
   {
    "duration": 9,
    "start_time": "2021-07-22T15:43:52.737Z"
   },
   {
    "duration": 413,
    "start_time": "2021-07-22T15:44:18.575Z"
   },
   {
    "duration": 408,
    "start_time": "2021-07-22T15:44:35.429Z"
   },
   {
    "duration": 6,
    "start_time": "2021-07-22T15:44:50.197Z"
   },
   {
    "duration": 332,
    "start_time": "2021-07-22T15:45:07.028Z"
   },
   {
    "duration": 6,
    "start_time": "2021-07-22T15:45:23.496Z"
   },
   {
    "duration": 332,
    "start_time": "2021-07-22T15:46:28.079Z"
   },
   {
    "duration": 9,
    "start_time": "2021-07-22T15:53:17.194Z"
   },
   {
    "duration": 29,
    "start_time": "2021-07-22T16:09:47.559Z"
   },
   {
    "duration": 678,
    "start_time": "2021-07-23T10:50:11.622Z"
   },
   {
    "duration": 12,
    "start_time": "2021-07-23T10:50:12.302Z"
   },
   {
    "duration": 10,
    "start_time": "2021-07-23T10:50:12.316Z"
   },
   {
    "duration": 20,
    "start_time": "2021-07-23T10:50:12.328Z"
   },
   {
    "duration": 4,
    "start_time": "2021-07-23T10:50:12.351Z"
   },
   {
    "duration": 15,
    "start_time": "2021-07-23T10:50:12.357Z"
   },
   {
    "duration": 12,
    "start_time": "2021-07-23T10:50:12.373Z"
   },
   {
    "duration": 42,
    "start_time": "2021-07-23T10:50:12.387Z"
   },
   {
    "duration": 26,
    "start_time": "2021-07-23T10:50:12.431Z"
   },
   {
    "duration": 17,
    "start_time": "2021-07-23T10:50:12.459Z"
   },
   {
    "duration": 11,
    "start_time": "2021-07-23T10:50:12.478Z"
   },
   {
    "duration": 2115,
    "start_time": "2021-07-23T10:50:12.491Z"
   },
   {
    "duration": 4,
    "start_time": "2021-07-23T10:50:14.608Z"
   },
   {
    "duration": 10,
    "start_time": "2021-07-23T10:50:14.614Z"
   },
   {
    "duration": 16,
    "start_time": "2021-07-23T10:50:14.641Z"
   },
   {
    "duration": 6,
    "start_time": "2021-07-23T10:50:14.659Z"
   },
   {
    "duration": 15,
    "start_time": "2021-07-23T10:50:14.666Z"
   },
   {
    "duration": 46,
    "start_time": "2021-07-23T10:50:14.683Z"
   },
   {
    "duration": 32,
    "start_time": "2021-07-23T10:50:14.731Z"
   },
   {
    "duration": 20,
    "start_time": "2021-07-23T10:50:14.765Z"
   },
   {
    "duration": 17,
    "start_time": "2021-07-23T10:50:14.786Z"
   },
   {
    "duration": 8,
    "start_time": "2021-07-23T10:50:14.805Z"
   },
   {
    "duration": 31,
    "start_time": "2021-07-23T10:50:14.816Z"
   },
   {
    "duration": 3468,
    "start_time": "2021-07-23T10:50:14.850Z"
   },
   {
    "duration": 5718,
    "start_time": "2021-07-23T10:50:18.320Z"
   },
   {
    "duration": 25,
    "start_time": "2021-07-23T10:50:24.039Z"
   },
   {
    "duration": 13,
    "start_time": "2021-07-23T10:50:24.066Z"
   },
   {
    "duration": 4,
    "start_time": "2021-07-23T10:50:24.081Z"
   },
   {
    "duration": 10,
    "start_time": "2021-07-23T10:50:24.087Z"
   },
   {
    "duration": 4,
    "start_time": "2021-07-23T10:50:24.099Z"
   },
   {
    "duration": 37,
    "start_time": "2021-07-23T10:50:24.105Z"
   },
   {
    "duration": 15,
    "start_time": "2021-07-23T10:50:24.145Z"
   },
   {
    "duration": 8,
    "start_time": "2021-07-23T10:50:24.162Z"
   },
   {
    "duration": 6,
    "start_time": "2021-07-23T10:51:03.280Z"
   },
   {
    "duration": 758,
    "start_time": "2021-07-23T10:51:09.987Z"
   },
   {
    "duration": 13,
    "start_time": "2021-07-23T10:51:10.747Z"
   },
   {
    "duration": 31,
    "start_time": "2021-07-23T10:51:10.762Z"
   },
   {
    "duration": 34,
    "start_time": "2021-07-23T10:51:10.795Z"
   },
   {
    "duration": 47,
    "start_time": "2021-07-23T10:51:10.831Z"
   },
   {
    "duration": 39,
    "start_time": "2021-07-23T10:51:10.880Z"
   },
   {
    "duration": 55,
    "start_time": "2021-07-23T10:51:10.921Z"
   },
   {
    "duration": 55,
    "start_time": "2021-07-23T10:51:10.978Z"
   },
   {
    "duration": 28,
    "start_time": "2021-07-23T10:51:11.034Z"
   },
   {
    "duration": 29,
    "start_time": "2021-07-23T10:51:11.064Z"
   },
   {
    "duration": 16,
    "start_time": "2021-07-23T10:51:11.095Z"
   },
   {
    "duration": 2105,
    "start_time": "2021-07-23T10:51:11.113Z"
   },
   {
    "duration": 3,
    "start_time": "2021-07-23T10:51:13.220Z"
   },
   {
    "duration": 34,
    "start_time": "2021-07-23T10:51:13.225Z"
   },
   {
    "duration": 33,
    "start_time": "2021-07-23T10:51:13.261Z"
   },
   {
    "duration": 21,
    "start_time": "2021-07-23T10:51:13.296Z"
   },
   {
    "duration": 50,
    "start_time": "2021-07-23T10:51:13.319Z"
   },
   {
    "duration": 52,
    "start_time": "2021-07-23T10:51:13.371Z"
   },
   {
    "duration": 36,
    "start_time": "2021-07-23T10:51:13.424Z"
   },
   {
    "duration": 31,
    "start_time": "2021-07-23T10:51:13.462Z"
   },
   {
    "duration": 32,
    "start_time": "2021-07-23T10:51:13.495Z"
   },
   {
    "duration": 22,
    "start_time": "2021-07-23T10:51:13.529Z"
   },
   {
    "duration": 29,
    "start_time": "2021-07-23T10:51:13.556Z"
   },
   {
    "duration": 3474,
    "start_time": "2021-07-23T10:51:13.587Z"
   },
   {
    "duration": 5340,
    "start_time": "2021-07-23T10:51:17.063Z"
   },
   {
    "duration": 22,
    "start_time": "2021-07-23T10:51:22.405Z"
   },
   {
    "duration": 13,
    "start_time": "2021-07-23T10:51:22.428Z"
   },
   {
    "duration": 6,
    "start_time": "2021-07-23T10:51:22.443Z"
   },
   {
    "duration": 30,
    "start_time": "2021-07-23T10:51:22.450Z"
   },
   {
    "duration": 21,
    "start_time": "2021-07-23T10:51:22.482Z"
   },
   {
    "duration": 25,
    "start_time": "2021-07-23T10:51:22.505Z"
   },
   {
    "duration": 24,
    "start_time": "2021-07-23T10:51:22.532Z"
   },
   {
    "duration": 10,
    "start_time": "2021-07-23T10:51:22.558Z"
   },
   {
    "duration": 308,
    "start_time": "2021-07-23T17:33:59.242Z"
   },
   {
    "duration": 646,
    "start_time": "2021-07-23T17:34:04.731Z"
   },
   {
    "duration": 10,
    "start_time": "2021-07-23T17:34:05.380Z"
   },
   {
    "duration": 3,
    "start_time": "2021-07-23T17:34:05.392Z"
   },
   {
    "duration": 14,
    "start_time": "2021-07-23T17:34:05.396Z"
   },
   {
    "duration": 7,
    "start_time": "2021-07-23T17:34:05.411Z"
   },
   {
    "duration": 43,
    "start_time": "2021-07-23T17:34:05.420Z"
   },
   {
    "duration": 19,
    "start_time": "2021-07-23T17:34:05.465Z"
   },
   {
    "duration": 15,
    "start_time": "2021-07-23T17:34:05.486Z"
   },
   {
    "duration": 3,
    "start_time": "2021-07-23T17:34:05.503Z"
   },
   {
    "duration": 1933,
    "start_time": "2021-07-23T17:34:05.507Z"
   },
   {
    "duration": 3,
    "start_time": "2021-07-23T17:34:07.442Z"
   },
   {
    "duration": 12,
    "start_time": "2021-07-23T17:34:07.446Z"
   },
   {
    "duration": 11,
    "start_time": "2021-07-23T17:34:07.459Z"
   },
   {
    "duration": 4,
    "start_time": "2021-07-23T17:34:07.471Z"
   },
   {
    "duration": 12,
    "start_time": "2021-07-23T17:34:07.477Z"
   },
   {
    "duration": 67,
    "start_time": "2021-07-23T17:34:07.490Z"
   },
   {
    "duration": 23,
    "start_time": "2021-07-23T17:34:07.558Z"
   },
   {
    "duration": 20,
    "start_time": "2021-07-23T17:34:07.583Z"
   },
   {
    "duration": 37,
    "start_time": "2021-07-23T17:34:07.605Z"
   },
   {
    "duration": 8,
    "start_time": "2021-07-23T17:34:07.643Z"
   },
   {
    "duration": 8,
    "start_time": "2021-07-23T17:34:07.653Z"
   },
   {
    "duration": 3319,
    "start_time": "2021-07-23T17:34:07.662Z"
   },
   {
    "duration": 5265,
    "start_time": "2021-07-23T17:34:10.984Z"
   },
   {
    "duration": 18,
    "start_time": "2021-07-23T17:34:16.251Z"
   },
   {
    "duration": 28,
    "start_time": "2021-07-23T17:34:16.271Z"
   },
   {
    "duration": 13,
    "start_time": "2021-07-23T17:34:16.301Z"
   },
   {
    "duration": 21,
    "start_time": "2021-07-23T17:34:16.316Z"
   },
   {
    "duration": 12,
    "start_time": "2021-07-23T17:34:16.338Z"
   },
   {
    "duration": 8,
    "start_time": "2021-07-23T17:34:16.351Z"
   },
   {
    "duration": 20,
    "start_time": "2021-07-23T17:34:16.361Z"
   },
   {
    "duration": 7,
    "start_time": "2021-07-23T17:34:16.383Z"
   },
   {
    "duration": 14,
    "start_time": "2021-07-23T17:34:16.392Z"
   },
   {
    "duration": 28,
    "start_time": "2021-07-23T17:34:42.455Z"
   },
   {
    "duration": 15,
    "start_time": "2021-07-23T17:36:07.339Z"
   },
   {
    "duration": 14,
    "start_time": "2021-07-23T17:39:53.813Z"
   },
   {
    "duration": 12,
    "start_time": "2021-07-23T17:40:23.903Z"
   },
   {
    "duration": 15,
    "start_time": "2021-07-23T17:40:47.664Z"
   },
   {
    "duration": 14,
    "start_time": "2021-07-23T17:41:51.469Z"
   },
   {
    "duration": 15,
    "start_time": "2021-07-23T17:44:58.585Z"
   },
   {
    "duration": 16,
    "start_time": "2021-07-23T17:46:15.092Z"
   },
   {
    "duration": 13,
    "start_time": "2021-07-23T17:46:39.191Z"
   },
   {
    "duration": 15,
    "start_time": "2021-07-23T17:47:37.747Z"
   },
   {
    "duration": 14,
    "start_time": "2021-07-23T17:49:17.030Z"
   },
   {
    "duration": 598,
    "start_time": "2021-07-23T20:34:35.373Z"
   },
   {
    "duration": 10,
    "start_time": "2021-07-23T20:34:35.973Z"
   },
   {
    "duration": 3,
    "start_time": "2021-07-23T20:34:35.985Z"
   },
   {
    "duration": 14,
    "start_time": "2021-07-23T20:34:35.989Z"
   },
   {
    "duration": 50,
    "start_time": "2021-07-23T20:34:36.004Z"
   },
   {
    "duration": 338,
    "start_time": "2021-07-23T20:34:36.055Z"
   },
   {
    "duration": 70650,
    "start_time": "2021-07-23T20:33:25.746Z"
   },
   {
    "duration": 70640,
    "start_time": "2021-07-23T20:33:25.757Z"
   },
   {
    "duration": 70638,
    "start_time": "2021-07-23T20:33:25.760Z"
   },
   {
    "duration": 70637,
    "start_time": "2021-07-23T20:33:25.762Z"
   },
   {
    "duration": 70635,
    "start_time": "2021-07-23T20:33:25.765Z"
   },
   {
    "duration": 70634,
    "start_time": "2021-07-23T20:33:25.767Z"
   },
   {
    "duration": 70634,
    "start_time": "2021-07-23T20:33:25.768Z"
   },
   {
    "duration": 70633,
    "start_time": "2021-07-23T20:33:25.770Z"
   },
   {
    "duration": 70582,
    "start_time": "2021-07-23T20:33:25.822Z"
   },
   {
    "duration": 70579,
    "start_time": "2021-07-23T20:33:25.825Z"
   },
   {
    "duration": 70578,
    "start_time": "2021-07-23T20:33:25.827Z"
   },
   {
    "duration": 70576,
    "start_time": "2021-07-23T20:33:25.830Z"
   },
   {
    "duration": 70574,
    "start_time": "2021-07-23T20:33:25.833Z"
   },
   {
    "duration": 70573,
    "start_time": "2021-07-23T20:33:25.835Z"
   },
   {
    "duration": 70568,
    "start_time": "2021-07-23T20:33:25.841Z"
   },
   {
    "duration": 70567,
    "start_time": "2021-07-23T20:33:25.843Z"
   },
   {
    "duration": 70564,
    "start_time": "2021-07-23T20:33:25.847Z"
   },
   {
    "duration": 70561,
    "start_time": "2021-07-23T20:33:25.851Z"
   },
   {
    "duration": 70560,
    "start_time": "2021-07-23T20:33:25.853Z"
   },
   {
    "duration": 70559,
    "start_time": "2021-07-23T20:33:25.855Z"
   },
   {
    "duration": 70557,
    "start_time": "2021-07-23T20:33:25.857Z"
   },
   {
    "duration": 70557,
    "start_time": "2021-07-23T20:33:25.858Z"
   },
   {
    "duration": 70556,
    "start_time": "2021-07-23T20:33:25.860Z"
   },
   {
    "duration": 70556,
    "start_time": "2021-07-23T20:33:25.861Z"
   },
   {
    "duration": 70555,
    "start_time": "2021-07-23T20:33:25.863Z"
   },
   {
    "duration": 70554,
    "start_time": "2021-07-23T20:33:25.865Z"
   },
   {
    "duration": 70551,
    "start_time": "2021-07-23T20:33:25.868Z"
   },
   {
    "duration": 70545,
    "start_time": "2021-07-23T20:33:25.875Z"
   },
   {
    "duration": 70544,
    "start_time": "2021-07-23T20:33:25.877Z"
   },
   {
    "duration": 650,
    "start_time": "2021-07-23T20:34:56.481Z"
   },
   {
    "duration": 13,
    "start_time": "2021-07-23T20:34:57.133Z"
   },
   {
    "duration": 4,
    "start_time": "2021-07-23T20:34:57.148Z"
   },
   {
    "duration": 10,
    "start_time": "2021-07-23T20:34:57.154Z"
   },
   {
    "duration": 5,
    "start_time": "2021-07-23T20:34:57.166Z"
   },
   {
    "duration": 29,
    "start_time": "2021-07-23T20:34:57.173Z"
   },
   {
    "duration": 21,
    "start_time": "2021-07-23T20:34:57.240Z"
   },
   {
    "duration": 17,
    "start_time": "2021-07-23T20:34:57.264Z"
   },
   {
    "duration": 3,
    "start_time": "2021-07-23T20:34:57.283Z"
   },
   {
    "duration": 2083,
    "start_time": "2021-07-23T20:34:57.288Z"
   },
   {
    "duration": 4,
    "start_time": "2021-07-23T20:34:59.372Z"
   },
   {
    "duration": 11,
    "start_time": "2021-07-23T20:34:59.378Z"
   },
   {
    "duration": 11,
    "start_time": "2021-07-23T20:34:59.391Z"
   },
   {
    "duration": 5,
    "start_time": "2021-07-23T20:34:59.403Z"
   },
   {
    "duration": 35,
    "start_time": "2021-07-23T20:34:59.410Z"
   },
   {
    "duration": 46,
    "start_time": "2021-07-23T20:34:59.447Z"
   },
   {
    "duration": 25,
    "start_time": "2021-07-23T20:34:59.494Z"
   },
   {
    "duration": 39,
    "start_time": "2021-07-23T20:34:59.521Z"
   },
   {
    "duration": 16,
    "start_time": "2021-07-23T20:34:59.562Z"
   },
   {
    "duration": 8,
    "start_time": "2021-07-23T20:34:59.579Z"
   },
   {
    "duration": 8,
    "start_time": "2021-07-23T20:34:59.589Z"
   },
   {
    "duration": 3472,
    "start_time": "2021-07-23T20:34:59.599Z"
   },
   {
    "duration": 5202,
    "start_time": "2021-07-23T20:35:03.076Z"
   },
   {
    "duration": 18,
    "start_time": "2021-07-23T20:35:08.280Z"
   },
   {
    "duration": 4,
    "start_time": "2021-07-23T20:35:08.300Z"
   },
   {
    "duration": 35,
    "start_time": "2021-07-23T20:35:08.306Z"
   },
   {
    "duration": 10,
    "start_time": "2021-07-23T20:35:08.342Z"
   },
   {
    "duration": 5,
    "start_time": "2021-07-23T20:35:08.354Z"
   },
   {
    "duration": 7,
    "start_time": "2021-07-23T20:35:08.361Z"
   },
   {
    "duration": 13,
    "start_time": "2021-07-23T20:35:08.370Z"
   },
   {
    "duration": 7,
    "start_time": "2021-07-23T20:35:08.385Z"
   },
   {
    "duration": 7,
    "start_time": "2021-07-23T20:35:08.394Z"
   },
   {
    "duration": 59,
    "start_time": "2021-07-23T20:35:08.403Z"
   },
   {
    "duration": 15,
    "start_time": "2021-07-23T20:35:08.464Z"
   },
   {
    "duration": 15,
    "start_time": "2021-07-23T20:35:08.481Z"
   },
   {
    "duration": 14,
    "start_time": "2021-07-23T20:35:08.497Z"
   },
   {
    "duration": 636,
    "start_time": "2021-07-23T20:38:21.252Z"
   },
   {
    "duration": 9,
    "start_time": "2021-07-23T20:38:21.890Z"
   },
   {
    "duration": 4,
    "start_time": "2021-07-23T20:38:21.901Z"
   },
   {
    "duration": 9,
    "start_time": "2021-07-23T20:38:21.907Z"
   },
   {
    "duration": 4,
    "start_time": "2021-07-23T20:38:21.918Z"
   },
   {
    "duration": 18,
    "start_time": "2021-07-23T20:38:21.923Z"
   },
   {
    "duration": 18,
    "start_time": "2021-07-23T20:38:21.942Z"
   },
   {
    "duration": 14,
    "start_time": "2021-07-23T20:38:21.963Z"
   },
   {
    "duration": 3,
    "start_time": "2021-07-23T20:38:21.979Z"
   },
   {
    "duration": 1924,
    "start_time": "2021-07-23T20:38:21.984Z"
   },
   {
    "duration": 3,
    "start_time": "2021-07-23T20:38:23.910Z"
   },
   {
    "duration": 13,
    "start_time": "2021-07-23T20:38:23.915Z"
   },
   {
    "duration": 20,
    "start_time": "2021-07-23T20:38:23.930Z"
   },
   {
    "duration": 9,
    "start_time": "2021-07-23T20:38:23.951Z"
   },
   {
    "duration": 20,
    "start_time": "2021-07-23T20:38:23.961Z"
   },
   {
    "duration": 41,
    "start_time": "2021-07-23T20:38:23.982Z"
   },
   {
    "duration": 36,
    "start_time": "2021-07-23T20:38:24.025Z"
   },
   {
    "duration": 21,
    "start_time": "2021-07-23T20:38:24.063Z"
   },
   {
    "duration": 20,
    "start_time": "2021-07-23T20:38:24.086Z"
   },
   {
    "duration": 7,
    "start_time": "2021-07-23T20:38:24.108Z"
   },
   {
    "duration": 5,
    "start_time": "2021-07-23T20:38:24.141Z"
   },
   {
    "duration": 3302,
    "start_time": "2021-07-23T20:38:24.148Z"
   },
   {
    "duration": 5259,
    "start_time": "2021-07-23T20:38:27.454Z"
   },
   {
    "duration": 33,
    "start_time": "2021-07-23T20:38:32.716Z"
   },
   {
    "duration": 5,
    "start_time": "2021-07-23T20:38:32.751Z"
   },
   {
    "duration": 6,
    "start_time": "2021-07-23T20:38:32.758Z"
   },
   {
    "duration": 10,
    "start_time": "2021-07-23T20:38:32.766Z"
   },
   {
    "duration": 5,
    "start_time": "2021-07-23T20:38:32.778Z"
   },
   {
    "duration": 5,
    "start_time": "2021-07-23T20:38:32.785Z"
   },
   {
    "duration": 10,
    "start_time": "2021-07-23T20:38:32.792Z"
   },
   {
    "duration": 7,
    "start_time": "2021-07-23T20:38:32.840Z"
   },
   {
    "duration": 8,
    "start_time": "2021-07-23T20:38:32.849Z"
   },
   {
    "duration": 29,
    "start_time": "2021-07-23T20:38:32.858Z"
   },
   {
    "duration": 14,
    "start_time": "2021-07-23T20:38:32.889Z"
   },
   {
    "duration": 44,
    "start_time": "2021-07-23T20:38:32.905Z"
   },
   {
    "duration": 15,
    "start_time": "2021-07-23T20:38:32.951Z"
   },
   {
    "duration": 10,
    "start_time": "2021-07-23T20:43:40.409Z"
   },
   {
    "duration": 11,
    "start_time": "2021-07-23T20:44:01.384Z"
   },
   {
    "duration": 13,
    "start_time": "2021-07-23T20:44:16.592Z"
   },
   {
    "duration": 4,
    "start_time": "2021-07-23T21:05:28.289Z"
   },
   {
    "duration": 4,
    "start_time": "2021-07-23T21:05:48.444Z"
   },
   {
    "duration": 5,
    "start_time": "2021-07-23T21:25:41.817Z"
   },
   {
    "duration": 7,
    "start_time": "2021-07-23T21:36:44.269Z"
   },
   {
    "duration": 4,
    "start_time": "2021-07-23T21:39:29.805Z"
   },
   {
    "duration": 4,
    "start_time": "2021-07-23T21:41:18.566Z"
   },
   {
    "duration": 4,
    "start_time": "2021-07-23T21:41:58.160Z"
   },
   {
    "duration": 4,
    "start_time": "2021-07-23T21:42:05.696Z"
   },
   {
    "duration": 14,
    "start_time": "2021-07-23T21:50:01.628Z"
   },
   {
    "duration": 4,
    "start_time": "2021-07-23T21:54:09.058Z"
   },
   {
    "duration": 16,
    "start_time": "2021-07-23T21:54:21.107Z"
   },
   {
    "duration": 23,
    "start_time": "2021-07-23T22:00:50.253Z"
   },
   {
    "duration": 16,
    "start_time": "2021-07-23T22:03:45.956Z"
   },
   {
    "duration": 17,
    "start_time": "2021-07-23T22:08:40.269Z"
   },
   {
    "duration": 635,
    "start_time": "2021-07-23T22:32:22.734Z"
   },
   {
    "duration": 9,
    "start_time": "2021-07-23T22:32:23.371Z"
   },
   {
    "duration": 12,
    "start_time": "2021-07-23T22:32:23.381Z"
   },
   {
    "duration": 18,
    "start_time": "2021-07-23T22:32:23.394Z"
   },
   {
    "duration": 12,
    "start_time": "2021-07-23T22:32:23.413Z"
   },
   {
    "duration": 9,
    "start_time": "2021-07-23T22:32:23.426Z"
   },
   {
    "duration": 89,
    "start_time": "2021-07-23T22:32:23.436Z"
   },
   {
    "duration": 70528,
    "start_time": "2021-07-23T22:31:12.999Z"
   },
   {
    "duration": 70526,
    "start_time": "2021-07-23T22:31:13.002Z"
   },
   {
    "duration": 70524,
    "start_time": "2021-07-23T22:31:13.005Z"
   },
   {
    "duration": 70523,
    "start_time": "2021-07-23T22:31:13.007Z"
   },
   {
    "duration": 70522,
    "start_time": "2021-07-23T22:31:13.009Z"
   },
   {
    "duration": 70520,
    "start_time": "2021-07-23T22:31:13.012Z"
   },
   {
    "duration": 70518,
    "start_time": "2021-07-23T22:31:13.014Z"
   },
   {
    "duration": 70517,
    "start_time": "2021-07-23T22:31:13.017Z"
   },
   {
    "duration": 70515,
    "start_time": "2021-07-23T22:31:13.019Z"
   },
   {
    "duration": 70514,
    "start_time": "2021-07-23T22:31:13.021Z"
   },
   {
    "duration": 70513,
    "start_time": "2021-07-23T22:31:13.023Z"
   },
   {
    "duration": 70512,
    "start_time": "2021-07-23T22:31:13.025Z"
   },
   {
    "duration": 70512,
    "start_time": "2021-07-23T22:31:13.026Z"
   },
   {
    "duration": 70511,
    "start_time": "2021-07-23T22:31:13.028Z"
   },
   {
    "duration": 70510,
    "start_time": "2021-07-23T22:31:13.030Z"
   },
   {
    "duration": 70509,
    "start_time": "2021-07-23T22:31:13.032Z"
   },
   {
    "duration": 70508,
    "start_time": "2021-07-23T22:31:13.034Z"
   },
   {
    "duration": 70506,
    "start_time": "2021-07-23T22:31:13.036Z"
   },
   {
    "duration": 70506,
    "start_time": "2021-07-23T22:31:13.037Z"
   },
   {
    "duration": 70505,
    "start_time": "2021-07-23T22:31:13.039Z"
   },
   {
    "duration": 70504,
    "start_time": "2021-07-23T22:31:13.041Z"
   },
   {
    "duration": 70504,
    "start_time": "2021-07-23T22:31:13.042Z"
   },
   {
    "duration": 70503,
    "start_time": "2021-07-23T22:31:13.044Z"
   },
   {
    "duration": 70501,
    "start_time": "2021-07-23T22:31:13.046Z"
   },
   {
    "duration": 70500,
    "start_time": "2021-07-23T22:31:13.048Z"
   },
   {
    "duration": 70499,
    "start_time": "2021-07-23T22:31:13.050Z"
   },
   {
    "duration": 70498,
    "start_time": "2021-07-23T22:31:13.052Z"
   },
   {
    "duration": 70497,
    "start_time": "2021-07-23T22:31:13.054Z"
   },
   {
    "duration": 70497,
    "start_time": "2021-07-23T22:31:13.055Z"
   },
   {
    "duration": 70496,
    "start_time": "2021-07-23T22:31:13.057Z"
   },
   {
    "duration": 70496,
    "start_time": "2021-07-23T22:31:13.058Z"
   },
   {
    "duration": 70479,
    "start_time": "2021-07-23T22:31:13.077Z"
   },
   {
    "duration": 326,
    "start_time": "2021-07-23T22:32:23.558Z"
   },
   {
    "duration": 70443,
    "start_time": "2021-07-23T22:31:13.444Z"
   },
   {
    "duration": 268,
    "start_time": "2021-07-23T22:36:58.360Z"
   },
   {
    "duration": 669,
    "start_time": "2021-07-23T22:37:19.606Z"
   },
   {
    "duration": 10,
    "start_time": "2021-07-23T22:37:20.277Z"
   },
   {
    "duration": 3,
    "start_time": "2021-07-23T22:37:20.289Z"
   },
   {
    "duration": 10,
    "start_time": "2021-07-23T22:37:20.294Z"
   },
   {
    "duration": 4,
    "start_time": "2021-07-23T22:37:20.305Z"
   },
   {
    "duration": 30,
    "start_time": "2021-07-23T22:37:20.311Z"
   },
   {
    "duration": 93,
    "start_time": "2021-07-23T22:37:20.343Z"
   },
   {
    "duration": 70624,
    "start_time": "2021-07-23T22:36:09.815Z"
   },
   {
    "duration": 70622,
    "start_time": "2021-07-23T22:36:09.818Z"
   },
   {
    "duration": 70610,
    "start_time": "2021-07-23T22:36:09.830Z"
   },
   {
    "duration": 70605,
    "start_time": "2021-07-23T22:36:09.836Z"
   },
   {
    "duration": 70602,
    "start_time": "2021-07-23T22:36:09.840Z"
   },
   {
    "duration": 70601,
    "start_time": "2021-07-23T22:36:09.842Z"
   },
   {
    "duration": 70600,
    "start_time": "2021-07-23T22:36:09.844Z"
   },
   {
    "duration": 70591,
    "start_time": "2021-07-23T22:36:09.854Z"
   },
   {
    "duration": 70590,
    "start_time": "2021-07-23T22:36:09.856Z"
   },
   {
    "duration": 70588,
    "start_time": "2021-07-23T22:36:09.859Z"
   },
   {
    "duration": 70582,
    "start_time": "2021-07-23T22:36:09.866Z"
   },
   {
    "duration": 70577,
    "start_time": "2021-07-23T22:36:09.871Z"
   },
   {
    "duration": 70575,
    "start_time": "2021-07-23T22:36:09.874Z"
   },
   {
    "duration": 70559,
    "start_time": "2021-07-23T22:36:09.891Z"
   },
   {
    "duration": 70558,
    "start_time": "2021-07-23T22:36:09.893Z"
   },
   {
    "duration": 70556,
    "start_time": "2021-07-23T22:36:09.896Z"
   },
   {
    "duration": 70554,
    "start_time": "2021-07-23T22:36:09.899Z"
   },
   {
    "duration": 70553,
    "start_time": "2021-07-23T22:36:09.901Z"
   },
   {
    "duration": 70551,
    "start_time": "2021-07-23T22:36:09.904Z"
   },
   {
    "duration": 70549,
    "start_time": "2021-07-23T22:36:09.907Z"
   },
   {
    "duration": 70547,
    "start_time": "2021-07-23T22:36:09.909Z"
   },
   {
    "duration": 70546,
    "start_time": "2021-07-23T22:36:09.911Z"
   },
   {
    "duration": 70545,
    "start_time": "2021-07-23T22:36:09.913Z"
   },
   {
    "duration": 70520,
    "start_time": "2021-07-23T22:36:09.939Z"
   },
   {
    "duration": 70508,
    "start_time": "2021-07-23T22:36:09.952Z"
   },
   {
    "duration": 70506,
    "start_time": "2021-07-23T22:36:09.955Z"
   },
   {
    "duration": 70497,
    "start_time": "2021-07-23T22:36:09.964Z"
   },
   {
    "duration": 70496,
    "start_time": "2021-07-23T22:36:09.966Z"
   },
   {
    "duration": 70495,
    "start_time": "2021-07-23T22:36:09.969Z"
   },
   {
    "duration": 70489,
    "start_time": "2021-07-23T22:36:09.975Z"
   },
   {
    "duration": 70487,
    "start_time": "2021-07-23T22:36:09.978Z"
   },
   {
    "duration": 70486,
    "start_time": "2021-07-23T22:36:09.980Z"
   },
   {
    "duration": 70485,
    "start_time": "2021-07-23T22:36:09.982Z"
   },
   {
    "duration": 620,
    "start_time": "2021-07-23T22:37:41.970Z"
   },
   {
    "duration": 11,
    "start_time": "2021-07-23T22:37:42.592Z"
   },
   {
    "duration": 3,
    "start_time": "2021-07-23T22:37:42.605Z"
   },
   {
    "duration": 9,
    "start_time": "2021-07-23T22:37:42.610Z"
   },
   {
    "duration": 7,
    "start_time": "2021-07-23T22:37:42.621Z"
   },
   {
    "duration": 17,
    "start_time": "2021-07-23T22:37:42.630Z"
   },
   {
    "duration": 19,
    "start_time": "2021-07-23T22:37:42.649Z"
   },
   {
    "duration": 16,
    "start_time": "2021-07-23T22:37:42.670Z"
   },
   {
    "duration": 4,
    "start_time": "2021-07-23T22:37:42.688Z"
   },
   {
    "duration": 1956,
    "start_time": "2021-07-23T22:37:42.693Z"
   },
   {
    "duration": 489,
    "start_time": "2021-07-23T22:37:44.651Z"
   },
   {
    "duration": 70637,
    "start_time": "2021-07-23T22:36:34.505Z"
   },
   {
    "duration": 70635,
    "start_time": "2021-07-23T22:36:34.508Z"
   },
   {
    "duration": 70632,
    "start_time": "2021-07-23T22:36:34.512Z"
   },
   {
    "duration": 70625,
    "start_time": "2021-07-23T22:36:34.521Z"
   },
   {
    "duration": 70579,
    "start_time": "2021-07-23T22:36:34.567Z"
   },
   {
    "duration": 70571,
    "start_time": "2021-07-23T22:36:34.576Z"
   },
   {
    "duration": 70566,
    "start_time": "2021-07-23T22:36:34.582Z"
   },
   {
    "duration": 70559,
    "start_time": "2021-07-23T22:36:34.590Z"
   },
   {
    "duration": 70557,
    "start_time": "2021-07-23T22:36:34.593Z"
   },
   {
    "duration": 70556,
    "start_time": "2021-07-23T22:36:34.595Z"
   },
   {
    "duration": 70552,
    "start_time": "2021-07-23T22:36:34.600Z"
   },
   {
    "duration": 70551,
    "start_time": "2021-07-23T22:36:34.602Z"
   },
   {
    "duration": 70549,
    "start_time": "2021-07-23T22:36:34.605Z"
   },
   {
    "duration": 70548,
    "start_time": "2021-07-23T22:36:34.608Z"
   },
   {
    "duration": 70546,
    "start_time": "2021-07-23T22:36:34.611Z"
   },
   {
    "duration": 70544,
    "start_time": "2021-07-23T22:36:34.614Z"
   },
   {
    "duration": 70543,
    "start_time": "2021-07-23T22:36:34.616Z"
   },
   {
    "duration": 70542,
    "start_time": "2021-07-23T22:36:34.618Z"
   },
   {
    "duration": 70542,
    "start_time": "2021-07-23T22:36:34.620Z"
   },
   {
    "duration": 70540,
    "start_time": "2021-07-23T22:36:34.622Z"
   },
   {
    "duration": 70538,
    "start_time": "2021-07-23T22:36:34.625Z"
   },
   {
    "duration": 70537,
    "start_time": "2021-07-23T22:36:34.627Z"
   },
   {
    "duration": 70535,
    "start_time": "2021-07-23T22:36:34.630Z"
   },
   {
    "duration": 70533,
    "start_time": "2021-07-23T22:36:34.633Z"
   },
   {
    "duration": 70531,
    "start_time": "2021-07-23T22:36:34.636Z"
   },
   {
    "duration": 70497,
    "start_time": "2021-07-23T22:36:34.671Z"
   },
   {
    "duration": 70491,
    "start_time": "2021-07-23T22:36:34.677Z"
   },
   {
    "duration": 70487,
    "start_time": "2021-07-23T22:36:34.682Z"
   },
   {
    "duration": 625,
    "start_time": "2021-07-23T22:38:28.042Z"
   },
   {
    "duration": 11,
    "start_time": "2021-07-23T22:38:28.669Z"
   },
   {
    "duration": 3,
    "start_time": "2021-07-23T22:38:28.682Z"
   },
   {
    "duration": 10,
    "start_time": "2021-07-23T22:38:28.687Z"
   },
   {
    "duration": 6,
    "start_time": "2021-07-23T22:38:28.699Z"
   },
   {
    "duration": 9,
    "start_time": "2021-07-23T22:38:28.707Z"
   },
   {
    "duration": 39,
    "start_time": "2021-07-23T22:38:28.717Z"
   },
   {
    "duration": 15,
    "start_time": "2021-07-23T22:38:28.758Z"
   },
   {
    "duration": 3,
    "start_time": "2021-07-23T22:38:28.775Z"
   },
   {
    "duration": 2207,
    "start_time": "2021-07-23T22:38:28.779Z"
   },
   {
    "duration": 4,
    "start_time": "2021-07-23T22:38:30.988Z"
   },
   {
    "duration": 15,
    "start_time": "2021-07-23T22:38:30.994Z"
   },
   {
    "duration": 13,
    "start_time": "2021-07-23T22:38:31.010Z"
   },
   {
    "duration": 18,
    "start_time": "2021-07-23T22:38:31.025Z"
   },
   {
    "duration": 10,
    "start_time": "2021-07-23T22:38:31.045Z"
   },
   {
    "duration": 16,
    "start_time": "2021-07-23T22:38:31.057Z"
   },
   {
    "duration": 43,
    "start_time": "2021-07-23T22:38:31.075Z"
   },
   {
    "duration": 40,
    "start_time": "2021-07-23T22:38:31.120Z"
   },
   {
    "duration": 23,
    "start_time": "2021-07-23T22:38:31.162Z"
   },
   {
    "duration": 22,
    "start_time": "2021-07-23T22:38:31.187Z"
   },
   {
    "duration": 31,
    "start_time": "2021-07-23T22:38:31.211Z"
   },
   {
    "duration": 12,
    "start_time": "2021-07-23T22:38:31.244Z"
   },
   {
    "duration": 3386,
    "start_time": "2021-07-23T22:38:31.259Z"
   },
   {
    "duration": 5321,
    "start_time": "2021-07-23T22:38:34.646Z"
   },
   {
    "duration": 25,
    "start_time": "2021-07-23T22:38:39.969Z"
   },
   {
    "duration": 5,
    "start_time": "2021-07-23T22:38:39.996Z"
   },
   {
    "duration": 13,
    "start_time": "2021-07-23T22:38:40.003Z"
   },
   {
    "duration": 27,
    "start_time": "2021-07-23T22:38:40.017Z"
   },
   {
    "duration": 18,
    "start_time": "2021-07-23T22:38:40.046Z"
   },
   {
    "duration": 5,
    "start_time": "2021-07-23T22:38:40.066Z"
   },
   {
    "duration": 11,
    "start_time": "2021-07-23T22:38:40.073Z"
   },
   {
    "duration": 8,
    "start_time": "2021-07-23T22:38:40.085Z"
   },
   {
    "duration": 5,
    "start_time": "2021-07-23T22:38:40.094Z"
   },
   {
    "duration": 53,
    "start_time": "2021-07-23T22:38:40.100Z"
   },
   {
    "duration": 15,
    "start_time": "2021-07-23T22:38:40.155Z"
   },
   {
    "duration": 14,
    "start_time": "2021-07-23T22:38:40.172Z"
   },
   {
    "duration": 15,
    "start_time": "2021-07-23T22:38:40.188Z"
   },
   {
    "duration": 10,
    "start_time": "2021-07-23T22:57:54.103Z"
   },
   {
    "duration": 8,
    "start_time": "2021-07-23T22:59:08.090Z"
   },
   {
    "duration": 20,
    "start_time": "2021-07-23T23:05:08.253Z"
   },
   {
    "duration": 1865,
    "start_time": "2021-07-23T23:06:40.331Z"
   },
   {
    "duration": 4,
    "start_time": "2021-07-23T23:06:42.197Z"
   },
   {
    "duration": 17,
    "start_time": "2021-07-23T23:06:54.055Z"
   },
   {
    "duration": 19,
    "start_time": "2021-07-23T23:09:56.046Z"
   },
   {
    "duration": 1941,
    "start_time": "2021-07-23T23:10:54.082Z"
   },
   {
    "duration": 1965,
    "start_time": "2021-07-23T23:11:15.437Z"
   },
   {
    "duration": 589,
    "start_time": "2021-07-23T23:16:09.969Z"
   },
   {
    "duration": 10,
    "start_time": "2021-07-23T23:16:10.560Z"
   },
   {
    "duration": 6,
    "start_time": "2021-07-23T23:16:10.572Z"
   },
   {
    "duration": 16,
    "start_time": "2021-07-23T23:16:10.580Z"
   },
   {
    "duration": 9,
    "start_time": "2021-07-23T23:16:10.598Z"
   },
   {
    "duration": 21,
    "start_time": "2021-07-23T23:16:10.609Z"
   },
   {
    "duration": 20,
    "start_time": "2021-07-23T23:16:10.631Z"
   },
   {
    "duration": 16,
    "start_time": "2021-07-23T23:16:10.654Z"
   },
   {
    "duration": 3,
    "start_time": "2021-07-23T23:16:10.672Z"
   },
   {
    "duration": 1895,
    "start_time": "2021-07-23T23:16:10.676Z"
   },
   {
    "duration": 4,
    "start_time": "2021-07-23T23:16:12.573Z"
   },
   {
    "duration": 6,
    "start_time": "2021-07-23T23:16:12.578Z"
   },
   {
    "duration": 9,
    "start_time": "2021-07-23T23:16:12.585Z"
   },
   {
    "duration": 11,
    "start_time": "2021-07-23T23:16:12.596Z"
   },
   {
    "duration": 5,
    "start_time": "2021-07-23T23:16:12.609Z"
   },
   {
    "duration": 11,
    "start_time": "2021-07-23T23:16:12.641Z"
   },
   {
    "duration": 41,
    "start_time": "2021-07-23T23:16:12.654Z"
   },
   {
    "duration": 48,
    "start_time": "2021-07-23T23:16:12.697Z"
   },
   {
    "duration": 21,
    "start_time": "2021-07-23T23:16:12.747Z"
   },
   {
    "duration": 21,
    "start_time": "2021-07-23T23:16:12.770Z"
   },
   {
    "duration": 9,
    "start_time": "2021-07-23T23:16:12.793Z"
   },
   {
    "duration": 7,
    "start_time": "2021-07-23T23:16:12.804Z"
   },
   {
    "duration": 3283,
    "start_time": "2021-07-23T23:16:12.842Z"
   },
   {
    "duration": 5401,
    "start_time": "2021-07-23T23:16:16.127Z"
   },
   {
    "duration": 23,
    "start_time": "2021-07-23T23:16:21.530Z"
   },
   {
    "duration": 6,
    "start_time": "2021-07-23T23:16:21.555Z"
   },
   {
    "duration": 5,
    "start_time": "2021-07-23T23:16:21.562Z"
   },
   {
    "duration": 10,
    "start_time": "2021-07-23T23:16:21.568Z"
   },
   {
    "duration": 5,
    "start_time": "2021-07-23T23:16:21.579Z"
   },
   {
    "duration": 7,
    "start_time": "2021-07-23T23:16:21.585Z"
   },
   {
    "duration": 8,
    "start_time": "2021-07-23T23:16:21.593Z"
   },
   {
    "duration": 6,
    "start_time": "2021-07-23T23:16:21.603Z"
   },
   {
    "duration": 3,
    "start_time": "2021-07-23T23:16:21.641Z"
   },
   {
    "duration": 30,
    "start_time": "2021-07-23T23:16:21.646Z"
   },
   {
    "duration": 15,
    "start_time": "2021-07-23T23:16:21.677Z"
   },
   {
    "duration": 14,
    "start_time": "2021-07-23T23:16:21.694Z"
   },
   {
    "duration": 36,
    "start_time": "2021-07-23T23:16:21.709Z"
   },
   {
    "duration": 21,
    "start_time": "2021-07-23T23:17:50.518Z"
   },
   {
    "duration": 8,
    "start_time": "2021-07-23T23:20:21.995Z"
   },
   {
    "duration": 5,
    "start_time": "2021-07-23T23:20:26.609Z"
   },
   {
    "duration": 637,
    "start_time": "2021-07-23T23:24:57.499Z"
   },
   {
    "duration": 13,
    "start_time": "2021-07-23T23:24:58.139Z"
   },
   {
    "duration": 4,
    "start_time": "2021-07-23T23:24:58.154Z"
   },
   {
    "duration": 10,
    "start_time": "2021-07-23T23:24:58.160Z"
   },
   {
    "duration": 5,
    "start_time": "2021-07-23T23:24:58.172Z"
   },
   {
    "duration": 10,
    "start_time": "2021-07-23T23:24:58.179Z"
   },
   {
    "duration": 58,
    "start_time": "2021-07-23T23:24:58.191Z"
   },
   {
    "duration": 18,
    "start_time": "2021-07-23T23:24:58.251Z"
   },
   {
    "duration": 3,
    "start_time": "2021-07-23T23:24:58.272Z"
   },
   {
    "duration": 2133,
    "start_time": "2021-07-23T23:24:58.277Z"
   },
   {
    "duration": 3,
    "start_time": "2021-07-23T23:25:00.412Z"
   },
   {
    "duration": 11,
    "start_time": "2021-07-23T23:25:00.417Z"
   },
   {
    "duration": 14,
    "start_time": "2021-07-23T23:25:00.429Z"
   },
   {
    "duration": 15,
    "start_time": "2021-07-23T23:25:00.445Z"
   },
   {
    "duration": 18,
    "start_time": "2021-07-23T23:25:00.462Z"
   },
   {
    "duration": 20,
    "start_time": "2021-07-23T23:25:00.482Z"
   },
   {
    "duration": 42,
    "start_time": "2021-07-23T23:25:00.504Z"
   },
   {
    "duration": 23,
    "start_time": "2021-07-23T23:25:00.547Z"
   },
   {
    "duration": 20,
    "start_time": "2021-07-23T23:25:00.571Z"
   },
   {
    "duration": 14,
    "start_time": "2021-07-23T23:25:00.593Z"
   },
   {
    "duration": 8,
    "start_time": "2021-07-23T23:25:00.609Z"
   },
   {
    "duration": 23,
    "start_time": "2021-07-23T23:25:00.618Z"
   },
   {
    "duration": 3175,
    "start_time": "2021-07-23T23:25:00.644Z"
   },
   {
    "duration": 5441,
    "start_time": "2021-07-23T23:25:03.821Z"
   },
   {
    "duration": 17,
    "start_time": "2021-07-23T23:25:09.264Z"
   },
   {
    "duration": 7,
    "start_time": "2021-07-23T23:25:09.283Z"
   },
   {
    "duration": 5,
    "start_time": "2021-07-23T23:25:09.292Z"
   },
   {
    "duration": 12,
    "start_time": "2021-07-23T23:25:09.299Z"
   },
   {
    "duration": 29,
    "start_time": "2021-07-23T23:25:09.312Z"
   },
   {
    "duration": 4,
    "start_time": "2021-07-23T23:25:09.343Z"
   },
   {
    "duration": 10,
    "start_time": "2021-07-23T23:25:09.348Z"
   },
   {
    "duration": 5,
    "start_time": "2021-07-23T23:25:09.360Z"
   },
   {
    "duration": 5,
    "start_time": "2021-07-23T23:25:09.366Z"
   },
   {
    "duration": 28,
    "start_time": "2021-07-23T23:25:09.372Z"
   },
   {
    "duration": 40,
    "start_time": "2021-07-23T23:25:09.401Z"
   },
   {
    "duration": 16,
    "start_time": "2021-07-23T23:25:09.442Z"
   },
   {
    "duration": 16,
    "start_time": "2021-07-23T23:25:09.459Z"
   },
   {
    "duration": 596,
    "start_time": "2021-07-23T23:41:13.795Z"
   },
   {
    "duration": 10,
    "start_time": "2021-07-23T23:41:14.393Z"
   },
   {
    "duration": 3,
    "start_time": "2021-07-23T23:41:14.405Z"
   },
   {
    "duration": 9,
    "start_time": "2021-07-23T23:41:14.410Z"
   },
   {
    "duration": 4,
    "start_time": "2021-07-23T23:41:14.421Z"
   },
   {
    "duration": 15,
    "start_time": "2021-07-23T23:41:14.426Z"
   },
   {
    "duration": 20,
    "start_time": "2021-07-23T23:41:14.443Z"
   },
   {
    "duration": 16,
    "start_time": "2021-07-23T23:41:14.465Z"
   },
   {
    "duration": 4,
    "start_time": "2021-07-23T23:41:14.483Z"
   },
   {
    "duration": 1952,
    "start_time": "2021-07-23T23:41:14.488Z"
   },
   {
    "duration": 4,
    "start_time": "2021-07-23T23:41:16.442Z"
   },
   {
    "duration": 11,
    "start_time": "2021-07-23T23:41:16.447Z"
   },
   {
    "duration": 10,
    "start_time": "2021-07-23T23:41:16.460Z"
   },
   {
    "duration": 12,
    "start_time": "2021-07-23T23:41:16.472Z"
   },
   {
    "duration": 5,
    "start_time": "2021-07-23T23:41:16.486Z"
   },
   {
    "duration": 16,
    "start_time": "2021-07-23T23:41:16.492Z"
   },
   {
    "duration": 52,
    "start_time": "2021-07-23T23:41:16.510Z"
   },
   {
    "duration": 22,
    "start_time": "2021-07-23T23:41:16.563Z"
   },
   {
    "duration": 20,
    "start_time": "2021-07-23T23:41:16.587Z"
   },
   {
    "duration": 32,
    "start_time": "2021-07-23T23:41:16.609Z"
   },
   {
    "duration": 8,
    "start_time": "2021-07-23T23:41:16.643Z"
   },
   {
    "duration": 9,
    "start_time": "2021-07-23T23:41:16.652Z"
   },
   {
    "duration": 3268,
    "start_time": "2021-07-23T23:41:16.664Z"
   },
   {
    "duration": 5622,
    "start_time": "2021-07-23T23:41:19.943Z"
   },
   {
    "duration": 15,
    "start_time": "2021-07-23T23:41:25.567Z"
   },
   {
    "duration": 6,
    "start_time": "2021-07-23T23:41:25.584Z"
   },
   {
    "duration": 5,
    "start_time": "2021-07-23T23:41:25.592Z"
   },
   {
    "duration": 10,
    "start_time": "2021-07-23T23:41:25.598Z"
   },
   {
    "duration": 4,
    "start_time": "2021-07-23T23:41:25.609Z"
   },
   {
    "duration": 29,
    "start_time": "2021-07-23T23:41:25.614Z"
   },
   {
    "duration": 10,
    "start_time": "2021-07-23T23:41:25.645Z"
   },
   {
    "duration": 8,
    "start_time": "2021-07-23T23:41:25.656Z"
   },
   {
    "duration": 5,
    "start_time": "2021-07-23T23:41:25.666Z"
   },
   {
    "duration": 28,
    "start_time": "2021-07-23T23:41:25.673Z"
   },
   {
    "duration": 38,
    "start_time": "2021-07-23T23:41:25.703Z"
   },
   {
    "duration": 16,
    "start_time": "2021-07-23T23:41:25.743Z"
   },
   {
    "duration": 15,
    "start_time": "2021-07-23T23:41:25.761Z"
   },
   {
    "duration": 5,
    "start_time": "2021-07-23T23:42:27.599Z"
   },
   {
    "duration": 9,
    "start_time": "2021-07-23T23:43:05.042Z"
   },
   {
    "duration": 6,
    "start_time": "2021-07-23T23:43:08.153Z"
   },
   {
    "duration": 641,
    "start_time": "2021-07-23T23:43:17.320Z"
   },
   {
    "duration": 10,
    "start_time": "2021-07-23T23:43:17.964Z"
   },
   {
    "duration": 4,
    "start_time": "2021-07-23T23:43:17.976Z"
   },
   {
    "duration": 9,
    "start_time": "2021-07-23T23:43:17.982Z"
   },
   {
    "duration": 4,
    "start_time": "2021-07-23T23:43:17.993Z"
   },
   {
    "duration": 8,
    "start_time": "2021-07-23T23:43:17.999Z"
   },
   {
    "duration": 48,
    "start_time": "2021-07-23T23:43:18.009Z"
   },
   {
    "duration": 16,
    "start_time": "2021-07-23T23:43:18.061Z"
   },
   {
    "duration": 3,
    "start_time": "2021-07-23T23:43:18.080Z"
   },
   {
    "duration": 2062,
    "start_time": "2021-07-23T23:43:18.085Z"
   },
   {
    "duration": 5,
    "start_time": "2021-07-23T23:43:20.148Z"
   },
   {
    "duration": 5,
    "start_time": "2021-07-23T23:43:20.155Z"
   },
   {
    "duration": 13,
    "start_time": "2021-07-23T23:43:20.162Z"
   },
   {
    "duration": 9,
    "start_time": "2021-07-23T23:43:20.177Z"
   },
   {
    "duration": 4,
    "start_time": "2021-07-23T23:43:20.188Z"
   },
   {
    "duration": 13,
    "start_time": "2021-07-23T23:43:20.193Z"
   },
   {
    "duration": 67,
    "start_time": "2021-07-23T23:43:20.207Z"
   },
   {
    "duration": 23,
    "start_time": "2021-07-23T23:43:20.275Z"
   },
   {
    "duration": 20,
    "start_time": "2021-07-23T23:43:20.300Z"
   },
   {
    "duration": 33,
    "start_time": "2021-07-23T23:43:20.321Z"
   },
   {
    "duration": 8,
    "start_time": "2021-07-23T23:43:20.356Z"
   },
   {
    "duration": 8,
    "start_time": "2021-07-23T23:43:20.365Z"
   },
   {
    "duration": 3430,
    "start_time": "2021-07-23T23:43:20.374Z"
   },
   {
    "duration": 5366,
    "start_time": "2021-07-23T23:43:23.806Z"
   },
   {
    "duration": 17,
    "start_time": "2021-07-23T23:43:29.174Z"
   },
   {
    "duration": 5,
    "start_time": "2021-07-23T23:43:29.195Z"
   },
   {
    "duration": 6,
    "start_time": "2021-07-23T23:43:29.202Z"
   },
   {
    "duration": 39,
    "start_time": "2021-07-23T23:43:29.209Z"
   },
   {
    "duration": 4,
    "start_time": "2021-07-23T23:43:29.250Z"
   },
   {
    "duration": 5,
    "start_time": "2021-07-23T23:43:29.256Z"
   },
   {
    "duration": 10,
    "start_time": "2021-07-23T23:43:29.263Z"
   },
   {
    "duration": 6,
    "start_time": "2021-07-23T23:43:29.274Z"
   },
   {
    "duration": 4,
    "start_time": "2021-07-23T23:43:29.282Z"
   },
   {
    "duration": 74,
    "start_time": "2021-07-23T23:43:29.287Z"
   },
   {
    "duration": 19,
    "start_time": "2021-07-23T23:43:29.363Z"
   },
   {
    "duration": 17,
    "start_time": "2021-07-23T23:43:29.383Z"
   },
   {
    "duration": 16,
    "start_time": "2021-07-23T23:43:29.402Z"
   },
   {
    "duration": 4,
    "start_time": "2021-07-23T23:47:46.762Z"
   },
   {
    "duration": 599,
    "start_time": "2021-07-23T23:48:05.977Z"
   },
   {
    "duration": 9,
    "start_time": "2021-07-23T23:48:06.578Z"
   },
   {
    "duration": 5,
    "start_time": "2021-07-23T23:48:06.589Z"
   },
   {
    "duration": 9,
    "start_time": "2021-07-23T23:48:06.596Z"
   },
   {
    "duration": 4,
    "start_time": "2021-07-23T23:48:06.606Z"
   },
   {
    "duration": 29,
    "start_time": "2021-07-23T23:48:06.612Z"
   },
   {
    "duration": 20,
    "start_time": "2021-07-23T23:48:06.642Z"
   },
   {
    "duration": 15,
    "start_time": "2021-07-23T23:48:06.664Z"
   },
   {
    "duration": 3,
    "start_time": "2021-07-23T23:48:06.681Z"
   },
   {
    "duration": 1903,
    "start_time": "2021-07-23T23:48:06.685Z"
   },
   {
    "duration": 3,
    "start_time": "2021-07-23T23:48:08.590Z"
   },
   {
    "duration": 6,
    "start_time": "2021-07-23T23:48:08.595Z"
   },
   {
    "duration": 10,
    "start_time": "2021-07-23T23:48:08.602Z"
   },
   {
    "duration": 10,
    "start_time": "2021-07-23T23:48:08.614Z"
   },
   {
    "duration": 5,
    "start_time": "2021-07-23T23:48:08.641Z"
   },
   {
    "duration": 11,
    "start_time": "2021-07-23T23:48:08.648Z"
   },
   {
    "duration": 43,
    "start_time": "2021-07-23T23:48:08.661Z"
   },
   {
    "duration": 45,
    "start_time": "2021-07-23T23:48:08.705Z"
   },
   {
    "duration": 20,
    "start_time": "2021-07-23T23:48:08.751Z"
   },
   {
    "duration": 15,
    "start_time": "2021-07-23T23:48:08.772Z"
   },
   {
    "duration": 7,
    "start_time": "2021-07-23T23:48:08.789Z"
   },
   {
    "duration": 11,
    "start_time": "2021-07-23T23:48:08.798Z"
   },
   {
    "duration": 3486,
    "start_time": "2021-07-23T23:48:08.811Z"
   },
   {
    "duration": 5358,
    "start_time": "2021-07-23T23:48:12.300Z"
   },
   {
    "duration": 17,
    "start_time": "2021-07-23T23:48:17.660Z"
   },
   {
    "duration": 5,
    "start_time": "2021-07-23T23:48:17.679Z"
   },
   {
    "duration": 6,
    "start_time": "2021-07-23T23:48:17.686Z"
   },
   {
    "duration": 11,
    "start_time": "2021-07-23T23:48:17.693Z"
   },
   {
    "duration": 37,
    "start_time": "2021-07-23T23:48:17.706Z"
   },
   {
    "duration": 5,
    "start_time": "2021-07-23T23:48:17.745Z"
   },
   {
    "duration": 10,
    "start_time": "2021-07-23T23:48:17.752Z"
   },
   {
    "duration": 6,
    "start_time": "2021-07-23T23:48:17.764Z"
   },
   {
    "duration": 5,
    "start_time": "2021-07-23T23:48:17.771Z"
   },
   {
    "duration": 29,
    "start_time": "2021-07-23T23:48:17.777Z"
   },
   {
    "duration": 48,
    "start_time": "2021-07-23T23:48:17.808Z"
   },
   {
    "duration": 14,
    "start_time": "2021-07-23T23:48:17.857Z"
   },
   {
    "duration": 14,
    "start_time": "2021-07-23T23:48:17.873Z"
   }
  ],
  "kernelspec": {
   "display_name": "Python 3",
   "language": "python",
   "name": "python3"
  },
  "language_info": {
   "codemirror_mode": {
    "name": "ipython",
    "version": 3
   },
   "file_extension": ".py",
   "mimetype": "text/x-python",
   "name": "python",
   "nbconvert_exporter": "python",
   "pygments_lexer": "ipython3",
   "version": "3.8.8"
  },
  "toc": {
   "base_numbering": 1,
   "nav_menu": {},
   "number_sections": true,
   "sideBar": true,
   "skip_h1_title": true,
   "title_cell": "Table of Contents",
   "title_sidebar": "Contents",
   "toc_cell": false,
   "toc_position": {},
   "toc_section_display": true,
   "toc_window_display": true
  }
 },
 "nbformat": 4,
 "nbformat_minor": 2
}
