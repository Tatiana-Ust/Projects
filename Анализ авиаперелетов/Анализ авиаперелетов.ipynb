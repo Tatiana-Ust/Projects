{
 "cells": [
  {
   "cell_type": "code",
   "execution_count": 1,
   "metadata": {},
   "outputs": [],
   "source": [
    "import pandas as pd\n",
    "import matplotlib.pyplot as plt\n",
    "import requests \n",
    "from bs4 import BeautifulSoup"
   ]
  },
  {
   "cell_type": "markdown",
   "metadata": {},
   "source": [
    "## Импорт и предобработка данных"
   ]
  },
  {
   "cell_type": "code",
   "execution_count": 2,
   "metadata": {},
   "outputs": [],
   "source": [
    "# создадим функцию импорта данных:\n",
    "\n",
    "def import_data(link, name):\n",
    "    sheet_id = link\n",
    "    sheet_name = name\n",
    "    url = f'https://docs.google.com/spreadsheets/d/{sheet_id}/gviz/tq?tqx=out:csv&sheet={sheet_name}'\n",
    "    name = pd.read_csv(url)\n",
    "    return name\n",
    "\n",
    "# импортируем датафреймы:\n",
    "\n",
    "flights = import_data('1y9hU3YhRlz95VPwY4xF-7na0PJ2oO_0JZ8E0MxzAvPY', 'flights')\n",
    "city = import_data('1ojWYlStcPITiqrwP5sVC6O6DbHfOg1-pWDUT5AyjUgY', 'city')"
   ]
  },
  {
   "cell_type": "markdown",
   "metadata": {},
   "source": [
    "В данном разделе будет рассмотрена **общая информация** о датафреймах. Для начала необходимо посмотреть первые 5 строк каждого датафрейма, чтобы определить, с информацией какого рода будет происходить исследование"
   ]
  },
  {
   "cell_type": "code",
   "execution_count": 4,
   "metadata": {},
   "outputs": [
    {
     "data": {
      "text/html": [
       "<div>\n",
       "<style scoped>\n",
       "    .dataframe tbody tr th:only-of-type {\n",
       "        vertical-align: middle;\n",
       "    }\n",
       "\n",
       "    .dataframe tbody tr th {\n",
       "        vertical-align: top;\n",
       "    }\n",
       "\n",
       "    .dataframe thead th {\n",
       "        text-align: right;\n",
       "    }\n",
       "</style>\n",
       "<table border=\"1\" class=\"dataframe\">\n",
       "  <thead>\n",
       "    <tr style=\"text-align: right;\">\n",
       "      <th></th>\n",
       "      <th>model</th>\n",
       "      <th>flights_amount</th>\n",
       "    </tr>\n",
       "  </thead>\n",
       "  <tbody>\n",
       "    <tr>\n",
       "      <th>0</th>\n",
       "      <td>Airbus A319-100</td>\n",
       "      <td>607</td>\n",
       "    </tr>\n",
       "    <tr>\n",
       "      <th>1</th>\n",
       "      <td>Airbus A321-200</td>\n",
       "      <td>960</td>\n",
       "    </tr>\n",
       "    <tr>\n",
       "      <th>2</th>\n",
       "      <td>Boeing 737-300</td>\n",
       "      <td>630</td>\n",
       "    </tr>\n",
       "    <tr>\n",
       "      <th>3</th>\n",
       "      <td>Boeing 767-300</td>\n",
       "      <td>600</td>\n",
       "    </tr>\n",
       "    <tr>\n",
       "      <th>4</th>\n",
       "      <td>Boeing 777-300</td>\n",
       "      <td>300</td>\n",
       "    </tr>\n",
       "    <tr>\n",
       "      <th>5</th>\n",
       "      <td>Bombardier CRJ-200</td>\n",
       "      <td>4446</td>\n",
       "    </tr>\n",
       "    <tr>\n",
       "      <th>6</th>\n",
       "      <td>Cessna 208 Caravan</td>\n",
       "      <td>4557</td>\n",
       "    </tr>\n",
       "    <tr>\n",
       "      <th>7</th>\n",
       "      <td>Sukhoi SuperJet-100</td>\n",
       "      <td>4185</td>\n",
       "    </tr>\n",
       "  </tbody>\n",
       "</table>\n",
       "</div>"
      ],
      "text/plain": [
       "                 model  flights_amount\n",
       "0      Airbus A319-100             607\n",
       "1      Airbus A321-200             960\n",
       "2       Boeing 737-300             630\n",
       "3       Boeing 767-300             600\n",
       "4       Boeing 777-300             300\n",
       "5   Bombardier CRJ-200            4446\n",
       "6   Cessna 208 Caravan            4557\n",
       "7  Sukhoi SuperJet-100            4185"
      ]
     },
     "execution_count": 4,
     "metadata": {},
     "output_type": "execute_result"
    }
   ],
   "source": [
    "display(flights.head())"
   ]
  },
  {
   "cell_type": "code",
   "execution_count": 5,
   "metadata": {},
   "outputs": [
    {
     "data": {
      "text/html": [
       "<div>\n",
       "<style scoped>\n",
       "    .dataframe tbody tr th:only-of-type {\n",
       "        vertical-align: middle;\n",
       "    }\n",
       "\n",
       "    .dataframe tbody tr th {\n",
       "        vertical-align: top;\n",
       "    }\n",
       "\n",
       "    .dataframe thead th {\n",
       "        text-align: right;\n",
       "    }\n",
       "</style>\n",
       "<table border=\"1\" class=\"dataframe\">\n",
       "  <thead>\n",
       "    <tr style=\"text-align: right;\">\n",
       "      <th></th>\n",
       "      <th>city</th>\n",
       "      <th>average_flights</th>\n",
       "    </tr>\n",
       "  </thead>\n",
       "  <tbody>\n",
       "    <tr>\n",
       "      <th>0</th>\n",
       "      <td>Абакан</td>\n",
       "      <td>3.870968</td>\n",
       "    </tr>\n",
       "    <tr>\n",
       "      <th>1</th>\n",
       "      <td>Анадырь</td>\n",
       "      <td>1.000000</td>\n",
       "    </tr>\n",
       "    <tr>\n",
       "      <th>2</th>\n",
       "      <td>Анапа</td>\n",
       "      <td>2.161290</td>\n",
       "    </tr>\n",
       "    <tr>\n",
       "      <th>3</th>\n",
       "      <td>Архангельск</td>\n",
       "      <td>5.354839</td>\n",
       "    </tr>\n",
       "    <tr>\n",
       "      <th>4</th>\n",
       "      <td>Астрахань</td>\n",
       "      <td>2.451613</td>\n",
       "    </tr>\n",
       "  </tbody>\n",
       "</table>\n",
       "</div>"
      ],
      "text/plain": [
       "          city  average_flights\n",
       "0       Абакан         3.870968\n",
       "1      Анадырь         1.000000\n",
       "2        Анапа         2.161290\n",
       "3  Архангельск         5.354839\n",
       "4    Астрахань         2.451613"
      ]
     },
     "execution_count": 5,
     "metadata": {},
     "output_type": "execute_result"
    }
   ],
   "source": [
    "display(city.head())"
   ]
  },
  {
   "cell_type": "markdown",
   "metadata": {},
   "source": [
    "Также, для ознакомительного анализа, необходимо изучить числовые параметры"
   ]
  },
  {
   "cell_type": "code",
   "execution_count": 6,
   "metadata": {},
   "outputs": [
    {
     "data": {
      "text/html": [
       "<div>\n",
       "<style scoped>\n",
       "    .dataframe tbody tr th:only-of-type {\n",
       "        vertical-align: middle;\n",
       "    }\n",
       "\n",
       "    .dataframe tbody tr th {\n",
       "        vertical-align: top;\n",
       "    }\n",
       "\n",
       "    .dataframe thead th {\n",
       "        text-align: right;\n",
       "    }\n",
       "</style>\n",
       "<table border=\"1\" class=\"dataframe\">\n",
       "  <thead>\n",
       "    <tr style=\"text-align: right;\">\n",
       "      <th></th>\n",
       "      <th>flights_amount</th>\n",
       "    </tr>\n",
       "  </thead>\n",
       "  <tbody>\n",
       "    <tr>\n",
       "      <th>count</th>\n",
       "      <td>8.000000</td>\n",
       "    </tr>\n",
       "    <tr>\n",
       "      <th>mean</th>\n",
       "      <td>2035.625000</td>\n",
       "    </tr>\n",
       "    <tr>\n",
       "      <th>std</th>\n",
       "      <td>1965.203947</td>\n",
       "    </tr>\n",
       "    <tr>\n",
       "      <th>min</th>\n",
       "      <td>300.000000</td>\n",
       "    </tr>\n",
       "    <tr>\n",
       "      <th>25%</th>\n",
       "      <td>605.250000</td>\n",
       "    </tr>\n",
       "    <tr>\n",
       "      <th>50%</th>\n",
       "      <td>795.000000</td>\n",
       "    </tr>\n",
       "    <tr>\n",
       "      <th>75%</th>\n",
       "      <td>4250.250000</td>\n",
       "    </tr>\n",
       "    <tr>\n",
       "      <th>max</th>\n",
       "      <td>4557.000000</td>\n",
       "    </tr>\n",
       "  </tbody>\n",
       "</table>\n",
       "</div>"
      ],
      "text/plain": [
       "       flights_amount\n",
       "count        8.000000\n",
       "mean      2035.625000\n",
       "std       1965.203947\n",
       "min        300.000000\n",
       "25%        605.250000\n",
       "50%        795.000000\n",
       "75%       4250.250000\n",
       "max       4557.000000"
      ]
     },
     "execution_count": 6,
     "metadata": {},
     "output_type": "execute_result"
    }
   ],
   "source": [
    "flights.describe()"
   ]
  },
  {
   "cell_type": "code",
   "execution_count": 7,
   "metadata": {},
   "outputs": [
    {
     "data": {
      "text/html": [
       "<div>\n",
       "<style scoped>\n",
       "    .dataframe tbody tr th:only-of-type {\n",
       "        vertical-align: middle;\n",
       "    }\n",
       "\n",
       "    .dataframe tbody tr th {\n",
       "        vertical-align: top;\n",
       "    }\n",
       "\n",
       "    .dataframe thead th {\n",
       "        text-align: right;\n",
       "    }\n",
       "</style>\n",
       "<table border=\"1\" class=\"dataframe\">\n",
       "  <thead>\n",
       "    <tr style=\"text-align: right;\">\n",
       "      <th></th>\n",
       "      <th>average_flights</th>\n",
       "    </tr>\n",
       "  </thead>\n",
       "  <tbody>\n",
       "    <tr>\n",
       "      <th>count</th>\n",
       "      <td>101.000000</td>\n",
       "    </tr>\n",
       "    <tr>\n",
       "      <th>mean</th>\n",
       "      <td>5.494189</td>\n",
       "    </tr>\n",
       "    <tr>\n",
       "      <th>std</th>\n",
       "      <td>13.119790</td>\n",
       "    </tr>\n",
       "    <tr>\n",
       "      <th>min</th>\n",
       "      <td>1.000000</td>\n",
       "    </tr>\n",
       "    <tr>\n",
       "      <th>25%</th>\n",
       "      <td>2.000000</td>\n",
       "    </tr>\n",
       "    <tr>\n",
       "      <th>50%</th>\n",
       "      <td>3.000000</td>\n",
       "    </tr>\n",
       "    <tr>\n",
       "      <th>75%</th>\n",
       "      <td>5.870968</td>\n",
       "    </tr>\n",
       "    <tr>\n",
       "      <th>max</th>\n",
       "      <td>129.774194</td>\n",
       "    </tr>\n",
       "  </tbody>\n",
       "</table>\n",
       "</div>"
      ],
      "text/plain": [
       "       average_flights\n",
       "count       101.000000\n",
       "mean          5.494189\n",
       "std          13.119790\n",
       "min           1.000000\n",
       "25%           2.000000\n",
       "50%           3.000000\n",
       "75%           5.870968\n",
       "max         129.774194"
      ]
     },
     "execution_count": 7,
     "metadata": {},
     "output_type": "execute_result"
    }
   ],
   "source": [
    "city.describe()"
   ]
  },
  {
   "cell_type": "markdown",
   "metadata": {},
   "source": [
    "Помимо прочего, необходимо установить, какие типы данных присутствуют в датафреймах"
   ]
  },
  {
   "cell_type": "code",
   "execution_count": 8,
   "metadata": {},
   "outputs": [
    {
     "name": "stdout",
     "output_type": "stream",
     "text": [
      "<class 'pandas.core.frame.DataFrame'>\n",
      "RangeIndex: 8 entries, 0 to 7\n",
      "Data columns (total 2 columns):\n",
      " #   Column          Non-Null Count  Dtype \n",
      "---  ------          --------------  ----- \n",
      " 0   model           8 non-null      object\n",
      " 1   flights_amount  8 non-null      int64 \n",
      "dtypes: int64(1), object(1)\n",
      "memory usage: 256.0+ bytes\n"
     ]
    }
   ],
   "source": [
    "flights.info()"
   ]
  },
  {
   "cell_type": "code",
   "execution_count": 9,
   "metadata": {},
   "outputs": [
    {
     "name": "stdout",
     "output_type": "stream",
     "text": [
      "<class 'pandas.core.frame.DataFrame'>\n",
      "RangeIndex: 101 entries, 0 to 100\n",
      "Data columns (total 2 columns):\n",
      " #   Column           Non-Null Count  Dtype  \n",
      "---  ------           --------------  -----  \n",
      " 0   city             101 non-null    object \n",
      " 1   average_flights  101 non-null    float64\n",
      "dtypes: float64(1), object(1)\n",
      "memory usage: 1.7+ KB\n"
     ]
    }
   ],
   "source": [
    "city.info()"
   ]
  },
  {
   "cell_type": "markdown",
   "metadata": {},
   "source": [
    "Также исследую датафремы на **пропуски**"
   ]
  },
  {
   "cell_type": "code",
   "execution_count": 10,
   "metadata": {},
   "outputs": [
    {
     "data": {
      "text/plain": [
       "model             0\n",
       "flights_amount    0\n",
       "dtype: int64"
      ]
     },
     "execution_count": 10,
     "metadata": {},
     "output_type": "execute_result"
    }
   ],
   "source": [
    "flights.isnull().sum()"
   ]
  },
  {
   "cell_type": "code",
   "execution_count": 11,
   "metadata": {},
   "outputs": [
    {
     "data": {
      "text/plain": [
       "city               0\n",
       "average_flights    0\n",
       "dtype: int64"
      ]
     },
     "execution_count": 11,
     "metadata": {},
     "output_type": "execute_result"
    }
   ],
   "source": [
    "city.isnull().sum()"
   ]
  },
  {
   "cell_type": "markdown",
   "metadata": {},
   "source": [
    "Пропусков не обнаружено"
   ]
  },
  {
   "cell_type": "markdown",
   "metadata": {},
   "source": [
    "Для дальнейшего исследования создан срез **10 городов с наибольшим количеством прибывающих рейсов** и сохранен в новый датафрейм top10:"
   ]
  },
  {
   "cell_type": "code",
   "execution_count": 12,
   "metadata": {
    "scrolled": true
   },
   "outputs": [
    {
     "data": {
      "text/html": [
       "<div>\n",
       "<style scoped>\n",
       "    .dataframe tbody tr th:only-of-type {\n",
       "        vertical-align: middle;\n",
       "    }\n",
       "\n",
       "    .dataframe tbody tr th {\n",
       "        vertical-align: top;\n",
       "    }\n",
       "\n",
       "    .dataframe thead th {\n",
       "        text-align: right;\n",
       "    }\n",
       "</style>\n",
       "<table border=\"1\" class=\"dataframe\">\n",
       "  <thead>\n",
       "    <tr style=\"text-align: right;\">\n",
       "      <th></th>\n",
       "      <th>city</th>\n",
       "      <th>average_flights</th>\n",
       "    </tr>\n",
       "  </thead>\n",
       "  <tbody>\n",
       "    <tr>\n",
       "      <th>43</th>\n",
       "      <td>Москва</td>\n",
       "      <td>129.774194</td>\n",
       "    </tr>\n",
       "    <tr>\n",
       "      <th>70</th>\n",
       "      <td>Санкт-Петербург</td>\n",
       "      <td>31.161290</td>\n",
       "    </tr>\n",
       "    <tr>\n",
       "      <th>54</th>\n",
       "      <td>Новосибирск</td>\n",
       "      <td>17.322581</td>\n",
       "    </tr>\n",
       "    <tr>\n",
       "      <th>33</th>\n",
       "      <td>Красноярск</td>\n",
       "      <td>11.580645</td>\n",
       "    </tr>\n",
       "    <tr>\n",
       "      <th>20</th>\n",
       "      <td>Екатеринбург</td>\n",
       "      <td>11.322581</td>\n",
       "    </tr>\n",
       "    <tr>\n",
       "      <th>67</th>\n",
       "      <td>Ростов-на-Дону</td>\n",
       "      <td>10.193548</td>\n",
       "    </tr>\n",
       "    <tr>\n",
       "      <th>63</th>\n",
       "      <td>Пермь</td>\n",
       "      <td>10.129032</td>\n",
       "    </tr>\n",
       "    <tr>\n",
       "      <th>10</th>\n",
       "      <td>Брянск</td>\n",
       "      <td>10.000000</td>\n",
       "    </tr>\n",
       "    <tr>\n",
       "      <th>74</th>\n",
       "      <td>Сочи</td>\n",
       "      <td>9.612903</td>\n",
       "    </tr>\n",
       "    <tr>\n",
       "      <th>84</th>\n",
       "      <td>Ульяновск</td>\n",
       "      <td>9.580645</td>\n",
       "    </tr>\n",
       "  </tbody>\n",
       "</table>\n",
       "</div>"
      ],
      "text/plain": [
       "               city  average_flights\n",
       "43           Москва       129.774194\n",
       "70  Санкт-Петербург        31.161290\n",
       "54      Новосибирск        17.322581\n",
       "33       Красноярск        11.580645\n",
       "20     Екатеринбург        11.322581\n",
       "67   Ростов-на-Дону        10.193548\n",
       "63            Пермь        10.129032\n",
       "10           Брянск        10.000000\n",
       "74             Сочи         9.612903\n",
       "84        Ульяновск         9.580645"
      ]
     },
     "execution_count": 12,
     "metadata": {},
     "output_type": "execute_result"
    }
   ],
   "source": [
    "top10 = city.sort_values(by = 'average_flights', ascending = False).head(10)\n",
    "top10"
   ]
  },
  {
   "cell_type": "markdown",
   "metadata": {},
   "source": [
    "**Вывод**:\n",
    "\n",
    "Датафрейм 'flights' содержит информацию о модели самолета и количестве рейсов на каждой модели самолёта.Всего 8 моделей самолетов. В среднем каждая модель самолета выполнила 2035.63 полета. Минимальное количество полетов - 300, максимальное - 4557. Содержит в себе 2 колонки и 8 строк. Колонка 'model' принадлежит к типу даных 'object', т.к. содержит информацию о названиях моделей самолетов. Колонка 'flights_amount' - тип 'int64' с информацией о количестве рейсов на каждой модели.\n",
    "\n",
    "В датафрейме 'city' содержатся данные о городе и среднее количество прибывающих рейсов в день для каждого города. В список городов включено 101 наименование. Среднее количество прибывающих рейсов в каждый город от 1 до почти 130 в день. Также содержит 2 колонки и 101 строку. Колонка 'city', соответственно, содержит названия городов и принадлежит к типу 'object'. Колонка 'average_flights' содержит информацию о среднем количестве прибывающих рейсов в день для каждого города, данные в ней принадлежат к типу 'float64'.\n",
    "\n",
    "Также стоит отметить, что в вышеуказанных датафреймах отсутствуют пропущенные значения.\n",
    "\n",
    "Типы данных корректны, замена не требуется. \n",
    "\n",
    "Для дальнейшего анализа был создан датафрейм 'top10' со срезом данных о 10 городах с наибольшим количеством прибывающих рейсов."
   ]
  },
  {
   "cell_type": "markdown",
   "metadata": {},
   "source": [
    "## Исследовательский анализ данных"
   ]
  },
  {
   "cell_type": "markdown",
   "metadata": {},
   "source": [
    "Следующим этапом исследование станет изучение спроса пассажиров на рейсы в города, где проходят крупнейшие фестивали. Для этого необходимо изучить предпочтения пользователей, покупающих билеты на те или иные направления."
   ]
  },
  {
   "cell_type": "markdown",
   "metadata": {},
   "source": [
    "### Сравнительный анализ количества рейсов в разрезе каждой модели самолета"
   ]
  },
  {
   "cell_type": "code",
   "execution_count": 13,
   "metadata": {},
   "outputs": [
    {
     "data": {
      "image/png": "[encoded data removed]",
      "text/plain": [
       "<Figure size 1080x360 with 1 Axes>"
      ]
     },
     "metadata": {
      "needs_background": "light"
     },
     "output_type": "display_data"
    }
   ],
   "source": [
    "flights.sort_values(by = 'flights_amount', ascending = False). plot(y = 'flights_amount', \n",
    "                                                                     x = 'model',\n",
    "                                                                     figsize = (15, 5),\n",
    "                                                                     kind = 'bar', \n",
    "                                                                     grid = True, \n",
    "                                                                     cmap = 'Pastel1', \n",
    "                                                                     title = 'Количество полетов каждой модели самолета')\n",
    "plt.ylabel('Количество полетов')\n",
    "plt.xlabel('Модель самолета')\n",
    "plt.xticks(rotation=30);"
   ]
  },
  {
   "cell_type": "markdown",
   "metadata": {},
   "source": [
    "Лидирующую позицию по количеству полетов занимает модель 'Cessna 208 Caravan'. Это лёгкий одномоторный турбовинтовой самолёт общего назначения, экипаж самолёта состоит из одного пилота (два пилота при выполнении коммерческих полётов по правилам полётов по приборам), базовая модель перевозит девять пассажиров.\n",
    "\n",
    "Второе место у модели 'Bombardier CRJ-200', с пассажировместимостью всего до 50 человек.\n",
    "\n",
    "Замыкает тройку модель 'Sukhoi Superjet-100' - российский ближнемагистральный узкофюзеляжный пассажирский самолёт, предназначенный для перевозки от 87 до 108 пассажиров на дальность 3050 или 4600 км.\n",
    "\n",
    "Почти в 4 раза меньше полетов у моделей самолетов 'Airbus' и 'Boeing'."
   ]
  },
  {
   "cell_type": "markdown",
   "metadata": {},
   "source": [
    "### Сравнительный анализ количества прибывающих рейсов в день по каждому городу"
   ]
  },
  {
   "cell_type": "code",
   "execution_count": 14,
   "metadata": {},
   "outputs": [
    {
     "data": {
      "image/png": "[encoded data removed]",
      "text/plain": [
       "<Figure size 1080x1080 with 1 Axes>"
      ]
     },
     "metadata": {
      "needs_background": "light"
     },
     "output_type": "display_data"
    }
   ],
   "source": [
    "city.sort_values(by = 'average_flights').plot(y = 'average_flights', x = 'city',\n",
    "                        figsize = (15, 15),\n",
    "                        kind = 'barh', \n",
    "                        grid = True, \n",
    "                        cmap = 'Pastel2', \n",
    "                        title = 'Среднее количество прибывающих рейсов в день в каждый город')\n",
    "plt.ylabel('Среднее количество прибывающих рейсов в день')\n",
    "plt.xlabel('Город')\n",
    "plt.xticks(rotation=0);"
   ]
  },
  {
   "cell_type": "markdown",
   "metadata": {},
   "source": [
    "Так как исследуется список из 101 города, следовало ожидать, что график бужет не показательным. Поэтому в следующем подразделе будет изучен данный вопрос в разрезе топ-10 городов с наибольшим количеством прибывающих рейсов"
   ]
  },
  {
   "cell_type": "markdown",
   "metadata": {},
   "source": [
    "### Сравнительный анализ количества прибывающих рейсов в день в каждый город из топ-10 с наибольшим количеством рейсов"
   ]
  },
  {
   "cell_type": "code",
   "execution_count": 15,
   "metadata": {},
   "outputs": [
    {
     "data": {
      "text/plain": [
       "(array([0, 1, 2, 3, 4, 5, 6, 7, 8, 9]),\n",
       " [Text(0, 0, 'Москва'),\n",
       "  Text(1, 0, 'Санкт-Петербург'),\n",
       "  Text(2, 0, 'Новосибирск'),\n",
       "  Text(3, 0, 'Красноярск'),\n",
       "  Text(4, 0, 'Екатеринбург'),\n",
       "  Text(5, 0, 'Ростов-на-Дону'),\n",
       "  Text(6, 0, 'Пермь'),\n",
       "  Text(7, 0, 'Брянск'),\n",
       "  Text(8, 0, 'Сочи'),\n",
       "  Text(9, 0, 'Ульяновск')])"
      ]
     },
     "execution_count": 15,
     "metadata": {},
     "output_type": "execute_result"
    },
    {
     "data": {
      "image/png": "[encoded data removed]",
      "text/plain": [
       "<Figure size 1080x360 with 1 Axes>"
      ]
     },
     "metadata": {
      "needs_background": "light"
     },
     "output_type": "display_data"
    }
   ],
   "source": [
    "top10.plot(y = 'average_flights', x = 'city',\n",
    "                        figsize = (15, 5),\n",
    "                        kind = 'bar', \n",
    "                        grid = True, \n",
    "                        cmap = 'Blues_r', \n",
    "                        title = 'Среднее количество прибывающих рейсов в день в каждый город')\n",
    "plt.ylabel('Среднее количество прибывающих рейсов в день')\n",
    "plt.xlabel('Город')\n",
    "plt.xticks(rotation=30)"
   ]
  },
  {
   "cell_type": "markdown",
   "metadata": {},
   "source": [
    "Ожидаемо лидирующие места занимают 3 крупнейших города России: Москва с почти 130 прибывающими рейсами в день, Санкт-Петербург - 31 рейс, и Новосибирск - 17 рейсов. Также в список вошли Красноярск, Екатеринбург, Ростов-на-Дону, Пермь, Брянск, Сочи и Ульяновск с примерно одинаковым дневным количеством прибывающих рейсов: от 9.6 до 11.6."
   ]
  },
  {
   "cell_type": "markdown",
   "metadata": {},
   "source": [
    "### Анализ местопроведения крупнейших фестивалей"
   ]
  },
  {
   "cell_type": "markdown",
   "metadata": {},
   "source": [
    "Создадим парсер для сбора с сайта данных о 11 крупнейших фестивалях 2018 года. Данные сохранены в датафрейм festivals:"
   ]
  },
  {
   "cell_type": "code",
   "execution_count": 16,
   "metadata": {},
   "outputs": [
    {
     "data": {
      "text/html": [
       "<div>\n",
       "<style scoped>\n",
       "    .dataframe tbody tr th:only-of-type {\n",
       "        vertical-align: middle;\n",
       "    }\n",
       "\n",
       "    .dataframe tbody tr th {\n",
       "        vertical-align: top;\n",
       "    }\n",
       "\n",
       "    .dataframe thead th {\n",
       "        text-align: right;\n",
       "    }\n",
       "</style>\n",
       "<table border=\"1\" class=\"dataframe\">\n",
       "  <thead>\n",
       "    <tr style=\"text-align: right;\">\n",
       "      <th></th>\n",
       "      <th>Название фестиваля</th>\n",
       "      <th>city</th>\n",
       "      <th>Дата проведения</th>\n",
       "    </tr>\n",
       "  </thead>\n",
       "  <tbody>\n",
       "    <tr>\n",
       "      <th>0</th>\n",
       "      <td>Музыкальный фестиваль «Усадьба Jazz»</td>\n",
       "      <td>Екатеринбург</td>\n",
       "      <td>01.07.2018</td>\n",
       "    </tr>\n",
       "    <tr>\n",
       "      <th>1</th>\n",
       "      <td>Фестиваль музыки и технологий Alfa Future People</td>\n",
       "      <td>Нижний Новгород</td>\n",
       "      <td>10.08.2018</td>\n",
       "    </tr>\n",
       "    <tr>\n",
       "      <th>2</th>\n",
       "      <td>Фестиваль еды «О, да! Еда!»</td>\n",
       "      <td>Санкт-Петербург</td>\n",
       "      <td>21.07.2018</td>\n",
       "    </tr>\n",
       "    <tr>\n",
       "      <th>3</th>\n",
       "      <td>Доброфест</td>\n",
       "      <td>Ярославль</td>\n",
       "      <td>29.07.2018</td>\n",
       "    </tr>\n",
       "    <tr>\n",
       "      <th>4</th>\n",
       "      <td>Park Live</td>\n",
       "      <td>Москва</td>\n",
       "      <td>28.07.2018</td>\n",
       "    </tr>\n",
       "    <tr>\n",
       "      <th>5</th>\n",
       "      <td>Пикник Афиши</td>\n",
       "      <td>Москва</td>\n",
       "      <td>04.08.2018</td>\n",
       "    </tr>\n",
       "    <tr>\n",
       "      <th>6</th>\n",
       "      <td>VK FEST</td>\n",
       "      <td>Санкт-Петербург</td>\n",
       "      <td>29.07.2018</td>\n",
       "    </tr>\n",
       "    <tr>\n",
       "      <th>7</th>\n",
       "      <td>Фестиваль «О, да! Еда!»</td>\n",
       "      <td>Иркутск</td>\n",
       "      <td>25.08.2018</td>\n",
       "    </tr>\n",
       "    <tr>\n",
       "      <th>8</th>\n",
       "      <td>Фестиваль «О, да! Еда!»</td>\n",
       "      <td>Владивосток</td>\n",
       "      <td>02.09.2018</td>\n",
       "    </tr>\n",
       "    <tr>\n",
       "      <th>9</th>\n",
       "      <td>Видфест</td>\n",
       "      <td>Москва</td>\n",
       "      <td>08.09.2018</td>\n",
       "    </tr>\n",
       "    <tr>\n",
       "      <th>10</th>\n",
       "      <td>«Нашествие 2018»</td>\n",
       "      <td>Тверь</td>\n",
       "      <td>05.08.2018</td>\n",
       "    </tr>\n",
       "  </tbody>\n",
       "</table>\n",
       "</div>"
      ],
      "text/plain": [
       "                                  Название фестиваля             city  \\\n",
       "0               Музыкальный фестиваль «Усадьба Jazz»     Екатеринбург   \n",
       "1   Фестиваль музыки и технологий Alfa Future People  Нижний Новгород   \n",
       "2                        Фестиваль еды «О, да! Еда!»  Санкт-Петербург   \n",
       "3                                          Доброфест        Ярославль   \n",
       "4                                          Park Live           Москва   \n",
       "5                                       Пикник Афиши           Москва   \n",
       "6                                            VK FEST  Санкт-Петербург   \n",
       "7                            Фестиваль «О, да! Еда!»          Иркутск   \n",
       "8                            Фестиваль «О, да! Еда!»      Владивосток   \n",
       "9                                            Видфест           Москва   \n",
       "10                                  «Нашествие 2018»            Тверь   \n",
       "\n",
       "   Дата проведения  \n",
       "0       01.07.2018  \n",
       "1       10.08.2018  \n",
       "2       21.07.2018  \n",
       "3       29.07.2018  \n",
       "4       28.07.2018  \n",
       "5       04.08.2018  \n",
       "6       29.07.2018  \n",
       "7       25.08.2018  \n",
       "8       02.09.2018  \n",
       "9       08.09.2018  \n",
       "10      05.08.2018  "
      ]
     },
     "metadata": {},
     "output_type": "display_data"
    }
   ],
   "source": [
    "req = requests.get('https://code.s3.yandex.net/learning-materials/data-analyst/festival_news/index.html')\n",
    "soup = BeautifulSoup(req.text, 'lxml')\n",
    "heading_2=soup.find('h2')\n",
    "paragraph=soup.find_all('p') \n",
    "table = soup.find('table',attrs={'id': 'best_festivals'})\n",
    "heading_table = [] \n",
    "for row in table.find_all('th'): \n",
    "        heading_table.append(row.text)\n",
    "content=[]\n",
    "for row in table.find_all('tr'): \n",
    "    if not row.find_all('th'): \n",
    "            content.append([element.text for element in row.find_all('td')])\n",
    "festivals = pd.DataFrame(content, columns=heading_table) \n",
    "festivals = festivals.rename({'Место проведения': 'city'}, axis=1)\n",
    "\n",
    "display(festivals)"
   ]
  },
  {
   "cell_type": "markdown",
   "metadata": {},
   "source": [
    "Колонка c изначальным названием 'Место проведения' была переименована в 'city' для дальнейшего объединения с датафреймом 'city'"
   ]
  },
  {
   "cell_type": "code",
   "execution_count": 17,
   "metadata": {},
   "outputs": [
    {
     "data": {
      "text/html": [
       "<div>\n",
       "<style scoped>\n",
       "    .dataframe tbody tr th:only-of-type {\n",
       "        vertical-align: middle;\n",
       "    }\n",
       "\n",
       "    .dataframe tbody tr th {\n",
       "        vertical-align: top;\n",
       "    }\n",
       "\n",
       "    .dataframe thead th {\n",
       "        text-align: right;\n",
       "    }\n",
       "</style>\n",
       "<table border=\"1\" class=\"dataframe\">\n",
       "  <thead>\n",
       "    <tr style=\"text-align: right;\">\n",
       "      <th></th>\n",
       "      <th>Название фестиваля</th>\n",
       "      <th>city</th>\n",
       "      <th>Дата проведения</th>\n",
       "      <th>average_flights</th>\n",
       "    </tr>\n",
       "  </thead>\n",
       "  <tbody>\n",
       "    <tr>\n",
       "      <th>0</th>\n",
       "      <td>Музыкальный фестиваль «Усадьба Jazz»</td>\n",
       "      <td>Екатеринбург</td>\n",
       "      <td>01.07.2018</td>\n",
       "      <td>11.322581</td>\n",
       "    </tr>\n",
       "    <tr>\n",
       "      <th>1</th>\n",
       "      <td>Фестиваль музыки и технологий Alfa Future People</td>\n",
       "      <td>Нижний Новгород</td>\n",
       "      <td>10.08.2018</td>\n",
       "      <td>5.870968</td>\n",
       "    </tr>\n",
       "    <tr>\n",
       "      <th>2</th>\n",
       "      <td>Фестиваль еды «О, да! Еда!»</td>\n",
       "      <td>Санкт-Петербург</td>\n",
       "      <td>21.07.2018</td>\n",
       "      <td>31.161290</td>\n",
       "    </tr>\n",
       "    <tr>\n",
       "      <th>3</th>\n",
       "      <td>VK FEST</td>\n",
       "      <td>Санкт-Петербург</td>\n",
       "      <td>29.07.2018</td>\n",
       "      <td>31.161290</td>\n",
       "    </tr>\n",
       "    <tr>\n",
       "      <th>4</th>\n",
       "      <td>Доброфест</td>\n",
       "      <td>Ярославль</td>\n",
       "      <td>29.07.2018</td>\n",
       "      <td>1.322581</td>\n",
       "    </tr>\n",
       "    <tr>\n",
       "      <th>5</th>\n",
       "      <td>Park Live</td>\n",
       "      <td>Москва</td>\n",
       "      <td>28.07.2018</td>\n",
       "      <td>129.774194</td>\n",
       "    </tr>\n",
       "    <tr>\n",
       "      <th>6</th>\n",
       "      <td>Пикник Афиши</td>\n",
       "      <td>Москва</td>\n",
       "      <td>04.08.2018</td>\n",
       "      <td>129.774194</td>\n",
       "    </tr>\n",
       "    <tr>\n",
       "      <th>7</th>\n",
       "      <td>Видфест</td>\n",
       "      <td>Москва</td>\n",
       "      <td>08.09.2018</td>\n",
       "      <td>129.774194</td>\n",
       "    </tr>\n",
       "    <tr>\n",
       "      <th>8</th>\n",
       "      <td>Фестиваль «О, да! Еда!»</td>\n",
       "      <td>Иркутск</td>\n",
       "      <td>25.08.2018</td>\n",
       "      <td>6.032258</td>\n",
       "    </tr>\n",
       "    <tr>\n",
       "      <th>9</th>\n",
       "      <td>Фестиваль «О, да! Еда!»</td>\n",
       "      <td>Владивосток</td>\n",
       "      <td>02.09.2018</td>\n",
       "      <td>3.000000</td>\n",
       "    </tr>\n",
       "  </tbody>\n",
       "</table>\n",
       "</div>"
      ],
      "text/plain": [
       "                                 Название фестиваля             city  \\\n",
       "0              Музыкальный фестиваль «Усадьба Jazz»     Екатеринбург   \n",
       "1  Фестиваль музыки и технологий Alfa Future People  Нижний Новгород   \n",
       "2                       Фестиваль еды «О, да! Еда!»  Санкт-Петербург   \n",
       "3                                           VK FEST  Санкт-Петербург   \n",
       "4                                         Доброфест        Ярославль   \n",
       "5                                         Park Live           Москва   \n",
       "6                                      Пикник Афиши           Москва   \n",
       "7                                           Видфест           Москва   \n",
       "8                           Фестиваль «О, да! Еда!»          Иркутск   \n",
       "9                           Фестиваль «О, да! Еда!»      Владивосток   \n",
       "\n",
       "  Дата проведения  average_flights  \n",
       "0      01.07.2018        11.322581  \n",
       "1      10.08.2018         5.870968  \n",
       "2      21.07.2018        31.161290  \n",
       "3      29.07.2018        31.161290  \n",
       "4      29.07.2018         1.322581  \n",
       "5      28.07.2018       129.774194  \n",
       "6      04.08.2018       129.774194  \n",
       "7      08.09.2018       129.774194  \n",
       "8      25.08.2018         6.032258  \n",
       "9      02.09.2018         3.000000  "
      ]
     },
     "execution_count": 17,
     "metadata": {},
     "output_type": "execute_result"
    }
   ],
   "source": [
    "festivals.merge(city, how = 'inner')"
   ]
  },
  {
   "cell_type": "code",
   "execution_count": 18,
   "metadata": {},
   "outputs": [
    {
     "data": {
      "text/html": [
       "<div>\n",
       "<style scoped>\n",
       "    .dataframe tbody tr th:only-of-type {\n",
       "        vertical-align: middle;\n",
       "    }\n",
       "\n",
       "    .dataframe tbody tr th {\n",
       "        vertical-align: top;\n",
       "    }\n",
       "\n",
       "    .dataframe thead th {\n",
       "        text-align: right;\n",
       "    }\n",
       "</style>\n",
       "<table border=\"1\" class=\"dataframe\">\n",
       "  <thead>\n",
       "    <tr style=\"text-align: right;\">\n",
       "      <th></th>\n",
       "      <th>city</th>\n",
       "      <th>average_flights</th>\n",
       "    </tr>\n",
       "  </thead>\n",
       "  <tbody>\n",
       "  </tbody>\n",
       "</table>\n",
       "</div>"
      ],
      "text/plain": [
       "Empty DataFrame\n",
       "Columns: [city, average_flights]\n",
       "Index: []"
      ]
     },
     "execution_count": 18,
     "metadata": {},
     "output_type": "execute_result"
    }
   ],
   "source": [
    "city.query('city == \"Тверь\"')"
   ]
  },
  {
   "cell_type": "markdown",
   "metadata": {},
   "source": [
    "В получившемся датафрейме отсутствует информация о рейсах в Тверь, хотя в ней проводится один из крупнейших фестивалей «Нашествие 2018»"
   ]
  },
  {
   "cell_type": "markdown",
   "metadata": {},
   "source": [
    "## Вывод"
   ]
  },
  {
   "cell_type": "markdown",
   "metadata": {},
   "source": [
    "В ходе данной работы был исследован спрос клиентов авиакомпании F9, покупающих билеты на те или иные направления.\n",
    "Для этого была проанализирована информация о моделях самолетов, использующихся для перелетов пассажиров авиакомпании, и количество рейсов по каждой модели:\n",
    "- Больше всего полетов у модели 'Cessna 208 Caravan'. Данная модель перевозит всего девять пассажиров и приспособлена для работы в сложных условиях, в том числе на грунтовых аэродромах, соответственно, можно предположить, что данные самолеты очень востребованы для обслуживания местных линий, поскольку стоимость перевозок на Ан-2, традиционно эксплуатировавшихся на этих маршрутах, возросла из-за высокой стоимости авиационного бензина. При этом самолет Cessna заправляется обычным авиационным керосином.\n",
    "- Второе место у модели 'Bombardier CRJ-200', с пассажировместимостью всего до 50 человек.\n",
    "- Замыкает тройку модель 'Sukhoi Superjet-100' - пассажирский самолёт, предназначенный для перевозки от 87 до 108 пассажиров на дальность 3050 или 4600 км.\n",
    "- Почти в 4 раза меньше полетов у моделей самолетов 'Airbus' и 'Boeing'.\n",
    "\n",
    "Также были проанализированы данные о среднедневном количестве прибывающих рейсов в каждый из более чем 100 городов.\n",
    "Лидирующие места занимают 3 крупнейших города России: \n",
    "- Москва с почти 130 прибывающими рейсами в день, \n",
    "- Санкт-Петербург - 31 рейс, \n",
    "- Новосибирск - 17 рейсов,\n",
    "- Красноярск, Екатеринбург, Ростов-на-Дону, Пермь, Брянск, Сочи и Ульяновск с примерно одинаковым дневным количеством прибывающих рейсов: от 9.6 до 11.6.\n",
    "\n",
    "Такое количество рейсов в Москву обуславливается, в первую очередь тем, что этот город является для многих маршрутов связной точкой, т.к. для многих городов нет прямой воздушной линии. Например, может быть сложно напрямую улететь из Иркутска в Брянск.\n",
    "\n",
    "При анализе сводной таблицы из данных городах с проводимыми в них фестивалями и количестве рейсов в эти города можно сделать следующие выводы:\n",
    "- Половина фестивалей проводится в Москве (3 мероприятия) и Санкт-Петербурге (2 мероприятия). Так как эти города занимают лидирующие позиции в списке городов с наибольшим количеством прибывающих рейсов, соответственно, все в порядке.\n",
    "- В Екатеринбурге, Нижнем Новгороде и Иркутске было по 1 фестивалю. Также следует отметить, что в эти города прибывает в среднем от ~ 6 до ~ 11 рейсов в день.\n",
    "- Такие города как Ярославль и Владивосток также были местами проведения крупных фестивалей в сентябре 2018 года, однако, в них прибывает достаточно мало рейсов: ~ 1 и 3 рейса соответственно. Необходимо проанализировать спрос пассажиров на данные направления и в случае выявления потребности, добавить рейсы в вышеуказанные города для увеличения прибыли авиакомпании.\n",
    "- Тверь также стала местом проведения фестиваля «Нашествие 2018», однако у авиакомпании F9 отсутствуют рейсы по данному направлению. Можно сделать вывод, что компания упускает выручку по данному направлению и следует изучить более имеет ли смысл создавать рейс в данный город.\n",
    "\n",
    "При наличии дополнительных данных не только о месте прибытия, но и о месте отбытия самолета, можно выполнить анализ и привести рекомендации по эксплуатации моделей самолетов. В данной ситуации это сделать проблематично, так как даже модели самолетов из лидирующей тройки с наибольшим количеством полетов разительно отличаются друг от друга не только расстоянием полета, но и пассажировместимостью."
   ]
  }
 ],
 "metadata": {
  "ExecuteTimeLog": [
   {
    "duration": 627,
    "start_time": "2021-09-13T10:44:32.657Z"
   },
   {
    "duration": 4322,
    "start_time": "2021-09-13T10:45:36.821Z"
   },
   {
    "duration": 28,
    "start_time": "2021-09-13T11:00:18.307Z"
   },
   {
    "duration": 21,
    "start_time": "2021-09-13T11:00:31.851Z"
   },
   {
    "duration": 24,
    "start_time": "2021-09-13T11:01:12.314Z"
   },
   {
    "duration": 312,
    "start_time": "2021-09-14T10:40:01.812Z"
   },
   {
    "duration": 579,
    "start_time": "2021-09-14T10:40:08.804Z"
   },
   {
    "duration": 28,
    "start_time": "2021-09-14T10:40:09.384Z"
   },
   {
    "duration": 22,
    "start_time": "2021-09-14T10:40:09.414Z"
   },
   {
    "duration": 13,
    "start_time": "2021-09-14T10:40:09.437Z"
   },
   {
    "duration": 11,
    "start_time": "2021-09-14T10:40:09.451Z"
   },
   {
    "duration": 12,
    "start_time": "2021-09-14T10:40:59.708Z"
   },
   {
    "duration": 15,
    "start_time": "2021-09-14T10:41:09.554Z"
   },
   {
    "duration": 17,
    "start_time": "2021-09-14T10:42:41.949Z"
   },
   {
    "duration": 8,
    "start_time": "2021-09-14T10:42:45.519Z"
   },
   {
    "duration": 16,
    "start_time": "2021-09-14T10:42:50.923Z"
   },
   {
    "duration": 9,
    "start_time": "2021-09-14T10:42:55.180Z"
   },
   {
    "duration": 13,
    "start_time": "2021-09-14T10:47:08.353Z"
   },
   {
    "duration": 11,
    "start_time": "2021-09-14T10:47:22.535Z"
   },
   {
    "duration": 317,
    "start_time": "2021-09-14T10:47:55.303Z"
   },
   {
    "duration": 9,
    "start_time": "2021-09-14T10:48:30.321Z"
   },
   {
    "duration": 11,
    "start_time": "2021-09-14T10:49:40.470Z"
   },
   {
    "duration": 6,
    "start_time": "2021-09-14T10:52:34.224Z"
   },
   {
    "duration": 4,
    "start_time": "2021-09-14T10:53:19.765Z"
   },
   {
    "duration": 77,
    "start_time": "2021-09-14T10:54:59.528Z"
   },
   {
    "duration": 6,
    "start_time": "2021-09-14T10:55:08.767Z"
   },
   {
    "duration": 5,
    "start_time": "2021-09-14T10:55:17.912Z"
   },
   {
    "duration": 6,
    "start_time": "2021-09-14T10:55:26.977Z"
   },
   {
    "duration": 9,
    "start_time": "2021-09-14T11:13:45.988Z"
   },
   {
    "duration": 599,
    "start_time": "2021-09-14T11:23:14.026Z"
   },
   {
    "duration": 3,
    "start_time": "2021-09-14T11:23:28.835Z"
   },
   {
    "duration": 253,
    "start_time": "2021-09-14T11:23:32.417Z"
   },
   {
    "duration": 247,
    "start_time": "2021-09-14T11:33:10.612Z"
   },
   {
    "duration": 1531,
    "start_time": "2021-09-14T11:38:39.088Z"
   },
   {
    "duration": 268,
    "start_time": "2021-09-14T11:40:38.089Z"
   },
   {
    "duration": 264,
    "start_time": "2021-09-14T11:41:05.574Z"
   },
   {
    "duration": 276,
    "start_time": "2021-09-14T11:41:16.558Z"
   },
   {
    "duration": 1021,
    "start_time": "2021-09-14T11:41:31.645Z"
   },
   {
    "duration": 16,
    "start_time": "2021-09-14T11:41:47.490Z"
   },
   {
    "duration": 244,
    "start_time": "2021-09-14T11:42:16.081Z"
   },
   {
    "duration": 7,
    "start_time": "2021-09-14T11:43:11.153Z"
   },
   {
    "duration": 9,
    "start_time": "2021-09-14T11:43:16.018Z"
   },
   {
    "duration": 245,
    "start_time": "2021-09-14T11:43:27.734Z"
   },
   {
    "duration": 8,
    "start_time": "2021-09-14T11:43:39.404Z"
   },
   {
    "duration": 10,
    "start_time": "2021-09-14T11:43:41.602Z"
   },
   {
    "duration": 6,
    "start_time": "2021-09-14T11:43:48.620Z"
   },
   {
    "duration": 10,
    "start_time": "2021-09-14T11:43:49.306Z"
   },
   {
    "duration": 625,
    "start_time": "2021-09-14T11:45:03.624Z"
   },
   {
    "duration": 17,
    "start_time": "2021-09-14T11:45:04.251Z"
   },
   {
    "duration": 32,
    "start_time": "2021-09-14T11:45:04.270Z"
   },
   {
    "duration": 35,
    "start_time": "2021-09-14T11:45:04.305Z"
   },
   {
    "duration": 23,
    "start_time": "2021-09-14T11:45:04.342Z"
   },
   {
    "duration": 39,
    "start_time": "2021-09-14T11:45:04.366Z"
   },
   {
    "duration": 27,
    "start_time": "2021-09-14T11:45:04.406Z"
   },
   {
    "duration": 18,
    "start_time": "2021-09-14T11:45:04.435Z"
   },
   {
    "duration": 34,
    "start_time": "2021-09-14T11:45:04.455Z"
   },
   {
    "duration": 28,
    "start_time": "2021-09-14T11:45:04.493Z"
   },
   {
    "duration": 23,
    "start_time": "2021-09-14T11:45:04.523Z"
   },
   {
    "duration": 23,
    "start_time": "2021-09-14T11:45:04.548Z"
   },
   {
    "duration": 285,
    "start_time": "2021-09-14T11:45:04.572Z"
   },
   {
    "duration": 1853,
    "start_time": "2021-09-14T11:45:04.859Z"
   },
   {
    "duration": 11,
    "start_time": "2021-09-14T11:45:06.713Z"
   },
   {
    "duration": 13,
    "start_time": "2021-09-14T11:45:06.726Z"
   },
   {
    "duration": 1447,
    "start_time": "2021-09-14T11:45:32.408Z"
   },
   {
    "duration": 302,
    "start_time": "2021-09-14T11:47:03.002Z"
   },
   {
    "duration": 243,
    "start_time": "2021-09-14T11:47:16.688Z"
   },
   {
    "duration": 302,
    "start_time": "2021-09-14T11:47:33.246Z"
   },
   {
    "duration": 245,
    "start_time": "2021-09-14T11:47:56.158Z"
   },
   {
    "duration": 251,
    "start_time": "2021-09-14T11:48:14.120Z"
   },
   {
    "duration": 244,
    "start_time": "2021-09-14T11:49:05.491Z"
   },
   {
    "duration": 6668,
    "start_time": "2021-09-14T11:49:24.850Z"
   },
   {
    "duration": 1301,
    "start_time": "2021-09-14T11:50:13.654Z"
   },
   {
    "duration": 439,
    "start_time": "2021-09-14T11:54:03.792Z"
   },
   {
    "duration": 252,
    "start_time": "2021-09-14T11:54:24.653Z"
   },
   {
    "duration": 262,
    "start_time": "2021-09-14T11:54:29.053Z"
   },
   {
    "duration": 422,
    "start_time": "2021-09-14T11:54:38.854Z"
   },
   {
    "duration": 344,
    "start_time": "2021-09-14T11:54:59.930Z"
   },
   {
    "duration": 252,
    "start_time": "2021-09-14T11:55:05.321Z"
   },
   {
    "duration": 168,
    "start_time": "2021-09-14T12:02:18.912Z"
   },
   {
    "duration": 53,
    "start_time": "2021-09-14T12:04:54.157Z"
   },
   {
    "duration": 50,
    "start_time": "2021-09-14T12:06:07.187Z"
   },
   {
    "duration": 8,
    "start_time": "2021-09-14T12:06:53.016Z"
   },
   {
    "duration": 269,
    "start_time": "2021-09-14T12:08:04.698Z"
   },
   {
    "duration": 13,
    "start_time": "2021-09-14T12:10:30.537Z"
   },
   {
    "duration": 10,
    "start_time": "2021-09-14T12:10:51.551Z"
   },
   {
    "duration": 260,
    "start_time": "2021-09-14T12:11:04.669Z"
   },
   {
    "duration": 12,
    "start_time": "2021-09-14T12:11:11.402Z"
   },
   {
    "duration": 13,
    "start_time": "2021-09-14T12:12:06.199Z"
   },
   {
    "duration": 242,
    "start_time": "2021-09-14T12:13:18.755Z"
   },
   {
    "duration": 12,
    "start_time": "2021-09-14T12:13:23.598Z"
   },
   {
    "duration": 281,
    "start_time": "2021-09-14T12:13:40.657Z"
   },
   {
    "duration": 13,
    "start_time": "2021-09-14T12:14:57.024Z"
   },
   {
    "duration": 10,
    "start_time": "2021-09-14T12:15:09.330Z"
   },
   {
    "duration": 297,
    "start_time": "2021-09-14T12:15:24.675Z"
   },
   {
    "duration": 21,
    "start_time": "2021-09-14T12:15:35.265Z"
   },
   {
    "duration": 12,
    "start_time": "2021-09-14T12:20:21.731Z"
   },
   {
    "duration": 14,
    "start_time": "2021-09-14T12:20:53.473Z"
   },
   {
    "duration": 12,
    "start_time": "2021-09-14T12:21:08.529Z"
   },
   {
    "duration": 13,
    "start_time": "2021-09-14T12:22:43.502Z"
   },
   {
    "duration": 303,
    "start_time": "2021-09-14T12:23:01.639Z"
   },
   {
    "duration": 14,
    "start_time": "2021-09-14T12:23:20.019Z"
   },
   {
    "duration": 12,
    "start_time": "2021-09-14T12:23:34.836Z"
   },
   {
    "duration": 12,
    "start_time": "2021-09-14T12:24:20.089Z"
   },
   {
    "duration": 8,
    "start_time": "2021-09-14T12:26:17.384Z"
   },
   {
    "duration": 801,
    "start_time": "2021-09-14T14:30:45.906Z"
   },
   {
    "duration": 17,
    "start_time": "2021-09-14T14:30:46.708Z"
   },
   {
    "duration": 24,
    "start_time": "2021-09-14T14:30:46.730Z"
   },
   {
    "duration": 16,
    "start_time": "2021-09-14T14:30:46.756Z"
   },
   {
    "duration": 18,
    "start_time": "2021-09-14T14:30:46.774Z"
   },
   {
    "duration": 26,
    "start_time": "2021-09-14T14:30:46.794Z"
   },
   {
    "duration": 18,
    "start_time": "2021-09-14T14:30:46.822Z"
   },
   {
    "duration": 13,
    "start_time": "2021-09-14T14:30:46.842Z"
   },
   {
    "duration": 11,
    "start_time": "2021-09-14T14:30:46.857Z"
   },
   {
    "duration": 16,
    "start_time": "2021-09-14T14:30:46.870Z"
   },
   {
    "duration": 21,
    "start_time": "2021-09-14T14:30:46.888Z"
   },
   {
    "duration": 16,
    "start_time": "2021-09-14T14:30:46.911Z"
   },
   {
    "duration": 323,
    "start_time": "2021-09-14T14:30:46.929Z"
   },
   {
    "duration": 1513,
    "start_time": "2021-09-14T14:30:47.253Z"
   },
   {
    "duration": 311,
    "start_time": "2021-09-14T14:30:48.769Z"
   },
   {
    "duration": 56,
    "start_time": "2021-09-14T14:30:49.082Z"
   },
   {
    "duration": 13,
    "start_time": "2021-09-14T14:30:49.140Z"
   },
   {
    "duration": 21,
    "start_time": "2021-09-14T14:30:49.154Z"
   },
   {
    "duration": 853,
    "start_time": "2021-09-14T14:31:48.861Z"
   },
   {
    "duration": 17,
    "start_time": "2021-09-14T14:31:49.716Z"
   },
   {
    "duration": 37,
    "start_time": "2021-09-14T14:31:49.735Z"
   },
   {
    "duration": 45,
    "start_time": "2021-09-14T14:31:49.774Z"
   },
   {
    "duration": 38,
    "start_time": "2021-09-14T14:31:49.821Z"
   },
   {
    "duration": 27,
    "start_time": "2021-09-14T14:31:49.861Z"
   },
   {
    "duration": 23,
    "start_time": "2021-09-14T14:31:49.889Z"
   },
   {
    "duration": 30,
    "start_time": "2021-09-14T14:31:49.915Z"
   },
   {
    "duration": 26,
    "start_time": "2021-09-14T14:31:49.947Z"
   },
   {
    "duration": 29,
    "start_time": "2021-09-14T14:31:49.976Z"
   },
   {
    "duration": 37,
    "start_time": "2021-09-14T14:31:50.006Z"
   },
   {
    "duration": 33,
    "start_time": "2021-09-14T14:31:50.044Z"
   },
   {
    "duration": 394,
    "start_time": "2021-09-14T14:31:50.080Z"
   },
   {
    "duration": 1737,
    "start_time": "2021-09-14T14:31:50.476Z"
   },
   {
    "duration": 326,
    "start_time": "2021-09-14T14:31:52.215Z"
   },
   {
    "duration": 59,
    "start_time": "2021-09-14T14:31:52.543Z"
   },
   {
    "duration": 13,
    "start_time": "2021-09-14T14:31:52.604Z"
   },
   {
    "duration": 12,
    "start_time": "2021-09-14T14:31:52.618Z"
   },
   {
    "duration": 254,
    "start_time": "2021-09-14T14:37:39.821Z"
   },
   {
    "duration": 264,
    "start_time": "2021-09-14T14:37:44.777Z"
   },
   {
    "duration": 770,
    "start_time": "2021-09-14T14:42:31.973Z"
   },
   {
    "duration": 17,
    "start_time": "2021-09-14T14:42:32.745Z"
   },
   {
    "duration": 20,
    "start_time": "2021-09-14T14:42:32.764Z"
   },
   {
    "duration": 16,
    "start_time": "2021-09-14T14:42:32.786Z"
   },
   {
    "duration": 15,
    "start_time": "2021-09-14T14:42:32.804Z"
   },
   {
    "duration": 17,
    "start_time": "2021-09-14T14:42:32.821Z"
   },
   {
    "duration": 13,
    "start_time": "2021-09-14T14:42:32.840Z"
   },
   {
    "duration": 12,
    "start_time": "2021-09-14T14:42:32.856Z"
   },
   {
    "duration": 12,
    "start_time": "2021-09-14T14:42:32.870Z"
   },
   {
    "duration": 11,
    "start_time": "2021-09-14T14:42:32.884Z"
   },
   {
    "duration": 8,
    "start_time": "2021-09-14T14:42:32.897Z"
   },
   {
    "duration": 17,
    "start_time": "2021-09-14T14:42:32.907Z"
   },
   {
    "duration": 317,
    "start_time": "2021-09-14T14:42:32.926Z"
   },
   {
    "duration": 1538,
    "start_time": "2021-09-14T14:42:33.245Z"
   },
   {
    "duration": 292,
    "start_time": "2021-09-14T14:42:34.786Z"
   },
   {
    "duration": 60,
    "start_time": "2021-09-14T14:42:35.081Z"
   },
   {
    "duration": 11,
    "start_time": "2021-09-14T14:42:35.143Z"
   },
   {
    "duration": 24,
    "start_time": "2021-09-14T14:42:35.155Z"
   },
   {
    "duration": 347,
    "start_time": "2021-09-14T14:57:59.851Z"
   },
   {
    "duration": 1153,
    "start_time": "2021-09-14T14:58:13.341Z"
   },
   {
    "duration": 16,
    "start_time": "2021-09-14T14:58:14.497Z"
   },
   {
    "duration": 19,
    "start_time": "2021-09-14T14:58:14.516Z"
   },
   {
    "duration": 15,
    "start_time": "2021-09-14T14:58:14.538Z"
   },
   {
    "duration": 25,
    "start_time": "2021-09-14T14:58:14.556Z"
   },
   {
    "duration": 21,
    "start_time": "2021-09-14T14:58:14.584Z"
   },
   {
    "duration": 16,
    "start_time": "2021-09-14T14:58:14.607Z"
   },
   {
    "duration": 44,
    "start_time": "2021-09-14T14:58:14.627Z"
   },
   {
    "duration": 15,
    "start_time": "2021-09-14T14:58:14.674Z"
   },
   {
    "duration": 11,
    "start_time": "2021-09-14T14:58:14.692Z"
   },
   {
    "duration": 9,
    "start_time": "2021-09-14T14:58:14.706Z"
   },
   {
    "duration": 12,
    "start_time": "2021-09-14T14:58:14.718Z"
   },
   {
    "duration": 521,
    "start_time": "2021-09-14T14:58:14.764Z"
   },
   {
    "duration": 2646,
    "start_time": "2021-09-14T14:58:15.287Z"
   },
   {
    "duration": 513,
    "start_time": "2021-09-14T14:58:17.935Z"
   },
   {
    "duration": 195,
    "start_time": "2021-09-14T14:58:18.450Z"
   },
   {
    "duration": 17,
    "start_time": "2021-09-14T14:58:18.647Z"
   },
   {
    "duration": 13,
    "start_time": "2021-09-14T14:58:18.667Z"
   },
   {
    "duration": 2363,
    "start_time": "2021-09-14T15:00:07.281Z"
   },
   {
    "duration": 1042,
    "start_time": "2021-09-14T15:00:26.804Z"
   },
   {
    "duration": 16,
    "start_time": "2021-09-14T15:00:27.849Z"
   },
   {
    "duration": 19,
    "start_time": "2021-09-14T15:00:27.868Z"
   },
   {
    "duration": 16,
    "start_time": "2021-09-14T15:00:27.890Z"
   },
   {
    "duration": 15,
    "start_time": "2021-09-14T15:00:27.909Z"
   },
   {
    "duration": 35,
    "start_time": "2021-09-14T15:00:27.927Z"
   },
   {
    "duration": 18,
    "start_time": "2021-09-14T15:00:27.964Z"
   },
   {
    "duration": 9,
    "start_time": "2021-09-14T15:00:27.986Z"
   },
   {
    "duration": 15,
    "start_time": "2021-09-14T15:00:27.998Z"
   },
   {
    "duration": 11,
    "start_time": "2021-09-14T15:00:28.015Z"
   },
   {
    "duration": 38,
    "start_time": "2021-09-14T15:00:28.029Z"
   },
   {
    "duration": 14,
    "start_time": "2021-09-14T15:00:28.070Z"
   },
   {
    "duration": 710,
    "start_time": "2021-09-14T15:00:28.087Z"
   },
   {
    "duration": 2400,
    "start_time": "2021-09-14T15:00:28.800Z"
   },
   {
    "duration": 470,
    "start_time": "2021-09-14T15:00:31.202Z"
   },
   {
    "duration": 94,
    "start_time": "2021-09-14T15:00:31.675Z"
   },
   {
    "duration": 16,
    "start_time": "2021-09-14T15:00:31.772Z"
   },
   {
    "duration": 21,
    "start_time": "2021-09-14T15:00:31.790Z"
   },
   {
    "duration": 125,
    "start_time": "2021-09-14T16:04:03.959Z"
   },
   {
    "duration": 98,
    "start_time": "2021-09-14T16:05:00.420Z"
   },
   {
    "duration": 3290,
    "start_time": "2021-09-14T16:05:25.746Z"
   },
   {
    "duration": 2815,
    "start_time": "2021-09-14T16:05:41.384Z"
   },
   {
    "duration": 2597,
    "start_time": "2021-09-14T16:08:47.881Z"
   },
   {
    "duration": 398,
    "start_time": "2021-09-14T16:09:30.757Z"
   },
   {
    "duration": 1014,
    "start_time": "2021-09-14T16:09:54.896Z"
   },
   {
    "duration": 16,
    "start_time": "2021-09-14T16:09:55.913Z"
   },
   {
    "duration": 33,
    "start_time": "2021-09-14T16:09:55.931Z"
   },
   {
    "duration": 24,
    "start_time": "2021-09-14T16:09:55.966Z"
   },
   {
    "duration": 24,
    "start_time": "2021-09-14T16:09:55.992Z"
   },
   {
    "duration": 35,
    "start_time": "2021-09-14T16:09:56.018Z"
   },
   {
    "duration": 25,
    "start_time": "2021-09-14T16:09:56.055Z"
   },
   {
    "duration": 23,
    "start_time": "2021-09-14T16:09:56.083Z"
   },
   {
    "duration": 22,
    "start_time": "2021-09-14T16:09:56.108Z"
   },
   {
    "duration": 13,
    "start_time": "2021-09-14T16:09:56.132Z"
   },
   {
    "duration": 25,
    "start_time": "2021-09-14T16:09:56.148Z"
   },
   {
    "duration": 28,
    "start_time": "2021-09-14T16:09:56.175Z"
   },
   {
    "duration": 490,
    "start_time": "2021-09-14T16:09:56.206Z"
   },
   {
    "duration": 2546,
    "start_time": "2021-09-14T16:09:56.699Z"
   },
   {
    "duration": 455,
    "start_time": "2021-09-14T16:09:59.247Z"
   },
   {
    "duration": 214,
    "start_time": "2021-09-14T16:09:59.705Z"
   },
   {
    "duration": 16,
    "start_time": "2021-09-14T16:09:59.921Z"
   },
   {
    "duration": 13,
    "start_time": "2021-09-14T16:09:59.939Z"
   },
   {
    "duration": 10,
    "start_time": "2021-09-14T16:15:13.205Z"
   }
  ],
  "kernelspec": {
   "display_name": "Python 3",
   "language": "python",
   "name": "python3"
  },
  "language_info": {
   "codemirror_mode": {
    "name": "ipython",
    "version": 3
   },
   "file_extension": ".py",
   "mimetype": "text/x-python",
   "name": "python",
   "nbconvert_exporter": "python",
   "pygments_lexer": "ipython3",
   "version": "3.8.8"
  },
  "toc": {
   "base_numbering": 1,
   "nav_menu": {},
   "number_sections": true,
   "sideBar": true,
   "skip_h1_title": true,
   "title_cell": "Table of Contents",
   "title_sidebar": "Contents",
   "toc_cell": false,
   "toc_position": {
    "height": "calc(100% - 180px)",
    "left": "10px",
    "top": "150px",
    "width": "216.391px"
   },
   "toc_section_display": true,
   "toc_window_display": false
  }
 },
 "nbformat": 4,
 "nbformat_minor": 2
}
