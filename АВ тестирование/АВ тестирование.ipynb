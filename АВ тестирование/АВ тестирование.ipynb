{
 "cells": [
  {
   "cell_type": "code",
   "execution_count": 1,
   "metadata": {},
   "outputs": [],
   "source": [
    "import pandas as pd\n",
    "import datetime as dt\n",
    "import numpy as np\n",
    "import matplotlib.pyplot as plt\n",
    "import scipy.stats as stats\n",
    "import warnings\n",
    "warnings.filterwarnings('ignore')"
   ]
  },
  {
   "cell_type": "markdown",
   "metadata": {},
   "source": [
    "## Импорт и предобработка данных"
   ]
  },
  {
   "cell_type": "code",
   "execution_count": 2,
   "metadata": {},
   "outputs": [],
   "source": [
    "# создам функцию импорта данных:\n",
    "\n",
    "def import_data(link, name):\n",
    "    sheet_id = link\n",
    "    sheet_name = name\n",
    "    url = f'https://docs.google.com/spreadsheets/d/{sheet_id}/gviz/tq?tqx=out:csv&sheet={sheet_name}'\n",
    "    name = pd.read_csv(url)\n",
    "    return name\n",
    "\n",
    "# импортирую 3 датафрейма:\n",
    "\n",
    "visitors = import_data('1QEwlbKoT_jbHk9wtJm4LMbpXnb_bS7JJgtTEEEPV_GY', 'visitors')\n",
    "orders = import_data('1NZOSs7ToT9m5kdEQYX09VqYN6I_BCeJHuyMeAdk3qzM', 'orders')\n",
    "hypothesis = import_data('1HJsg7os3ro6UqA4d5pSUmjpJsfI7FbkkFAa2IO7lHXk', 'hypothesis')"
   ]
  },
  {
   "cell_type": "markdown",
   "metadata": {},
   "source": [
    "Исследую каждый датафрейм подробнее. Начну с **'hypothesis'**:"
   ]
  },
  {
   "cell_type": "code",
   "execution_count": 3,
   "metadata": {},
   "outputs": [
    {
     "data": {
      "text/html": [
       "<div>\n",
       "<style scoped>\n",
       "    .dataframe tbody tr th:only-of-type {\n",
       "        vertical-align: middle;\n",
       "    }\n",
       "\n",
       "    .dataframe tbody tr th {\n",
       "        vertical-align: top;\n",
       "    }\n",
       "\n",
       "    .dataframe thead th {\n",
       "        text-align: right;\n",
       "    }\n",
       "</style>\n",
       "<table border=\"1\" class=\"dataframe\">\n",
       "  <thead>\n",
       "    <tr style=\"text-align: right;\">\n",
       "      <th></th>\n",
       "      <th>Hypothesis</th>\n",
       "      <th>Reach</th>\n",
       "      <th>Impact</th>\n",
       "      <th>Confidence</th>\n",
       "      <th>Efforts</th>\n",
       "    </tr>\n",
       "  </thead>\n",
       "  <tbody>\n",
       "    <tr>\n",
       "      <th>0</th>\n",
       "      <td>Добавить два новых канала привлечения трафика,...</td>\n",
       "      <td>3</td>\n",
       "      <td>10</td>\n",
       "      <td>8</td>\n",
       "      <td>6</td>\n",
       "    </tr>\n",
       "    <tr>\n",
       "      <th>1</th>\n",
       "      <td>Запустить собственную службу доставки, что сок...</td>\n",
       "      <td>2</td>\n",
       "      <td>5</td>\n",
       "      <td>4</td>\n",
       "      <td>10</td>\n",
       "    </tr>\n",
       "    <tr>\n",
       "      <th>2</th>\n",
       "      <td>Добавить блоки рекомендаций товаров на сайт ин...</td>\n",
       "      <td>8</td>\n",
       "      <td>3</td>\n",
       "      <td>7</td>\n",
       "      <td>3</td>\n",
       "    </tr>\n",
       "    <tr>\n",
       "      <th>3</th>\n",
       "      <td>Изменить структура категорий, что увеличит кон...</td>\n",
       "      <td>8</td>\n",
       "      <td>3</td>\n",
       "      <td>3</td>\n",
       "      <td>8</td>\n",
       "    </tr>\n",
       "    <tr>\n",
       "      <th>4</th>\n",
       "      <td>Изменить цвет фона главной страницы, чтобы уве...</td>\n",
       "      <td>3</td>\n",
       "      <td>1</td>\n",
       "      <td>1</td>\n",
       "      <td>1</td>\n",
       "    </tr>\n",
       "  </tbody>\n",
       "</table>\n",
       "</div>"
      ],
      "text/plain": [
       "                                          Hypothesis  Reach  Impact  \\\n",
       "0  Добавить два новых канала привлечения трафика,...      3      10   \n",
       "1  Запустить собственную службу доставки, что сок...      2       5   \n",
       "2  Добавить блоки рекомендаций товаров на сайт ин...      8       3   \n",
       "3  Изменить структура категорий, что увеличит кон...      8       3   \n",
       "4  Изменить цвет фона главной страницы, чтобы уве...      3       1   \n",
       "\n",
       "   Confidence  Efforts  \n",
       "0           8        6  \n",
       "1           4       10  \n",
       "2           7        3  \n",
       "3           3        8  \n",
       "4           1        1  "
      ]
     },
     "execution_count": 3,
     "metadata": {},
     "output_type": "execute_result"
    }
   ],
   "source": [
    "hypothesis.head()"
   ]
  },
  {
   "cell_type": "code",
   "execution_count": 4,
   "metadata": {},
   "outputs": [
    {
     "data": {
      "text/plain": [
       "array(['Добавить два новых канала привлечения трафика, что позволит привлекать на 30% больше пользователей',\n",
       "       'Запустить собственную службу доставки, что сократит срок доставки заказов',\n",
       "       'Добавить блоки рекомендаций товаров на сайт интернет магазина, чтобы повысить конверсию и средний чек заказа',\n",
       "       'Изменить структура категорий, что увеличит конверсию, т.к. пользователи быстрее найдут нужный товар',\n",
       "       'Изменить цвет фона главной страницы, чтобы увеличить вовлеченность пользователей',\n",
       "       'Добавить страницу отзывов клиентов о магазине, что позволит увеличить количество заказов',\n",
       "       'Показать на главной странице баннеры с актуальными акциями и распродажами, чтобы увеличить конверсию',\n",
       "       'Добавить форму подписки на все основные страницы, чтобы собрать базу клиентов для email-рассылок',\n",
       "       'Запустить акцию, дающую скидку на товар в день рождения'],\n",
       "      dtype=object)"
      ]
     },
     "execution_count": 4,
     "metadata": {},
     "output_type": "execute_result"
    }
   ],
   "source": [
    "hypothesis['Hypothesis'].unique()"
   ]
  },
  {
   "cell_type": "code",
   "execution_count": 5,
   "metadata": {},
   "outputs": [
    {
     "name": "stdout",
     "output_type": "stream",
     "text": [
      "<class 'pandas.core.frame.DataFrame'>\n",
      "RangeIndex: 9 entries, 0 to 8\n",
      "Data columns (total 5 columns):\n",
      " #   Column      Non-Null Count  Dtype \n",
      "---  ------      --------------  ----- \n",
      " 0   Hypothesis  9 non-null      object\n",
      " 1   Reach       9 non-null      int64 \n",
      " 2   Impact      9 non-null      int64 \n",
      " 3   Confidence  9 non-null      int64 \n",
      " 4   Efforts     9 non-null      int64 \n",
      "dtypes: int64(4), object(1)\n",
      "memory usage: 488.0+ bytes\n"
     ]
    }
   ],
   "source": [
    "hypothesis.info()"
   ]
  },
  {
   "cell_type": "markdown",
   "metadata": {},
   "source": [
    "Датафрейм 'hypothesis' включает в себя 9 строк, содержащие уникальные гипотезы, которые предстоит проверить, и 5 колонок:\n",
    "- Hypothesis — краткое описание гипотезы;\n",
    "- Reach — охват пользователей по 10-балльной шкале;\n",
    "- Impact — влияние на пользователей по 10-балльной шкале;\n",
    "- Confidence — уверенность в гипотезе по 10-балльной шкале;\n",
    "- Efforts — затраты ресурсов на проверку гипотезы по 10-балльной шкале. Чем больше значение Efforts, тем дороже проверка гипотезы.\n",
    "\n",
    "Названия колонок содержат в себе заглавные буквы. Приведу их к нижнему регистру:"
   ]
  },
  {
   "cell_type": "code",
   "execution_count": 6,
   "metadata": {},
   "outputs": [],
   "source": [
    "hypothesis.columns = hypothesis.columns.str.lower()"
   ]
  },
  {
   "cell_type": "markdown",
   "metadata": {},
   "source": [
    "Далее изучу датафрейм **'orders'**:"
   ]
  },
  {
   "cell_type": "code",
   "execution_count": 7,
   "metadata": {},
   "outputs": [
    {
     "data": {
      "text/html": [
       "<div>\n",
       "<style scoped>\n",
       "    .dataframe tbody tr th:only-of-type {\n",
       "        vertical-align: middle;\n",
       "    }\n",
       "\n",
       "    .dataframe tbody tr th {\n",
       "        vertical-align: top;\n",
       "    }\n",
       "\n",
       "    .dataframe thead th {\n",
       "        text-align: right;\n",
       "    }\n",
       "</style>\n",
       "<table border=\"1\" class=\"dataframe\">\n",
       "  <thead>\n",
       "    <tr style=\"text-align: right;\">\n",
       "      <th></th>\n",
       "      <th>transactionId</th>\n",
       "      <th>visitorId</th>\n",
       "      <th>date</th>\n",
       "      <th>revenue</th>\n",
       "      <th>group</th>\n",
       "    </tr>\n",
       "  </thead>\n",
       "  <tbody>\n",
       "    <tr>\n",
       "      <th>0</th>\n",
       "      <td>3667963787</td>\n",
       "      <td>3312258926</td>\n",
       "      <td>2019-08-15</td>\n",
       "      <td>1650</td>\n",
       "      <td>B</td>\n",
       "    </tr>\n",
       "    <tr>\n",
       "      <th>1</th>\n",
       "      <td>2804400009</td>\n",
       "      <td>3642806036</td>\n",
       "      <td>2019-08-15</td>\n",
       "      <td>730</td>\n",
       "      <td>B</td>\n",
       "    </tr>\n",
       "    <tr>\n",
       "      <th>2</th>\n",
       "      <td>2961555356</td>\n",
       "      <td>4069496402</td>\n",
       "      <td>2019-08-15</td>\n",
       "      <td>400</td>\n",
       "      <td>A</td>\n",
       "    </tr>\n",
       "    <tr>\n",
       "      <th>3</th>\n",
       "      <td>3797467345</td>\n",
       "      <td>1196621759</td>\n",
       "      <td>2019-08-15</td>\n",
       "      <td>9759</td>\n",
       "      <td>B</td>\n",
       "    </tr>\n",
       "    <tr>\n",
       "      <th>4</th>\n",
       "      <td>2282983706</td>\n",
       "      <td>2322279887</td>\n",
       "      <td>2019-08-15</td>\n",
       "      <td>2308</td>\n",
       "      <td>B</td>\n",
       "    </tr>\n",
       "  </tbody>\n",
       "</table>\n",
       "</div>"
      ],
      "text/plain": [
       "   transactionId   visitorId        date  revenue group\n",
       "0     3667963787  3312258926  2019-08-15     1650     B\n",
       "1     2804400009  3642806036  2019-08-15      730     B\n",
       "2     2961555356  4069496402  2019-08-15      400     A\n",
       "3     3797467345  1196621759  2019-08-15     9759     B\n",
       "4     2282983706  2322279887  2019-08-15     2308     B"
      ]
     },
     "execution_count": 7,
     "metadata": {},
     "output_type": "execute_result"
    }
   ],
   "source": [
    "orders.head()"
   ]
  },
  {
   "cell_type": "code",
   "execution_count": 8,
   "metadata": {},
   "outputs": [
    {
     "name": "stdout",
     "output_type": "stream",
     "text": [
      "<class 'pandas.core.frame.DataFrame'>\n",
      "RangeIndex: 1197 entries, 0 to 1196\n",
      "Data columns (total 5 columns):\n",
      " #   Column         Non-Null Count  Dtype \n",
      "---  ------         --------------  ----- \n",
      " 0   transactionId  1197 non-null   int64 \n",
      " 1   visitorId      1197 non-null   int64 \n",
      " 2   date           1197 non-null   object\n",
      " 3   revenue        1197 non-null   int64 \n",
      " 4   group          1197 non-null   object\n",
      "dtypes: int64(3), object(2)\n",
      "memory usage: 46.9+ KB\n"
     ]
    }
   ],
   "source": [
    "orders.info()"
   ]
  },
  {
   "cell_type": "markdown",
   "metadata": {},
   "source": [
    "Датафрейм 'orders' включает в себя 1197 строк и 5 колонок:\n",
    "- transactionId — идентификатор заказа;\n",
    "- visitorId — идентификатор пользователя, совершившего заказ;\n",
    "- date — дата, когда был совершён заказ;\n",
    "- revenue — выручка заказа;\n",
    "- group — группа A/B-теста, в которую попал заказ.\n",
    "\n",
    "Колонка 'date' принадлежит к типу 'object', хотя содержит информацию о датах. Приведу этот столбец к типу 'datetime':"
   ]
  },
  {
   "cell_type": "code",
   "execution_count": 9,
   "metadata": {},
   "outputs": [],
   "source": [
    "orders['date'] = pd.to_datetime(orders['date'])"
   ]
  },
  {
   "cell_type": "markdown",
   "metadata": {},
   "source": [
    "Последний исследуемый датафрейм **'visitors'**:"
   ]
  },
  {
   "cell_type": "code",
   "execution_count": 10,
   "metadata": {},
   "outputs": [
    {
     "data": {
      "text/html": [
       "<div>\n",
       "<style scoped>\n",
       "    .dataframe tbody tr th:only-of-type {\n",
       "        vertical-align: middle;\n",
       "    }\n",
       "\n",
       "    .dataframe tbody tr th {\n",
       "        vertical-align: top;\n",
       "    }\n",
       "\n",
       "    .dataframe thead th {\n",
       "        text-align: right;\n",
       "    }\n",
       "</style>\n",
       "<table border=\"1\" class=\"dataframe\">\n",
       "  <thead>\n",
       "    <tr style=\"text-align: right;\">\n",
       "      <th></th>\n",
       "      <th>date</th>\n",
       "      <th>group</th>\n",
       "      <th>visitors</th>\n",
       "    </tr>\n",
       "  </thead>\n",
       "  <tbody>\n",
       "    <tr>\n",
       "      <th>0</th>\n",
       "      <td>2019-08-01</td>\n",
       "      <td>A</td>\n",
       "      <td>719</td>\n",
       "    </tr>\n",
       "    <tr>\n",
       "      <th>1</th>\n",
       "      <td>2019-08-02</td>\n",
       "      <td>A</td>\n",
       "      <td>619</td>\n",
       "    </tr>\n",
       "    <tr>\n",
       "      <th>2</th>\n",
       "      <td>2019-08-03</td>\n",
       "      <td>A</td>\n",
       "      <td>507</td>\n",
       "    </tr>\n",
       "    <tr>\n",
       "      <th>3</th>\n",
       "      <td>2019-08-04</td>\n",
       "      <td>A</td>\n",
       "      <td>717</td>\n",
       "    </tr>\n",
       "    <tr>\n",
       "      <th>4</th>\n",
       "      <td>2019-08-05</td>\n",
       "      <td>A</td>\n",
       "      <td>756</td>\n",
       "    </tr>\n",
       "  </tbody>\n",
       "</table>\n",
       "</div>"
      ],
      "text/plain": [
       "         date group  visitors\n",
       "0  2019-08-01     A       719\n",
       "1  2019-08-02     A       619\n",
       "2  2019-08-03     A       507\n",
       "3  2019-08-04     A       717\n",
       "4  2019-08-05     A       756"
      ]
     },
     "execution_count": 10,
     "metadata": {},
     "output_type": "execute_result"
    }
   ],
   "source": [
    "visitors.head()"
   ]
  },
  {
   "cell_type": "code",
   "execution_count": 11,
   "metadata": {},
   "outputs": [
    {
     "name": "stdout",
     "output_type": "stream",
     "text": [
      "<class 'pandas.core.frame.DataFrame'>\n",
      "RangeIndex: 62 entries, 0 to 61\n",
      "Data columns (total 3 columns):\n",
      " #   Column    Non-Null Count  Dtype \n",
      "---  ------    --------------  ----- \n",
      " 0   date      62 non-null     object\n",
      " 1   group     62 non-null     object\n",
      " 2   visitors  62 non-null     int64 \n",
      "dtypes: int64(1), object(2)\n",
      "memory usage: 1.6+ KB\n"
     ]
    }
   ],
   "source": [
    "visitors.info()"
   ]
  },
  {
   "cell_type": "markdown",
   "metadata": {},
   "source": [
    "Датафрейм 'visitors' включает в себя 62 строки и 3 колонки:\n",
    "- date — дата;\n",
    "- group — группа A/B-теста;\n",
    "- visitors — количество пользователей в указанную дату в указанной группе A/B-теста\n",
    "\n",
    "Колонка 'date' также принадлежит к типу 'object', повторю приведение к типу 'datetime':"
   ]
  },
  {
   "cell_type": "code",
   "execution_count": 12,
   "metadata": {},
   "outputs": [],
   "source": [
    "visitors['date'] = pd.to_datetime(visitors['date'])"
   ]
  },
  {
   "cell_type": "markdown",
   "metadata": {},
   "source": [
    "Дополнительно проверю исходные данные на наличие дубликатов:"
   ]
  },
  {
   "cell_type": "code",
   "execution_count": 13,
   "metadata": {},
   "outputs": [
    {
     "name": "stdout",
     "output_type": "stream",
     "text": [
      "Обнаружено дубликатов в датафрейме \"hypothesis\": 0\n"
     ]
    }
   ],
   "source": [
    "print('Обнаружено дубликатов в датафрейме \"hypothesis\":', hypothesis.duplicated().sum())"
   ]
  },
  {
   "cell_type": "code",
   "execution_count": 14,
   "metadata": {},
   "outputs": [
    {
     "name": "stdout",
     "output_type": "stream",
     "text": [
      "Обнаружено дубликатов в датафрейме \"orders\": 0\n"
     ]
    }
   ],
   "source": [
    "print('Обнаружено дубликатов в датафрейме \"orders\":', orders.duplicated().sum())"
   ]
  },
  {
   "cell_type": "code",
   "execution_count": 15,
   "metadata": {},
   "outputs": [
    {
     "name": "stdout",
     "output_type": "stream",
     "text": [
      "Обнаружено дубликатов в датафрейме \"visitors\": 0\n"
     ]
    }
   ],
   "source": [
    "print('Обнаружено дубликатов в датафрейме \"visitors\":', orders.duplicated().sum())"
   ]
  },
  {
   "cell_type": "markdown",
   "metadata": {},
   "source": [
    "Так как могут быть такие пользователи, которые попали в обе группы, обработаю исходные данные путем исключения Id, которые вошли и в группу А, и в группу В:"
   ]
  },
  {
   "cell_type": "code",
   "execution_count": 16,
   "metadata": {},
   "outputs": [
    {
     "data": {
      "text/html": [
       "<div>\n",
       "<style scoped>\n",
       "    .dataframe tbody tr th:only-of-type {\n",
       "        vertical-align: middle;\n",
       "    }\n",
       "\n",
       "    .dataframe tbody tr th {\n",
       "        vertical-align: top;\n",
       "    }\n",
       "\n",
       "    .dataframe thead th {\n",
       "        text-align: right;\n",
       "    }\n",
       "</style>\n",
       "<table border=\"1\" class=\"dataframe\">\n",
       "  <thead>\n",
       "    <tr style=\"text-align: right;\">\n",
       "      <th></th>\n",
       "      <th>visitorId</th>\n",
       "      <th>group</th>\n",
       "      <th>revenue</th>\n",
       "    </tr>\n",
       "  </thead>\n",
       "  <tbody>\n",
       "    <tr>\n",
       "      <th>0</th>\n",
       "      <td>5114589</td>\n",
       "      <td>B</td>\n",
       "      <td>570</td>\n",
       "    </tr>\n",
       "    <tr>\n",
       "      <th>1</th>\n",
       "      <td>6958315</td>\n",
       "      <td>B</td>\n",
       "      <td>1490</td>\n",
       "    </tr>\n",
       "    <tr>\n",
       "      <th>4</th>\n",
       "      <td>11685486</td>\n",
       "      <td>A</td>\n",
       "      <td>6201</td>\n",
       "    </tr>\n",
       "    <tr>\n",
       "      <th>5</th>\n",
       "      <td>39475350</td>\n",
       "      <td>B</td>\n",
       "      <td>3990</td>\n",
       "    </tr>\n",
       "    <tr>\n",
       "      <th>6</th>\n",
       "      <td>47206413</td>\n",
       "      <td>B</td>\n",
       "      <td>730</td>\n",
       "    </tr>\n",
       "  </tbody>\n",
       "</table>\n",
       "</div>"
      ],
      "text/plain": [
       "   visitorId group  revenue\n",
       "0    5114589     B      570\n",
       "1    6958315     B     1490\n",
       "4   11685486     A     6201\n",
       "5   39475350     B     3990\n",
       "6   47206413     B      730"
      ]
     },
     "execution_count": 16,
     "metadata": {},
     "output_type": "execute_result"
    }
   ],
   "source": [
    "# сгруппирую данные по идентификатору пользователя и группе, в которую он вошел\n",
    "not_duplicates = orders.groupby(['visitorId', 'group'])['revenue'].sum().reset_index()\n",
    "\n",
    "# с помощью метода drop_duplicates удалю все повторяющиеся идентификаторы пользователей\n",
    "not_duplicates = not_duplicates.drop_duplicates(subset='visitorId', keep=False)\n",
    "\n",
    "not_duplicates.head()"
   ]
  },
  {
   "cell_type": "code",
   "execution_count": 17,
   "metadata": {},
   "outputs": [
    {
     "data": {
      "text/plain": [
       "0     5114589\n",
       "1     6958315\n",
       "4    11685486\n",
       "5    39475350\n",
       "6    47206413\n",
       "Name: visitorId, dtype: int64"
      ]
     },
     "execution_count": 17,
     "metadata": {},
     "output_type": "execute_result"
    }
   ],
   "source": [
    "# для дальнейшей работы создам Series 'visitors', в который войдут \"очищенные\" id пользователей\n",
    "not_duplicates_s = pd.Series(not_duplicates['visitorId'])\n",
    "\n",
    "not_duplicates_s.head()"
   ]
  },
  {
   "cell_type": "code",
   "execution_count": 18,
   "metadata": {},
   "outputs": [],
   "source": [
    "# теперь в датафрейме 'orders' id пользователей принадлежат только к одной группе\n",
    "orders = orders.query('visitorId in @not_duplicates_s')"
   ]
  },
  {
   "cell_type": "markdown",
   "metadata": {},
   "source": [
    "**Вывод:**\n",
    "\n",
    "В данном разделе были исследованы датафреймы 'hypothesis', 'orders' и 'visitors', содержащие в себе информацию о проверяемых гопотезах, заказах и пользователях интернет-магазина. \n",
    "\n",
    "Колонки 'date', содержащие данные о датах, были приведены к типу datetime.\n",
    "\n",
    "Дубликаты и пропущенные данные не были обнаружены.\n",
    "\n",
    "\n",
    "Исходные данные содержали пользователей, попавших в обе группы. В процессе преодобработки информация о таких пользователях была удалена."
   ]
  },
  {
   "cell_type": "markdown",
   "metadata": {},
   "source": [
    "## Исследовательский анализ данных"
   ]
  },
  {
   "cell_type": "markdown",
   "metadata": {},
   "source": [
    "### Приоритизация гипотез"
   ]
  },
  {
   "cell_type": "markdown",
   "metadata": {},
   "source": [
    "Для увеличения выручки отделом маркетинга было составлено 9 гипотез, но так как проверка всех потребует больших ресурсов, необходимо выбрать какие гипотезы стоит тестировать, а какие нет. Для этого их следует приоритизировать.\n",
    "\n",
    "Начну с одного из самых популярных способов приоритизации - ICE.  \n",
    "Аббревиатура включает 3 фактора, которые можно использовать для оценки и приоритизации гипотез:\n",
    "- Impact — влияние;\n",
    "- Confidence — уверенность в оценке охвата, влияния и трудозатрат;\n",
    "- Effort — трудозатраты.\n",
    "\n",
    "Для его расчета необходимо перемножить такие показатели как 'impact', 'confidence' и разделить произведение на 'efforts'. Эти данные содержатся в датафрейме 'hypothesis'"
   ]
  },
  {
   "cell_type": "code",
   "execution_count": 19,
   "metadata": {},
   "outputs": [
    {
     "data": {
      "text/html": [
       "<div>\n",
       "<style scoped>\n",
       "    .dataframe tbody tr th:only-of-type {\n",
       "        vertical-align: middle;\n",
       "    }\n",
       "\n",
       "    .dataframe tbody tr th {\n",
       "        vertical-align: top;\n",
       "    }\n",
       "\n",
       "    .dataframe thead th {\n",
       "        text-align: right;\n",
       "    }\n",
       "</style>\n",
       "<table border=\"1\" class=\"dataframe\">\n",
       "  <thead>\n",
       "    <tr style=\"text-align: right;\">\n",
       "      <th></th>\n",
       "      <th>hypothesis</th>\n",
       "      <th>ICE</th>\n",
       "    </tr>\n",
       "  </thead>\n",
       "  <tbody>\n",
       "    <tr>\n",
       "      <th>8</th>\n",
       "      <td>Запустить акцию, дающую скидку на товар в день...</td>\n",
       "      <td>16.200000</td>\n",
       "    </tr>\n",
       "    <tr>\n",
       "      <th>0</th>\n",
       "      <td>Добавить два новых канала привлечения трафика,...</td>\n",
       "      <td>13.333333</td>\n",
       "    </tr>\n",
       "    <tr>\n",
       "      <th>7</th>\n",
       "      <td>Добавить форму подписки на все основные страни...</td>\n",
       "      <td>11.200000</td>\n",
       "    </tr>\n",
       "    <tr>\n",
       "      <th>6</th>\n",
       "      <td>Показать на главной странице баннеры с актуаль...</td>\n",
       "      <td>8.000000</td>\n",
       "    </tr>\n",
       "    <tr>\n",
       "      <th>2</th>\n",
       "      <td>Добавить блоки рекомендаций товаров на сайт ин...</td>\n",
       "      <td>7.000000</td>\n",
       "    </tr>\n",
       "    <tr>\n",
       "      <th>1</th>\n",
       "      <td>Запустить собственную службу доставки, что сок...</td>\n",
       "      <td>2.000000</td>\n",
       "    </tr>\n",
       "    <tr>\n",
       "      <th>5</th>\n",
       "      <td>Добавить страницу отзывов клиентов о магазине,...</td>\n",
       "      <td>1.333333</td>\n",
       "    </tr>\n",
       "    <tr>\n",
       "      <th>3</th>\n",
       "      <td>Изменить структура категорий, что увеличит кон...</td>\n",
       "      <td>1.125000</td>\n",
       "    </tr>\n",
       "    <tr>\n",
       "      <th>4</th>\n",
       "      <td>Изменить цвет фона главной страницы, чтобы уве...</td>\n",
       "      <td>1.000000</td>\n",
       "    </tr>\n",
       "  </tbody>\n",
       "</table>\n",
       "</div>"
      ],
      "text/plain": [
       "                                          hypothesis        ICE\n",
       "8  Запустить акцию, дающую скидку на товар в день...  16.200000\n",
       "0  Добавить два новых канала привлечения трафика,...  13.333333\n",
       "7  Добавить форму подписки на все основные страни...  11.200000\n",
       "6  Показать на главной странице баннеры с актуаль...   8.000000\n",
       "2  Добавить блоки рекомендаций товаров на сайт ин...   7.000000\n",
       "1  Запустить собственную службу доставки, что сок...   2.000000\n",
       "5  Добавить страницу отзывов клиентов о магазине,...   1.333333\n",
       "3  Изменить структура категорий, что увеличит кон...   1.125000\n",
       "4  Изменить цвет фона главной страницы, чтобы уве...   1.000000"
      ]
     },
     "metadata": {},
     "output_type": "display_data"
    }
   ],
   "source": [
    "# ICE SCORE = (Impact + Confidence)/Efforts\n",
    "\n",
    "hypothesis['ICE'] = (hypothesis['impact']*hypothesis['confidence'])/hypothesis['efforts']\n",
    "\n",
    "display(hypothesis[['hypothesis', 'ICE']].sort_values(by = 'ICE', ascending=False))"
   ]
  },
  {
   "cell_type": "markdown",
   "metadata": {},
   "source": [
    "У метода ICE есть модификация RICE, отличающаяся тем, что к в произведение к 'impact' и 'confidence' добавляется еще показатель 'reach' - охват"
   ]
  },
  {
   "cell_type": "code",
   "execution_count": 20,
   "metadata": {},
   "outputs": [
    {
     "data": {
      "text/html": [
       "<div>\n",
       "<style scoped>\n",
       "    .dataframe tbody tr th:only-of-type {\n",
       "        vertical-align: middle;\n",
       "    }\n",
       "\n",
       "    .dataframe tbody tr th {\n",
       "        vertical-align: top;\n",
       "    }\n",
       "\n",
       "    .dataframe thead th {\n",
       "        text-align: right;\n",
       "    }\n",
       "</style>\n",
       "<table border=\"1\" class=\"dataframe\">\n",
       "  <thead>\n",
       "    <tr style=\"text-align: right;\">\n",
       "      <th></th>\n",
       "      <th>hypothesis</th>\n",
       "      <th>RICE</th>\n",
       "    </tr>\n",
       "  </thead>\n",
       "  <tbody>\n",
       "    <tr>\n",
       "      <th>7</th>\n",
       "      <td>Добавить форму подписки на все основные страни...</td>\n",
       "      <td>112.0</td>\n",
       "    </tr>\n",
       "    <tr>\n",
       "      <th>2</th>\n",
       "      <td>Добавить блоки рекомендаций товаров на сайт ин...</td>\n",
       "      <td>56.0</td>\n",
       "    </tr>\n",
       "    <tr>\n",
       "      <th>0</th>\n",
       "      <td>Добавить два новых канала привлечения трафика,...</td>\n",
       "      <td>40.0</td>\n",
       "    </tr>\n",
       "    <tr>\n",
       "      <th>6</th>\n",
       "      <td>Показать на главной странице баннеры с актуаль...</td>\n",
       "      <td>40.0</td>\n",
       "    </tr>\n",
       "    <tr>\n",
       "      <th>8</th>\n",
       "      <td>Запустить акцию, дающую скидку на товар в день...</td>\n",
       "      <td>16.2</td>\n",
       "    </tr>\n",
       "    <tr>\n",
       "      <th>3</th>\n",
       "      <td>Изменить структура категорий, что увеличит кон...</td>\n",
       "      <td>9.0</td>\n",
       "    </tr>\n",
       "    <tr>\n",
       "      <th>1</th>\n",
       "      <td>Запустить собственную службу доставки, что сок...</td>\n",
       "      <td>4.0</td>\n",
       "    </tr>\n",
       "    <tr>\n",
       "      <th>5</th>\n",
       "      <td>Добавить страницу отзывов клиентов о магазине,...</td>\n",
       "      <td>4.0</td>\n",
       "    </tr>\n",
       "    <tr>\n",
       "      <th>4</th>\n",
       "      <td>Изменить цвет фона главной страницы, чтобы уве...</td>\n",
       "      <td>3.0</td>\n",
       "    </tr>\n",
       "  </tbody>\n",
       "</table>\n",
       "</div>"
      ],
      "text/plain": [
       "                                          hypothesis   RICE\n",
       "7  Добавить форму подписки на все основные страни...  112.0\n",
       "2  Добавить блоки рекомендаций товаров на сайт ин...   56.0\n",
       "0  Добавить два новых канала привлечения трафика,...   40.0\n",
       "6  Показать на главной странице баннеры с актуаль...   40.0\n",
       "8  Запустить акцию, дающую скидку на товар в день...   16.2\n",
       "3  Изменить структура категорий, что увеличит кон...    9.0\n",
       "1  Запустить собственную службу доставки, что сок...    4.0\n",
       "5  Добавить страницу отзывов клиентов о магазине,...    4.0\n",
       "4  Изменить цвет фона главной страницы, чтобы уве...    3.0"
      ]
     },
     "metadata": {},
     "output_type": "display_data"
    }
   ],
   "source": [
    "#RICE = (Reach * Impact * Confidence) / Effort\n",
    "\n",
    "hypothesis['RICE'] = (hypothesis['reach']*hypothesis['impact']*hypothesis['confidence'])/hypothesis['efforts']\n",
    "\n",
    "display(hypothesis[['hypothesis', 'RICE']].sort_values(by = 'RICE', ascending=False))"
   ]
  },
  {
   "cell_type": "markdown",
   "metadata": {},
   "source": [
    "**Вывод:**\n",
    "\n",
    "Если сравнить 3 лидирующие гипотезы по методам ICE и RICE, можно увидеть, что 2 из 3 совпадают в обоих способах. Это 'Добавление двух новых каналов для привлечения трафика, что позволит привлекать на 30% больше пользователей' и 'Добавление формы подписки на все основные страницы, чтобы собрать базу клиентов для email-рассылок'. \n",
    "\n",
    "Однако в методе RICE место гипотезы 'Запустить акцию, дающую скидку на товар в день рождения' заняла гипотеза 'Добавить блоки рекомендаций товаров на сайт интернет магазина, чтобы повысить конверсию и средний чек заказа'. Можно сделать вывод, что способ RICE позволил избежать предвзятого отношения к функции, дающей скидки в день рождения, которую хотелось бы использовать самому, т.к. вышеуказанный способ содержит компонет 'reach', позволяющий оценить ка повлияет проект на множество людей в течение определенного периода."
   ]
  },
  {
   "cell_type": "markdown",
   "metadata": {},
   "source": [
    "### Анализ A/B-теста"
   ]
  },
  {
   "cell_type": "markdown",
   "metadata": {},
   "source": [
    "#### График кумулятивной выручки по группам"
   ]
  },
  {
   "cell_type": "markdown",
   "metadata": {},
   "source": [
    "Для начала создам датафрейм 'datesGroups', в котором будут содержаться уникальные пары значений дат и групп теста"
   ]
  },
  {
   "cell_type": "code",
   "execution_count": 21,
   "metadata": {},
   "outputs": [],
   "source": [
    "datesGroups = orders[['date','group']].drop_duplicates()"
   ]
  },
  {
   "cell_type": "markdown",
   "metadata": {},
   "source": [
    "Создам агрегированные кумулятивные по дням данные о заказах с помощью функции np.logical_and(), которая позволяет применить булевы операции к объектам Series. Также вычислю максимум по дате и группе A/B-теста, в которую попал заказ. Также найду число уникальных id заказов и пользователей и посчитаю сумму средних чеков. В завершение отсортирую результат по столбцам 'date' и 'group'.\n",
    "\n",
    "Таким образом получу строки таблицы orders, дата которых меньше или равна дате элемента из datesGroups, а группа теста равна группе из datesGroups:"
   ]
  },
  {
   "cell_type": "code",
   "execution_count": 22,
   "metadata": {},
   "outputs": [
    {
     "data": {
      "text/html": [
       "<div>\n",
       "<style scoped>\n",
       "    .dataframe tbody tr th:only-of-type {\n",
       "        vertical-align: middle;\n",
       "    }\n",
       "\n",
       "    .dataframe tbody tr th {\n",
       "        vertical-align: top;\n",
       "    }\n",
       "\n",
       "    .dataframe thead th {\n",
       "        text-align: right;\n",
       "    }\n",
       "</style>\n",
       "<table border=\"1\" class=\"dataframe\">\n",
       "  <thead>\n",
       "    <tr style=\"text-align: right;\">\n",
       "      <th></th>\n",
       "      <th>date</th>\n",
       "      <th>group</th>\n",
       "      <th>transactionId</th>\n",
       "      <th>visitorId</th>\n",
       "      <th>revenue</th>\n",
       "    </tr>\n",
       "  </thead>\n",
       "  <tbody>\n",
       "    <tr>\n",
       "      <th>55</th>\n",
       "      <td>2019-08-01</td>\n",
       "      <td>A</td>\n",
       "      <td>23</td>\n",
       "      <td>19</td>\n",
       "      <td>142779</td>\n",
       "    </tr>\n",
       "    <tr>\n",
       "      <th>66</th>\n",
       "      <td>2019-08-01</td>\n",
       "      <td>B</td>\n",
       "      <td>17</td>\n",
       "      <td>17</td>\n",
       "      <td>59758</td>\n",
       "    </tr>\n",
       "    <tr>\n",
       "      <th>175</th>\n",
       "      <td>2019-08-02</td>\n",
       "      <td>A</td>\n",
       "      <td>42</td>\n",
       "      <td>36</td>\n",
       "      <td>234381</td>\n",
       "    </tr>\n",
       "    <tr>\n",
       "      <th>173</th>\n",
       "      <td>2019-08-02</td>\n",
       "      <td>B</td>\n",
       "      <td>40</td>\n",
       "      <td>39</td>\n",
       "      <td>221801</td>\n",
       "    </tr>\n",
       "    <tr>\n",
       "      <th>291</th>\n",
       "      <td>2019-08-03</td>\n",
       "      <td>A</td>\n",
       "      <td>66</td>\n",
       "      <td>60</td>\n",
       "      <td>346854</td>\n",
       "    </tr>\n",
       "  </tbody>\n",
       "</table>\n",
       "</div>"
      ],
      "text/plain": [
       "          date group  transactionId  visitorId  revenue\n",
       "55  2019-08-01     A             23         19   142779\n",
       "66  2019-08-01     B             17         17    59758\n",
       "175 2019-08-02     A             42         36   234381\n",
       "173 2019-08-02     B             40         39   221801\n",
       "291 2019-08-03     A             66         60   346854"
      ]
     },
     "execution_count": 22,
     "metadata": {},
     "output_type": "execute_result"
    }
   ],
   "source": [
    "orders_agg = datesGroups.apply(lambda x: orders[np.logical_and(orders['date'] <= x['date'], \n",
    "                                                               orders['group'] == x['group'])].agg({'date' : 'max', \n",
    "                                                                                                    'group' : 'max', \n",
    "                                                                                                    'transactionId' : pd.Series.nunique, \n",
    "                                                                                                    'visitorId' : pd.Series.nunique, \n",
    "                                                                                                    'revenue' : 'sum'}), axis=1).sort_values(by=['date',\n",
    "                                                                                                                                                 'group'])\n",
    "orders_agg.head()"
   ]
  },
  {
   "cell_type": "markdown",
   "metadata": {},
   "source": [
    "Аналогично получу агрегированные кумулятивные по дням данные о посетителях интернет-магазина:"
   ]
  },
  {
   "cell_type": "code",
   "execution_count": 23,
   "metadata": {},
   "outputs": [
    {
     "data": {
      "text/html": [
       "<div>\n",
       "<style scoped>\n",
       "    .dataframe tbody tr th:only-of-type {\n",
       "        vertical-align: middle;\n",
       "    }\n",
       "\n",
       "    .dataframe tbody tr th {\n",
       "        vertical-align: top;\n",
       "    }\n",
       "\n",
       "    .dataframe thead th {\n",
       "        text-align: right;\n",
       "    }\n",
       "</style>\n",
       "<table border=\"1\" class=\"dataframe\">\n",
       "  <thead>\n",
       "    <tr style=\"text-align: right;\">\n",
       "      <th></th>\n",
       "      <th>date</th>\n",
       "      <th>group</th>\n",
       "      <th>visitors</th>\n",
       "    </tr>\n",
       "  </thead>\n",
       "  <tbody>\n",
       "    <tr>\n",
       "      <th>55</th>\n",
       "      <td>2019-08-01</td>\n",
       "      <td>A</td>\n",
       "      <td>719</td>\n",
       "    </tr>\n",
       "    <tr>\n",
       "      <th>66</th>\n",
       "      <td>2019-08-01</td>\n",
       "      <td>B</td>\n",
       "      <td>713</td>\n",
       "    </tr>\n",
       "    <tr>\n",
       "      <th>175</th>\n",
       "      <td>2019-08-02</td>\n",
       "      <td>A</td>\n",
       "      <td>1338</td>\n",
       "    </tr>\n",
       "    <tr>\n",
       "      <th>173</th>\n",
       "      <td>2019-08-02</td>\n",
       "      <td>B</td>\n",
       "      <td>1294</td>\n",
       "    </tr>\n",
       "    <tr>\n",
       "      <th>291</th>\n",
       "      <td>2019-08-03</td>\n",
       "      <td>A</td>\n",
       "      <td>1845</td>\n",
       "    </tr>\n",
       "  </tbody>\n",
       "</table>\n",
       "</div>"
      ],
      "text/plain": [
       "          date group  visitors\n",
       "55  2019-08-01     A       719\n",
       "66  2019-08-01     B       713\n",
       "175 2019-08-02     A      1338\n",
       "173 2019-08-02     B      1294\n",
       "291 2019-08-03     A      1845"
      ]
     },
     "execution_count": 23,
     "metadata": {},
     "output_type": "execute_result"
    }
   ],
   "source": [
    "visitors_agg = datesGroups.apply(lambda x: visitors[np.logical_and(visitors['date'] <= x['date'], \n",
    "                                                                   visitors['group'] == x['group'])].agg({'date' : 'max', \n",
    "                                                                                                          'group' : 'max', \n",
    "                                                                                                          'visitors' : 'sum'}), axis=1).sort_values(by=['date',\n",
    "                                                                                                                                                      'group'])\n",
    "visitors_agg.head()"
   ]
  },
  {
   "cell_type": "markdown",
   "metadata": {},
   "source": [
    "Объединю кумулятивные данные в новом датафрейме 'cumulative' и присвою ее столбцам новые названия:"
   ]
  },
  {
   "cell_type": "code",
   "execution_count": 24,
   "metadata": {},
   "outputs": [
    {
     "data": {
      "text/html": [
       "<div>\n",
       "<style scoped>\n",
       "    .dataframe tbody tr th:only-of-type {\n",
       "        vertical-align: middle;\n",
       "    }\n",
       "\n",
       "    .dataframe tbody tr th {\n",
       "        vertical-align: top;\n",
       "    }\n",
       "\n",
       "    .dataframe thead th {\n",
       "        text-align: right;\n",
       "    }\n",
       "</style>\n",
       "<table border=\"1\" class=\"dataframe\">\n",
       "  <thead>\n",
       "    <tr style=\"text-align: right;\">\n",
       "      <th></th>\n",
       "      <th>date</th>\n",
       "      <th>group</th>\n",
       "      <th>orders</th>\n",
       "      <th>buyers</th>\n",
       "      <th>revenue</th>\n",
       "      <th>visitors</th>\n",
       "    </tr>\n",
       "  </thead>\n",
       "  <tbody>\n",
       "    <tr>\n",
       "      <th>0</th>\n",
       "      <td>2019-08-01</td>\n",
       "      <td>A</td>\n",
       "      <td>23</td>\n",
       "      <td>19</td>\n",
       "      <td>142779</td>\n",
       "      <td>719</td>\n",
       "    </tr>\n",
       "    <tr>\n",
       "      <th>1</th>\n",
       "      <td>2019-08-01</td>\n",
       "      <td>B</td>\n",
       "      <td>17</td>\n",
       "      <td>17</td>\n",
       "      <td>59758</td>\n",
       "      <td>713</td>\n",
       "    </tr>\n",
       "    <tr>\n",
       "      <th>2</th>\n",
       "      <td>2019-08-02</td>\n",
       "      <td>A</td>\n",
       "      <td>42</td>\n",
       "      <td>36</td>\n",
       "      <td>234381</td>\n",
       "      <td>1338</td>\n",
       "    </tr>\n",
       "    <tr>\n",
       "      <th>3</th>\n",
       "      <td>2019-08-02</td>\n",
       "      <td>B</td>\n",
       "      <td>40</td>\n",
       "      <td>39</td>\n",
       "      <td>221801</td>\n",
       "      <td>1294</td>\n",
       "    </tr>\n",
       "    <tr>\n",
       "      <th>4</th>\n",
       "      <td>2019-08-03</td>\n",
       "      <td>A</td>\n",
       "      <td>66</td>\n",
       "      <td>60</td>\n",
       "      <td>346854</td>\n",
       "      <td>1845</td>\n",
       "    </tr>\n",
       "  </tbody>\n",
       "</table>\n",
       "</div>"
      ],
      "text/plain": [
       "        date group  orders  buyers  revenue  visitors\n",
       "0 2019-08-01     A      23      19   142779       719\n",
       "1 2019-08-01     B      17      17    59758       713\n",
       "2 2019-08-02     A      42      36   234381      1338\n",
       "3 2019-08-02     B      40      39   221801      1294\n",
       "4 2019-08-03     A      66      60   346854      1845"
      ]
     },
     "execution_count": 24,
     "metadata": {},
     "output_type": "execute_result"
    }
   ],
   "source": [
    "cumulative = orders_agg.merge(visitors_agg, left_on=['date', 'group'], right_on=['date', 'group'])\n",
    "cumulative.columns = ['date', 'group', 'orders', 'buyers', 'revenue', 'visitors']\n",
    "\n",
    "cumulative.head()"
   ]
  },
  {
   "cell_type": "markdown",
   "metadata": {},
   "source": [
    "Создам датафреймы с кумулятивным количеством заказов и кумулятивной выручкой по дням в группе А и в группе В:"
   ]
  },
  {
   "cell_type": "code",
   "execution_count": 25,
   "metadata": {},
   "outputs": [],
   "source": [
    "cumulative_A = cumulative[cumulative['group']=='A'][['date','revenue', 'orders']]\n",
    "\n",
    "cumulative_B = cumulative[cumulative['group']=='B'][['date','revenue', 'orders']]"
   ]
  },
  {
   "cell_type": "markdown",
   "metadata": {},
   "source": [
    "Построю график выручки группы А и группы В:"
   ]
  },
  {
   "cell_type": "code",
   "execution_count": 26,
   "metadata": {},
   "outputs": [
    {
     "data": {
      "image/png": "[encoded data removed]",
      "text/plain": [
       "<Figure size 1080x360 with 1 Axes>"
      ]
     },
     "metadata": {
      "needs_background": "light"
     },
     "output_type": "display_data"
    }
   ],
   "source": [
    "plt.figure(figsize=(15,5))\n",
    "plt.grid(True)\n",
    "plt.plot(cumulative_A['date'], \n",
    "         cumulative_A['revenue'], \n",
    "         label='A')\n",
    "\n",
    "plt.plot(cumulative_B['date'], \n",
    "         cumulative_B['revenue'], \n",
    "         label='B')\n",
    "\n",
    "plt.legend()\n",
    "plt.xlabel('Дата')\n",
    "plt.ylabel('Выручка')\n",
    "plt.title('Выручка групп А и В');"
   ]
  },
  {
   "cell_type": "markdown",
   "metadata": {},
   "source": [
    "**Вывод:**\n",
    "\n",
    "Можно увидеть, что по 8 августа 2019 года выручка растет практически равномерно. Однако, между 17 и 21 августа кумулятивная выручка группы В резко возрастает. Это может сигнализировать о всплесках числа заказов, либо о появлении очень дорогих заказов в выборке."
   ]
  },
  {
   "cell_type": "markdown",
   "metadata": {},
   "source": [
    "#### График кумулятивного среднего чека по группам"
   ]
  },
  {
   "cell_type": "markdown",
   "metadata": {},
   "source": [
    "Построю графики среднего чека по группам путем деления кумулятивной выручки на кумулятивное число заказов:"
   ]
  },
  {
   "cell_type": "code",
   "execution_count": 27,
   "metadata": {},
   "outputs": [
    {
     "data": {
      "image/png": "[encoded data removed]",
      "text/plain": [
       "<Figure size 1080x360 with 1 Axes>"
      ]
     },
     "metadata": {
      "needs_background": "light"
     },
     "output_type": "display_data"
    }
   ],
   "source": [
    "plt.figure(figsize=(15,5))\n",
    "plt.grid(True)\n",
    "plt.plot(cumulative_A['date'], cumulative_A['revenue']/cumulative_A['orders'], label='A')\n",
    "plt.plot(cumulative_B['date'], cumulative_B['revenue']/cumulative_B['orders'], label='B')\n",
    "plt.legend()\n",
    "plt.xlabel('Дата')\n",
    "plt.ylabel('Средний чек')\n",
    "plt.title('Средний чек групп А и В');"
   ]
  },
  {
   "cell_type": "markdown",
   "metadata": {},
   "source": [
    "**Вывод:**\n",
    "\n",
    "Средний чек имеет несколько точек соприкосновения: 2го августа средний чек группы А резко пошел в рост, в то время как средний чек по группе В наоборот снижался. 11-12го  августа средний чек по группе В возрос и 'догнал' средний чек по группе А, был на пике 13го августа, а 15го августа снова совпал по значению и уже держался на уровне ~7000 до конца анализируемого периода.\n",
    "Средний чек по группе В на всем временном отрезке возрастал скачкообразно, достигнув максимума 19 августа на отметке свыше 10000. Возможно это объясняется наличием крупных заказов."
   ]
  },
  {
   "cell_type": "markdown",
   "metadata": {},
   "source": [
    "#### График относительного изменения кумулятивного среднего чека группы B к группе A"
   ]
  },
  {
   "cell_type": "code",
   "execution_count": 28,
   "metadata": {},
   "outputs": [
    {
     "data": {
      "image/png": "[encoded data removed]",
      "text/plain": [
       "<Figure size 1080x360 with 1 Axes>"
      ]
     },
     "metadata": {
      "needs_background": "light"
     },
     "output_type": "display_data"
    }
   ],
   "source": [
    "# объединю данные в новом датафрейме\n",
    "cumulative_merge = cumulative_A.merge(cumulative_B, left_on='date', right_on='date', how='left', suffixes=['A', 'B'])\n",
    "\n",
    "# построю отношение средних чеков\n",
    "plt.figure(figsize=(15,5))\n",
    "plt.grid(True)\n",
    "plt.xlabel('Дата')\n",
    "plt.title('Относительное изменение кумулятивного среднего чека группы B к группе A')\n",
    "plt.plot(cumulative_merge['date'], (cumulative_merge['revenueB']/cumulative_merge['ordersB'])/(cumulative_merge['revenueA']/cumulative_merge['ordersA'])-1)\n",
    "\n",
    "# добавлю ось X методом axhline()\n",
    "plt.axhline(y=0, color='black', linestyle='--');"
   ]
  },
  {
   "cell_type": "markdown",
   "metadata": {},
   "source": [
    "**Вывод:**\n",
    "\n",
    "На графике можно увидеть скачкообразное изменение среднего чека: пик 6-8 августа, резкое падение 13 августа и максимальное значение за анализируемый период, приходящееся на 19 августа. Необходимо в дальнейшем исследовать данные на выбросы.\n",
    "\n",
    "Использую данные о минимальном и максимальном значении оси у для построения графика комулятивной прогрессии"
   ]
  },
  {
   "cell_type": "markdown",
   "metadata": {},
   "source": [
    "#### График кумулятивной конверсии по группам"
   ]
  },
  {
   "cell_type": "markdown",
   "metadata": {},
   "source": [
    "Рассчитаю кумулятивную конверсию:"
   ]
  },
  {
   "cell_type": "code",
   "execution_count": 29,
   "metadata": {},
   "outputs": [],
   "source": [
    "cumulative['conversion'] = cumulative['orders']/cumulative['visitors']"
   ]
  },
  {
   "cell_type": "markdown",
   "metadata": {},
   "source": [
    "Отделю данные по группам:"
   ]
  },
  {
   "cell_type": "code",
   "execution_count": 30,
   "metadata": {},
   "outputs": [],
   "source": [
    "cumulativeDataA = cumulative[cumulative['group']=='A']\n",
    "\n",
    "cumulativeDataB = cumulative[cumulative['group']=='B']"
   ]
  },
  {
   "cell_type": "markdown",
   "metadata": {},
   "source": [
    "Построю графики. Для этого задам масштаб осей методом plt.axis(). Передам ему минимальное и максимальное значения оси x; минимальное и максимальное значения оси y:"
   ]
  },
  {
   "cell_type": "code",
   "execution_count": 31,
   "metadata": {
    "scrolled": true
   },
   "outputs": [
    {
     "data": {
      "image/png": "[encoded data removed]",
      "text/plain": [
       "<Figure size 1080x360 with 1 Axes>"
      ]
     },
     "metadata": {
      "needs_background": "light"
     },
     "output_type": "display_data"
    }
   ],
   "source": [
    "plt.figure(figsize=(15,5))\n",
    "plt.grid(True)\n",
    "plt.plot(cumulativeDataA['date'], cumulativeDataA['conversion'], label='A')\n",
    "plt.plot(cumulativeDataB['date'], cumulativeDataB['conversion'], label='B')\n",
    "plt.legend()\n",
    "plt.xlabel('Дата')\n",
    "plt.title('Кумулятивная конверсия по группам');"
   ]
  },
  {
   "cell_type": "markdown",
   "metadata": {},
   "source": [
    "**Вывод:**\n",
    "\n",
    "В интервале между 1 и 3 августа у обеих групп наблюдался резкий рост конверсии. Однако, после спада 4 августа, линия конверсии группы В резко пошла вверх, в то время как линия конверсии группы А практически симметрично пошла на спад. Проанализирую данные глубже с помощью графика относительного различия конверсий"
   ]
  },
  {
   "cell_type": "markdown",
   "metadata": {},
   "source": [
    "#### График относительного изменения кумулятивной конверсии группы B к группе A"
   ]
  },
  {
   "cell_type": "markdown",
   "metadata": {},
   "source": [
    "Объединю датафреймы 'cumulativeDataA'и 'cumulativeDataB' так, чтобы итоговый датафрейм 'cumulative_conversions' содержал информацию о дате и конверсии обеих групп"
   ]
  },
  {
   "cell_type": "code",
   "execution_count": 32,
   "metadata": {},
   "outputs": [],
   "source": [
    "cumulative_conversions = cumulativeDataA[['date','conversion']].merge(cumulativeDataB[['date','conversion']], \n",
    "                                                                      left_on='date', \n",
    "                                                                      right_on='date', \n",
    "                                                                      how='left', \n",
    "                                                                      suffixes=['A', 'B'])"
   ]
  },
  {
   "cell_type": "markdown",
   "metadata": {},
   "source": [
    "Построю график относительного различия кумулятивной конверсии группы B к группе A"
   ]
  },
  {
   "cell_type": "code",
   "execution_count": 33,
   "metadata": {},
   "outputs": [
    {
     "data": {
      "image/png": "[encoded data removed]",
      "text/plain": [
       "<Figure size 1080x360 with 1 Axes>"
      ]
     },
     "metadata": {
      "needs_background": "light"
     },
     "output_type": "display_data"
    }
   ],
   "source": [
    "plt.figure(figsize=(15,5))\n",
    "plt.grid(True)\n",
    "plt.plot(cumulative_conversions['date'], cumulative_conversions['conversionB']/cumulative_conversions['conversionA']-1)\n",
    "plt.legend(['Относительный прирост конверсии группы B относительно группы A'])\n",
    "plt.xlabel('Дата')\n",
    "plt.title('Относительное различие кумулятивной конверсии группы B к группе A')\n",
    "\n",
    "plt.axhline(y=0, color='black', linestyle='--')\n",
    "plt.axhline(y=-0.16, color='grey', linestyle='--');"
   ]
  },
  {
   "cell_type": "markdown",
   "metadata": {},
   "source": [
    "**Вывод:**\n",
    "\n",
    "При анализе данного графика можно сделать вывод о значительном превосходстве конверсии группы В по отношению к конверсии группы А несмотря на отрицательные значения в начале теста"
   ]
  },
  {
   "cell_type": "markdown",
   "metadata": {},
   "source": [
    "#### Точечный график количества заказов по пользователям"
   ]
  },
  {
   "cell_type": "markdown",
   "metadata": {},
   "source": [
    "В связи с тем, что пользователи, совершившие много заказов, влияют на числитель формулы конверсии, необходимо рассчитать количество заказов по пользователям.\n",
    "\n",
    "Для этого создам датафрейм 'ordersByUsers', в котором будут содержаться уникальные сочетания значений групп теста, выручки по заказам и дат, сгруппированные по идентификатору заказа и с количеством уникальных id заказов. Отсортирую по уменьшению количества заказов"
   ]
  },
  {
   "cell_type": "code",
   "execution_count": 34,
   "metadata": {},
   "outputs": [
    {
     "data": {
      "text/html": [
       "<div>\n",
       "<style scoped>\n",
       "    .dataframe tbody tr th:only-of-type {\n",
       "        vertical-align: middle;\n",
       "    }\n",
       "\n",
       "    .dataframe tbody tr th {\n",
       "        vertical-align: top;\n",
       "    }\n",
       "\n",
       "    .dataframe thead th {\n",
       "        text-align: right;\n",
       "    }\n",
       "</style>\n",
       "<table border=\"1\" class=\"dataframe\">\n",
       "  <thead>\n",
       "    <tr style=\"text-align: right;\">\n",
       "      <th></th>\n",
       "      <th>visitorId</th>\n",
       "      <th>orders</th>\n",
       "    </tr>\n",
       "  </thead>\n",
       "  <tbody>\n",
       "    <tr>\n",
       "      <th>908</th>\n",
       "      <td>3967698036</td>\n",
       "      <td>3</td>\n",
       "    </tr>\n",
       "    <tr>\n",
       "      <th>55</th>\n",
       "      <td>249864742</td>\n",
       "      <td>3</td>\n",
       "    </tr>\n",
       "    <tr>\n",
       "      <th>478</th>\n",
       "      <td>2108163459</td>\n",
       "      <td>3</td>\n",
       "    </tr>\n",
       "    <tr>\n",
       "      <th>687</th>\n",
       "      <td>2988190573</td>\n",
       "      <td>3</td>\n",
       "    </tr>\n",
       "    <tr>\n",
       "      <th>890</th>\n",
       "      <td>3908431265</td>\n",
       "      <td>3</td>\n",
       "    </tr>\n",
       "  </tbody>\n",
       "</table>\n",
       "</div>"
      ],
      "text/plain": [
       "      visitorId  orders\n",
       "908  3967698036       3\n",
       "55    249864742       3\n",
       "478  2108163459       3\n",
       "687  2988190573       3\n",
       "890  3908431265       3"
      ]
     },
     "execution_count": 34,
     "metadata": {},
     "output_type": "execute_result"
    }
   ],
   "source": [
    "ordersByUsers = orders.drop(['group', 'revenue', 'date'], axis=1).groupby('visitorId', as_index=False).agg({'transactionId': pd.Series.nunique})\n",
    "\n",
    "ordersByUsers.columns = ['visitorId', 'orders']\n",
    "\n",
    "ordersByUsers.sort_values(by='orders', ascending=False).head()"
   ]
  },
  {
   "cell_type": "markdown",
   "metadata": {},
   "source": [
    "Далее построю точечную диаграмму числа заказов на одного пользователя. В Series 'x_values' будут содержаться значения для оси х - количество уникальных пользователей, совершивших заказ "
   ]
  },
  {
   "cell_type": "code",
   "execution_count": 35,
   "metadata": {},
   "outputs": [
    {
     "data": {
      "image/png": "[encoded data removed]",
      "text/plain": [
       "<Figure size 1080x360 with 1 Axes>"
      ]
     },
     "metadata": {
      "needs_background": "light"
     },
     "output_type": "display_data"
    }
   ],
   "source": [
    "x_values = pd.Series(range(0,len(ordersByUsers)))\n",
    "\n",
    "plt.figure(figsize=(15,5))\n",
    "plt.grid(True)\n",
    "plt.scatter(x_values, ordersByUsers['orders'])\n",
    "plt.ylabel('Уникальные пользователи')\n",
    "plt.xlabel('Количество заказов');"
   ]
  },
  {
   "cell_type": "markdown",
   "metadata": {},
   "source": [
    "**Вывод:**\n",
    "\n",
    "Данные датафрейма 'ordersByUsers' показали, что среди посетителей интернет-магазина есть такие, которые делают и по 3 заказа, что весьма много для анализируемого периода.\n",
    "\n",
    "На точечном графике видно: есть много пользователей, сделавших 2 и более заказа. Однако на графике невозможно определить долю таких пользователей. \n",
    "\n",
    "Посчитаю для этого выборочные перцентили количества заказов на одного пользователя."
   ]
  },
  {
   "cell_type": "markdown",
   "metadata": {},
   "source": [
    "#### Расчет 95-го и 99-го перцентиля количества заказов на пользователя"
   ]
  },
  {
   "cell_type": "markdown",
   "metadata": {},
   "source": [
    "Для подсчёта перцентилей применю метод percentile(). Определю 95-й и 99-й перцентили количества заказов на одного пользователя:"
   ]
  },
  {
   "cell_type": "code",
   "execution_count": 36,
   "metadata": {},
   "outputs": [
    {
     "data": {
      "text/plain": [
       "array([1., 2.])"
      ]
     },
     "execution_count": 36,
     "metadata": {},
     "output_type": "execute_result"
    }
   ],
   "source": [
    "np.percentile(ordersByUsers['orders'], [95, 99])"
   ]
  },
  {
   "cell_type": "markdown",
   "metadata": {},
   "source": [
    "**Вывод:**\n",
    "\n",
    "Только 1% - больше 2 заказов за анализируемый период.\n",
    "\n",
    "Пользователей, совершивших более 2х закаов приму за 'аномальных'"
   ]
  },
  {
   "cell_type": "markdown",
   "metadata": {},
   "source": [
    "#### Точечный график стоимостей заказов\n"
   ]
  },
  {
   "cell_type": "markdown",
   "metadata": {},
   "source": [
    "Для очистки выборки от выбросов и аномально дорогих заказов проанализирую массив значений стоимостей заказов с помощью точечного графика"
   ]
  },
  {
   "cell_type": "code",
   "execution_count": 37,
   "metadata": {},
   "outputs": [
    {
     "data": {
      "image/png": "[encoded data removed]",
      "text/plain": [
       "<Figure size 1080x360 with 1 Axes>"
      ]
     },
     "metadata": {
      "needs_background": "light"
     },
     "output_type": "display_data"
    }
   ],
   "source": [
    "x_values = pd.Series(range(0,len(orders['revenue'])))\n",
    "\n",
    "plt.figure(figsize=(15,5))\n",
    "plt.grid(True)\n",
    "plt.scatter(x_values, orders['revenue'])\n",
    "plt.ylabel('Уникальные пользователи')\n",
    "plt.xlabel('Стоимость заказа');"
   ]
  },
  {
   "cell_type": "markdown",
   "metadata": {},
   "source": [
    "**Вывод:**\n",
    "\n",
    "На графике видно, что как минимум 2 заказа выбиваются из общего массива значений. \n",
    "\n",
    "Рассчитаю 95й и 99й перцентили, чтобы понять границу аномальных заказов"
   ]
  },
  {
   "cell_type": "markdown",
   "metadata": {},
   "source": [
    "#### Расчет 95-го и 99-го перцентиля стоимости заказов"
   ]
  },
  {
   "cell_type": "code",
   "execution_count": 38,
   "metadata": {},
   "outputs": [
    {
     "data": {
      "text/plain": [
       "array([26785., 53904.])"
      ]
     },
     "execution_count": 38,
     "metadata": {},
     "output_type": "execute_result"
    }
   ],
   "source": [
    "np.percentile(orders['revenue'], [95, 99])"
   ]
  },
  {
   "cell_type": "markdown",
   "metadata": {},
   "source": [
    "**Вывод:**\n",
    "\n",
    "Не более 5% заказов дороже 26785 рублей и не более 1% дороже 53904 рублей. Соответственоо, заказы дороже 30000 можно принять за аномальные"
   ]
  },
  {
   "cell_type": "markdown",
   "metadata": {},
   "source": [
    "#### Расчет статистической значимости различий в конверсии между группами по «сырым» данным"
   ]
  },
  {
   "cell_type": "markdown",
   "metadata": {},
   "source": [
    "Для начала посчитаю статистическую значимость различий в конверсии и среднем чеке между группами по 'сырым' данным, т.е. без удаления аномальных пользователей."
   ]
  },
  {
   "cell_type": "code",
   "execution_count": 39,
   "metadata": {},
   "outputs": [
    {
     "data": {
      "text/html": [
       "<div>\n",
       "<style scoped>\n",
       "    .dataframe tbody tr th:only-of-type {\n",
       "        vertical-align: middle;\n",
       "    }\n",
       "\n",
       "    .dataframe tbody tr th {\n",
       "        vertical-align: top;\n",
       "    }\n",
       "\n",
       "    .dataframe thead th {\n",
       "        text-align: right;\n",
       "    }\n",
       "</style>\n",
       "<table border=\"1\" class=\"dataframe\">\n",
       "  <thead>\n",
       "    <tr style=\"text-align: right;\">\n",
       "      <th></th>\n",
       "      <th>date</th>\n",
       "      <th>ordersPerDateA</th>\n",
       "      <th>revenuePerDateA</th>\n",
       "      <th>ordersPerDateB</th>\n",
       "      <th>revenuePerDateB</th>\n",
       "      <th>ordersCummulativeA</th>\n",
       "      <th>revenueCummulativeA</th>\n",
       "      <th>ordersCummulativeB</th>\n",
       "      <th>revenueCummulativeB</th>\n",
       "      <th>visitorsPerDateA</th>\n",
       "      <th>visitorsPerDateB</th>\n",
       "      <th>visitorsCummulativeA</th>\n",
       "      <th>visitorsCummulativeB</th>\n",
       "    </tr>\n",
       "  </thead>\n",
       "  <tbody>\n",
       "    <tr>\n",
       "      <th>0</th>\n",
       "      <td>2019-08-01</td>\n",
       "      <td>23</td>\n",
       "      <td>142779</td>\n",
       "      <td>17</td>\n",
       "      <td>59758</td>\n",
       "      <td>23</td>\n",
       "      <td>142779</td>\n",
       "      <td>17</td>\n",
       "      <td>59758</td>\n",
       "      <td>719</td>\n",
       "      <td>713</td>\n",
       "      <td>719</td>\n",
       "      <td>713</td>\n",
       "    </tr>\n",
       "    <tr>\n",
       "      <th>1</th>\n",
       "      <td>2019-08-02</td>\n",
       "      <td>19</td>\n",
       "      <td>91602</td>\n",
       "      <td>23</td>\n",
       "      <td>162043</td>\n",
       "      <td>42</td>\n",
       "      <td>234381</td>\n",
       "      <td>40</td>\n",
       "      <td>221801</td>\n",
       "      <td>619</td>\n",
       "      <td>581</td>\n",
       "      <td>1338</td>\n",
       "      <td>1294</td>\n",
       "    </tr>\n",
       "    <tr>\n",
       "      <th>2</th>\n",
       "      <td>2019-08-03</td>\n",
       "      <td>24</td>\n",
       "      <td>112473</td>\n",
       "      <td>14</td>\n",
       "      <td>67049</td>\n",
       "      <td>66</td>\n",
       "      <td>346854</td>\n",
       "      <td>54</td>\n",
       "      <td>288850</td>\n",
       "      <td>507</td>\n",
       "      <td>509</td>\n",
       "      <td>1845</td>\n",
       "      <td>1803</td>\n",
       "    </tr>\n",
       "    <tr>\n",
       "      <th>3</th>\n",
       "      <td>2019-08-04</td>\n",
       "      <td>11</td>\n",
       "      <td>41176</td>\n",
       "      <td>14</td>\n",
       "      <td>96890</td>\n",
       "      <td>77</td>\n",
       "      <td>388030</td>\n",
       "      <td>68</td>\n",
       "      <td>385740</td>\n",
       "      <td>717</td>\n",
       "      <td>770</td>\n",
       "      <td>2562</td>\n",
       "      <td>2573</td>\n",
       "    </tr>\n",
       "    <tr>\n",
       "      <th>4</th>\n",
       "      <td>2019-08-05</td>\n",
       "      <td>22</td>\n",
       "      <td>86383</td>\n",
       "      <td>21</td>\n",
       "      <td>89908</td>\n",
       "      <td>99</td>\n",
       "      <td>474413</td>\n",
       "      <td>89</td>\n",
       "      <td>475648</td>\n",
       "      <td>756</td>\n",
       "      <td>707</td>\n",
       "      <td>3318</td>\n",
       "      <td>3280</td>\n",
       "    </tr>\n",
       "  </tbody>\n",
       "</table>\n",
       "</div>"
      ],
      "text/plain": [
       "        date  ordersPerDateA  revenuePerDateA  ordersPerDateB  \\\n",
       "0 2019-08-01              23           142779              17   \n",
       "1 2019-08-02              19            91602              23   \n",
       "2 2019-08-03              24           112473              14   \n",
       "3 2019-08-04              11            41176              14   \n",
       "4 2019-08-05              22            86383              21   \n",
       "\n",
       "   revenuePerDateB  ordersCummulativeA  revenueCummulativeA  \\\n",
       "0            59758                  23               142779   \n",
       "1           162043                  42               234381   \n",
       "2            67049                  66               346854   \n",
       "3            96890                  77               388030   \n",
       "4            89908                  99               474413   \n",
       "\n",
       "   ordersCummulativeB  revenueCummulativeB  visitorsPerDateA  \\\n",
       "0                  17                59758               719   \n",
       "1                  40               221801               619   \n",
       "2                  54               288850               507   \n",
       "3                  68               385740               717   \n",
       "4                  89               475648               756   \n",
       "\n",
       "   visitorsPerDateB  visitorsCummulativeA  visitorsCummulativeB  \n",
       "0               713                   719                   713  \n",
       "1               581                  1338                  1294  \n",
       "2               509                  1845                  1803  \n",
       "3               770                  2562                  2573  \n",
       "4               707                  3318                  3280  "
      ]
     },
     "metadata": {},
     "output_type": "display_data"
    }
   ],
   "source": [
    "# в датафрейме 'visitorsADaily' сделаю срез по пользователям из группы А по данным и количеством пользователей в указанную дату\n",
    "visitorsADaily = visitors[visitors['group'] == 'A'][['date', 'visitors']]\n",
    "visitorsADaily.columns = ['date', 'visitorsPerDateA']\n",
    "\n",
    "# в датафрейме 'visitorsACummulative' будет количество пользователей в каждую дату в группе A\n",
    "visitorsACummulative = visitorsADaily.apply(lambda x: visitorsADaily[visitorsADaily['date'] <= x['date']].agg(\n",
    "        {'date': 'max', 'visitorsPerDateA': 'sum'}),axis=1)\n",
    "visitorsACummulative.columns = ['date', 'visitorsCummulativeA']\n",
    "\n",
    "# в датафрейме 'visitorsBDaily' сделаю срез по пользователям из группы В по данным и количеством пользователей в указанную дату\n",
    "visitorsBDaily = visitors[visitors['group'] == 'B'][['date', 'visitors']]\n",
    "visitorsBDaily.columns = ['date', 'visitorsPerDateB']\n",
    "\n",
    "# в датафрейме 'visitorsBCummulative' будет количество пользователей в каждую дату в группе В\n",
    "visitorsBCummulative = visitorsBDaily.apply(lambda x: visitorsBDaily[visitorsBDaily['date'] <= x['date']].agg(\n",
    "        {'date': 'max', 'visitorsPerDateB': 'sum'}),axis=1)\n",
    "visitorsBCummulative.columns = ['date', 'visitorsCummulativeB']\n",
    "\n",
    "\n",
    "# в 'ordersADaily' по дате сгруппирую данные о количестве заказов и суммарной выручке по группе А\n",
    "ordersADaily = (orders[orders['group'] == 'A'][['date', 'transactionId', 'visitorId', 'revenue']].groupby('date', as_index=False)\n",
    "    .agg({'transactionId': pd.Series.nunique, 'revenue': 'sum'}))\n",
    "ordersADaily.columns = ['date', 'ordersPerDateA', 'revenuePerDateA']\n",
    "\n",
    "# в 'ordersACummulative' проаккумулирую вышеуказанные данные\n",
    "ordersACummulative = ordersADaily.apply(lambda x: ordersADaily[ordersADaily['date'] <= x['date']].agg(\n",
    "        {'date': 'max', 'ordersPerDateA': 'sum', 'revenuePerDateA': 'sum'}), axis=1).sort_values(by=['date'])\n",
    "ordersACummulative.columns = ['date', 'ordersCummulativeA', 'revenueCummulativeA']\n",
    "\n",
    "# в 'ordersBDaily' по дате сгруппирую данные о количестве заказов и суммарной выручке по группе В\n",
    "ordersBDaily = (orders[orders['group'] == 'B'][['date', 'transactionId', 'visitorId', 'revenue']]\n",
    "    .groupby('date', as_index=False).agg({'transactionId': pd.Series.nunique, 'revenue': 'sum'}))\n",
    "ordersBDaily.columns = ['date', 'ordersPerDateB', 'revenuePerDateB']\n",
    "\n",
    "# в 'ordersACummulative' также проаккумулирую вышеуказанные данные, но уже по группе В\n",
    "ordersBCummulative = ordersBDaily.apply(lambda x: ordersBDaily[ordersBDaily['date'] <= x['date']].agg(\n",
    "    {'date': 'max', 'ordersPerDateB': 'sum', 'revenuePerDateB': 'sum'}), axis=1).sort_values(by=['date'])\n",
    "ordersBCummulative.columns = ['date', 'ordersCummulativeB', 'revenueCummulativeB']\n",
    "\n",
    "# объединю ранеесозданные датафреймы\n",
    "data = (ordersADaily.merge(ordersBDaily, left_on='date', right_on='date', how='left')\n",
    "    .merge(ordersACummulative, left_on='date', right_on='date', how='left')\n",
    "    .merge(ordersBCummulative, left_on='date', right_on='date', how='left')\n",
    "    .merge(visitorsADaily, left_on='date', right_on='date', how='left')\n",
    "    .merge(visitorsBDaily, left_on='date', right_on='date', how='left')\n",
    "    .merge(visitorsACummulative, left_on='date', right_on='date', how='left')\n",
    "    .merge(visitorsBCummulative, left_on='date', right_on='date', how='left')\n",
    ")\n",
    "\n",
    "display(data.head())"
   ]
  },
  {
   "cell_type": "markdown",
   "metadata": {},
   "source": [
    "Создам переменные ordersByUsersA и ordersByUsersB со столбцами ['visitorId', 'orders']. В них для пользователей, которые заказывали хотя бы 1 раз, укажу число совершённых заказов."
   ]
  },
  {
   "cell_type": "code",
   "execution_count": 40,
   "metadata": {},
   "outputs": [],
   "source": [
    "ordersByUsersA = (\n",
    "    orders[orders['group'] == 'A']\n",
    "    .groupby('visitorId', as_index=False)\n",
    "    .agg({'transactionId': pd.Series.nunique})\n",
    ")\n",
    "ordersByUsersA.columns = ['visitorId', 'orders']\n",
    "\n",
    "ordersByUsersB = (\n",
    "    orders[orders['group'] == 'B']\n",
    "    .groupby('visitorId', as_index=False)\n",
    "    .agg({'transactionId': pd.Series.nunique})\n",
    ")\n",
    "ordersByUsersB.columns = ['visitorId', 'orders']"
   ]
  },
  {
   "cell_type": "markdown",
   "metadata": {},
   "source": [
    "Объявлю переменные sampleA и sampleB, в которых пользователям из разных групп будет соответствовать количество заказов. Тем, кто ничего не заказал, будут соответствовать нули. Это необходимо для того, чтобы подготовить выборки к проверке критерием Манна-Уитни.\n",
    "\n",
    "Список индексов создам с помощью функции np.arange(). Она создаст массив индексов в формате np.array, который требуется в pd.Series.\n",
    "\n",
    "Последовательности объединю функцией pd.concat() "
   ]
  },
  {
   "cell_type": "code",
   "execution_count": 41,
   "metadata": {},
   "outputs": [
    {
     "data": {
      "text/plain": [
       "0        0\n",
       "1        0\n",
       "2        0\n",
       "3        0\n",
       "4        0\n",
       "        ..\n",
       "18286    0\n",
       "18287    0\n",
       "18288    0\n",
       "18289    0\n",
       "18290    0\n",
       "Name: orders, Length: 18291, dtype: int64"
      ]
     },
     "execution_count": 41,
     "metadata": {},
     "output_type": "execute_result"
    }
   ],
   "source": [
    "pd.Series(0, index=np.arange(data['visitorsPerDateA'].sum() - len(ordersByUsersA['orders'])), name='orders')\n",
    " "
   ]
  },
  {
   "cell_type": "markdown",
   "metadata": {},
   "source": [
    "Переменная sampleA должна состоять из двух частей: \n",
    "- Список с количеством заказов для каждого из пользователей: ordersByUsersA['orders'].\n",
    "- Нули для пользователей, которые ничего не заказывали. Их количество равно разнице между суммой посетителей и количеством записей о заказах: data['visitorsPerDateA'].sum() - len(ordersByUsersA['orders'])"
   ]
  },
  {
   "cell_type": "code",
   "execution_count": 42,
   "metadata": {},
   "outputs": [
    {
     "data": {
      "text/plain": [
       "[0      1\n",
       " 1      1\n",
       " 2      1\n",
       " 3      1\n",
       " 4      1\n",
       "       ..\n",
       " 440    1\n",
       " 441    1\n",
       " 442    1\n",
       " 443    1\n",
       " 444    1\n",
       " Name: orders, Length: 445, dtype: int64,\n",
       " 0        0\n",
       " 1        0\n",
       " 2        0\n",
       " 3        0\n",
       " 4        0\n",
       "         ..\n",
       " 18286    0\n",
       " 18287    0\n",
       " 18288    0\n",
       " 18289    0\n",
       " 18290    0\n",
       " Name: orders, Length: 18291, dtype: int64]"
      ]
     },
     "execution_count": 42,
     "metadata": {},
     "output_type": "execute_result"
    }
   ],
   "source": [
    "[ordersByUsersA['orders'],pd.Series(0, index=np.arange(data['visitorsPerDateA'].sum() - len(ordersByUsersA['orders'])), name='orders')]"
   ]
  },
  {
   "cell_type": "markdown",
   "metadata": {},
   "source": [
    "Таким образом, в sampleA и sampleB будет содержаться выборка, в которой каждый элемент — число заказов определённого пользователя, в том числе ноль."
   ]
  },
  {
   "cell_type": "code",
   "execution_count": 43,
   "metadata": {},
   "outputs": [],
   "source": [
    "sampleA = pd.concat([ordersByUsersA['orders'],pd.Series(0, index=np.arange(data['visitorsPerDateA'].sum() - len(ordersByUsersA['orders'])), name='orders')],axis=0)\n",
    "\n",
    "sampleB = pd.concat([ordersByUsersB['orders'],pd.Series(0, index=np.arange(data['visitorsPerDateB'].sum() - len(ordersByUsersB['orders'])), name='orders')],axis=0)"
   ]
  },
  {
   "cell_type": "markdown",
   "metadata": {},
   "source": [
    "Для начала сформулирую нулевую гипотезу: конверсия групп по «сырым» данным равна.\n",
    "\n",
    "Далее применю критерий и отформатирую p-value, округлив его до 5 знаков после запятой.\n",
    "\n",
    "Рассчитаю относительный прирост конверсии группы B: конверсия группы B / конверсия группы A - 1. Округлю до трёх знаков после запятой."
   ]
  },
  {
   "cell_type": "code",
   "execution_count": 44,
   "metadata": {},
   "outputs": [
    {
     "name": "stdout",
     "output_type": "stream",
     "text": [
      "0.00551\n",
      "15.98%\n"
     ]
    }
   ],
   "source": [
    "print(\"{0:.5f}\".format(stats.mannwhitneyu(sampleA, \n",
    "                                          sampleB)[1], \n",
    "                       alternative='two-sided'))\n",
    "print(\"{0:.2%}\".format((data['ordersPerDateB'].sum()/data['visitorsPerDateB'].sum())/(data['ordersPerDateA'].sum()/data['visitorsPerDateA'].sum())-1))"
   ]
  },
  {
   "cell_type": "markdown",
   "metadata": {},
   "source": [
    "**Вывод:**\n",
    "\n",
    "P-value чуть больше 0.05, поэтому сложно говорить об отвержении нулевой гипотезы. Предварительно можно сказать, что не существуют статистически значимых различий в конверсии между группами А и В.\n",
    "\n",
    "При этом относительный прирост конверсии группы В к конверсии группы А = 16%"
   ]
  },
  {
   "cell_type": "markdown",
   "metadata": {},
   "source": [
    "#### Расчет статистической значимости различий в среднем чеке заказа между группами по «сырым» данным"
   ]
  },
  {
   "cell_type": "markdown",
   "metadata": {},
   "source": [
    "Для данного подраздела также сформулирую и проверю нулевую гипотезу: средние чеки заказов по группам равны"
   ]
  },
  {
   "cell_type": "code",
   "execution_count": 45,
   "metadata": {},
   "outputs": [
    {
     "name": "stdout",
     "output_type": "stream",
     "text": [
      "0.415\n",
      "28.66%\n"
     ]
    }
   ],
   "source": [
    "# передам критерию mannwhitneyu() данные о выручке с заказов групп А и В\n",
    "print('{0:.3f}'.format(stats.mannwhitneyu(orders[orders['group']=='A']['revenue'], \n",
    "                                          orders[orders['group']=='B']['revenue'])[1], \n",
    "                       alternative='two-sided'))\n",
    "\n",
    "# найду относительные различия в среднем чеке между группами\n",
    "print('{0:.2%}'.format(orders[orders['group']=='B']['revenue'].mean()/orders[orders['group']=='A']['revenue'].mean()-1))"
   ]
  },
  {
   "cell_type": "markdown",
   "metadata": {},
   "source": [
    "**Вывод:**\n",
    "\n",
    "P-value = 0.415, что значительно больше 0.05. Вероятнее всего, существуют статистически значимые отличия в среднем чеке между группами. Это подтверждается относительным различием среднего чека между группами А и В в 29%.\n",
    "\n",
    "В последующих подразделах проанализирую аномалии."
   ]
  },
  {
   "cell_type": "markdown",
   "metadata": {},
   "source": [
    "#### Расчет статистической значимости различий в конверсии между группами по «очищенным» данным"
   ]
  },
  {
   "cell_type": "markdown",
   "metadata": {},
   "source": [
    "Найденные в предыдущих подразделах 95й и 99й перцентили количества заказов на одного пользователя равны 2 и 4 заказам на пользователя, соответственно. В то же время 95й и 99й перцентили средних чеков равны 28000 и 58233.2 рублям. \n",
    "\n",
    "Так, ранее было принято решение принять за 'аномальных' пользователей тех, кто сделал более 3х заказов и на сумму свыше 30000."
   ]
  },
  {
   "cell_type": "code",
   "execution_count": 46,
   "metadata": {},
   "outputs": [],
   "source": [
    "# сделаю срез пользователей с числом заказов больше 3\n",
    "usersWithManyOrders = pd.concat([ordersByUsersA[ordersByUsersA['orders'] > 3]['visitorId'],\n",
    "                                 ordersByUsersB[ordersByUsersB['orders'] > 3]['visitorId']], axis=0)\n",
    "\n",
    "# а также срез пользователей, совершивших заказы на сумму более 30 000\n",
    "usersWithExpensiveOrders = orders[orders['revenue'] > 30000]['visitorId']\n",
    "\n",
    "# объединю срезы в 'abnormalUsers'\n",
    "abnormalUsers = (pd.concat([usersWithManyOrders, usersWithExpensiveOrders], axis=0).drop_duplicates().sort_values())"
   ]
  },
  {
   "cell_type": "code",
   "execution_count": 47,
   "metadata": {},
   "outputs": [
    {
     "data": {
      "text/plain": [
       "1099    148427295\n",
       "928     204675465\n",
       "684     358944393\n",
       "648     382846391\n",
       "751     689129267\n",
       "Name: visitorId, dtype: int64"
      ]
     },
     "execution_count": 47,
     "metadata": {},
     "output_type": "execute_result"
    }
   ],
   "source": [
    "abnormalUsers.head()"
   ]
  },
  {
   "cell_type": "code",
   "execution_count": 48,
   "metadata": {},
   "outputs": [
    {
     "data": {
      "text/plain": [
       "(42,)"
      ]
     },
     "execution_count": 48,
     "metadata": {},
     "output_type": "execute_result"
    }
   ],
   "source": [
    "# узнаю сколько всего аномальных пользователей\n",
    "abnormalUsers.shape"
   ]
  },
  {
   "cell_type": "markdown",
   "metadata": {},
   "source": [
    "Таким образом, выявлено 42 аномальных пользователя.\n",
    "\n",
    "Посмотрю как их действия повлияли на результаты теста путем расчета статистической значимости различий в конверсии между группами теста по очищенным данным. \n",
    "\n",
    "Для этого подготовлю выборки количества заказов по пользователям по группам теста:"
   ]
  },
  {
   "cell_type": "code",
   "execution_count": 49,
   "metadata": {},
   "outputs": [],
   "source": [
    "sampleAFiltered = pd.concat([ordersByUsersA[np.logical_not(ordersByUsersA['visitorId'].isin(abnormalUsers))]['orders'],\n",
    "        pd.Series(0, index=np.arange(data['visitorsPerDateA'].sum() - len(ordersByUsersA['orders'])), name='orders')], axis=0)\n",
    "\n",
    "sampleBFiltered = pd.concat([ordersByUsersB[np.logical_not(ordersByUsersB['visitorId'].isin(abnormalUsers))]['orders'],\n",
    "        pd.Series(0,index=np.arange(data['visitorsPerDateB'].sum() - len(ordersByUsersB['orders'])), name='orders')], axis=0)"
   ]
  },
  {
   "cell_type": "markdown",
   "metadata": {},
   "source": [
    "Далее применю статистический критерий Манна-Уитни к полученным выборкам.\n",
    "Нулевая теория будет гласить: нет различий в конверсии между группами по «очищенным» данным "
   ]
  },
  {
   "cell_type": "code",
   "execution_count": 50,
   "metadata": {},
   "outputs": [
    {
     "name": "stdout",
     "output_type": "stream",
     "text": [
      "0.007\n",
      "16.10%\n"
     ]
    }
   ],
   "source": [
    "print('{0:.3f}'.format(stats.mannwhitneyu(sampleAFiltered, \n",
    "                                          sampleBFiltered)[1], \n",
    "                       alternative='two-sided'))\n",
    "\n",
    "print('{0:.2%}'.format(sampleBFiltered.mean()/sampleAFiltered.mean()-1))"
   ]
  },
  {
   "cell_type": "markdown",
   "metadata": {},
   "source": [
    "**Вывод:**\n",
    "\n",
    "P-value = 0.007, что, вероятнее всего, подтверждает гипотезу о равенстве конверсии между группами. Относительный прирост конверсии группы В к конверсии группы А по прежнему составляет 16%"
   ]
  },
  {
   "cell_type": "markdown",
   "metadata": {},
   "source": [
    "####  Расчет статистической значимости различий в среднем чеке заказа между группами по «очищенным» данным"
   ]
  },
  {
   "cell_type": "markdown",
   "metadata": {},
   "source": [
    "Проверю гипотезу о значимости различий в среднем чеке заказа по \"очищенным\" данным. Приму за нулевую гипотезу утверждение, что средние чеки между группами равны"
   ]
  },
  {
   "cell_type": "code",
   "execution_count": 51,
   "metadata": {},
   "outputs": [
    {
     "name": "stdout",
     "output_type": "stream",
     "text": [
      "0.421\n",
      "-3.07%\n"
     ]
    }
   ],
   "source": [
    "# передам критерию mannwhitneyu() очищенные данные о выручке с заказов групп А и В\n",
    "print('{0:.3f}'.format(stats.mannwhitneyu(orders[np.logical_and(orders['group'] == 'A', \n",
    "                                                                np.logical_not(orders['visitorId'].isin(abnormalUsers)))]\n",
    "                                          ['revenue'], \n",
    "                                          orders[np.logical_and(orders['group'] == 'B',\n",
    "                                                                np.logical_not(orders['visitorId'].isin(abnormalUsers)))]\n",
    "                                          ['revenue'])[1], \n",
    "                       alternative='two-sided'))\n",
    "\n",
    "\n",
    "\n",
    "\n",
    "# найду относительные различия в среднем чеке между группами\n",
    "print(\"{0:.2%}\".format(orders[np.logical_and(orders['group'] == 'B', np.logical_not(orders['visitorId'].isin(abnormalUsers)))]\n",
    "                       ['revenue'].mean() / orders[np.logical_and(orders['group'] == 'A',\n",
    "                                                                  np.logical_not(orders['visitorId'].isin(abnormalUsers)))]\n",
    "                       ['revenue'].mean()- 1))"
   ]
  },
  {
   "cell_type": "markdown",
   "metadata": {},
   "source": [
    "**Вывод:**\n",
    "\n",
    "Пожалуй, можно сделать вывод, что нулевая гипотеза снова не подтвердилась P-value снизился, однако разница между сегментами изменилась в сторону незначительного преимущества, всего в 3%, среднего чека группы А над средним чеком группы В. \n",
    "\n",
    "Можно сделать вывод, что аномалии не сильно могут влиять на результаты A/B-теста."
   ]
  },
  {
   "cell_type": "markdown",
   "metadata": {},
   "source": [
    "#### Решение по результатам теста\n",
    "\n",
    "**Выводы:**\n",
    "- График кумулятивной выручки по группам показывает, что результаты группы А хуже группы В;\n",
    "- Графики кумулятивного среднего чека также показывают большое преимущество группы В;\n",
    "- График различия конверсии между группами сообщает, что результаты группы B лучше группы A:  относительный прирост конверсии группы В, относительно группы А составляет от 10 до 20% в разные даты;\n",
    "- Статистически значимое различие по конверсии между группами как по сырым данным, так и после фильтрации аномалий не наблюдается;\n",
    "- Наблюдаются статистически значимые отличия в среднем чеке между группами. При этом относительное различие среднего чека между группами А и В составляет 26% по сырым данным. Однако после очистки данных от аномалий статистически значимое различие почти исчезло.\n",
    "\n",
    "В данном случае нужно остановить тест, зафиксировать победу группы В и перейти к проверке следующей гипотезы."
   ]
  }
 ],
 "metadata": {
  "ExecuteTimeLog": [
   {
    "duration": 726,
    "start_time": "2021-10-09T19:12:04.386Z"
   },
   {
    "duration": 56,
    "start_time": "2021-10-09T19:13:52.189Z"
   },
   {
    "duration": 21,
    "start_time": "2021-10-09T19:14:05.545Z"
   },
   {
    "duration": 409,
    "start_time": "2021-10-09T19:14:25.867Z"
   },
   {
    "duration": 7,
    "start_time": "2021-10-09T19:14:43.614Z"
   },
   {
    "duration": 10,
    "start_time": "2021-10-09T19:16:23.353Z"
   },
   {
    "duration": 324,
    "start_time": "2021-10-09T19:16:45.536Z"
   },
   {
    "duration": 7,
    "start_time": "2021-10-09T19:16:50.635Z"
   },
   {
    "duration": 11,
    "start_time": "2021-10-09T19:17:52.566Z"
   },
   {
    "duration": 9,
    "start_time": "2021-10-09T19:18:21.801Z"
   },
   {
    "duration": 8,
    "start_time": "2021-10-09T19:18:41.602Z"
   },
   {
    "duration": 6,
    "start_time": "2021-10-09T19:20:10.031Z"
   },
   {
    "duration": 7,
    "start_time": "2021-10-09T19:20:27.866Z"
   },
   {
    "duration": 10,
    "start_time": "2021-10-09T19:20:56.938Z"
   },
   {
    "duration": 8,
    "start_time": "2021-10-09T19:21:01.149Z"
   },
   {
    "duration": 8,
    "start_time": "2021-10-09T19:21:08.583Z"
   },
   {
    "duration": 4,
    "start_time": "2021-10-09T19:29:20.292Z"
   },
   {
    "duration": 7,
    "start_time": "2021-10-09T19:46:28.492Z"
   },
   {
    "duration": 9,
    "start_time": "2021-10-09T19:46:41.509Z"
   },
   {
    "duration": 7,
    "start_time": "2021-10-09T19:49:40.150Z"
   },
   {
    "duration": 14,
    "start_time": "2021-10-09T19:49:48.655Z"
   },
   {
    "duration": 20,
    "start_time": "2021-10-09T20:28:51.469Z"
   },
   {
    "duration": 22,
    "start_time": "2021-10-09T20:30:31.724Z"
   },
   {
    "duration": 15,
    "start_time": "2021-10-09T20:33:00.819Z"
   },
   {
    "duration": 14,
    "start_time": "2021-10-09T20:33:30.827Z"
   },
   {
    "duration": 3,
    "start_time": "2021-10-09T20:49:56.099Z"
   },
   {
    "duration": 778,
    "start_time": "2021-10-09T20:54:25.847Z"
   },
   {
    "duration": 63,
    "start_time": "2021-10-09T20:54:26.628Z"
   },
   {
    "duration": 23,
    "start_time": "2021-10-09T20:54:26.694Z"
   },
   {
    "duration": 6,
    "start_time": "2021-10-09T20:54:26.719Z"
   },
   {
    "duration": 10,
    "start_time": "2021-10-09T20:54:26.727Z"
   },
   {
    "duration": 4,
    "start_time": "2021-10-09T20:54:26.740Z"
   },
   {
    "duration": 13,
    "start_time": "2021-10-09T20:54:26.767Z"
   },
   {
    "duration": 15,
    "start_time": "2021-10-09T20:54:26.784Z"
   },
   {
    "duration": 97,
    "start_time": "2021-10-09T20:54:26.801Z"
   },
   {
    "duration": 109558,
    "start_time": "2021-10-09T20:52:37.343Z"
   },
   {
    "duration": 109557,
    "start_time": "2021-10-09T20:52:37.345Z"
   },
   {
    "duration": 109557,
    "start_time": "2021-10-09T20:52:37.347Z"
   },
   {
    "duration": 109558,
    "start_time": "2021-10-09T20:52:37.348Z"
   },
   {
    "duration": 109557,
    "start_time": "2021-10-09T20:52:37.350Z"
   },
   {
    "duration": 109558,
    "start_time": "2021-10-09T20:52:37.351Z"
   },
   {
    "duration": 109557,
    "start_time": "2021-10-09T20:52:37.353Z"
   },
   {
    "duration": 109558,
    "start_time": "2021-10-09T20:52:37.354Z"
   },
   {
    "duration": 1425,
    "start_time": "2021-10-09T20:54:37.231Z"
   },
   {
    "duration": 1888,
    "start_time": "2021-10-09T20:54:50.463Z"
   },
   {
    "duration": 862,
    "start_time": "2021-10-09T20:55:57.774Z"
   },
   {
    "duration": 76,
    "start_time": "2021-10-09T20:55:58.639Z"
   },
   {
    "duration": 27,
    "start_time": "2021-10-09T20:55:58.719Z"
   },
   {
    "duration": 6,
    "start_time": "2021-10-09T20:55:58.750Z"
   },
   {
    "duration": 21,
    "start_time": "2021-10-09T20:55:58.759Z"
   },
   {
    "duration": 14,
    "start_time": "2021-10-09T20:55:58.782Z"
   },
   {
    "duration": 18,
    "start_time": "2021-10-09T20:55:58.799Z"
   },
   {
    "duration": 11,
    "start_time": "2021-10-09T20:55:58.821Z"
   },
   {
    "duration": 10,
    "start_time": "2021-10-09T20:55:58.867Z"
   },
   {
    "duration": 24,
    "start_time": "2021-10-09T20:55:58.879Z"
   },
   {
    "duration": 8,
    "start_time": "2021-10-09T20:55:58.906Z"
   },
   {
    "duration": 7,
    "start_time": "2021-10-09T20:55:58.916Z"
   },
   {
    "duration": 50,
    "start_time": "2021-10-09T20:55:58.925Z"
   },
   {
    "duration": 12,
    "start_time": "2021-10-09T20:55:58.982Z"
   },
   {
    "duration": 7,
    "start_time": "2021-10-09T20:55:58.998Z"
   },
   {
    "duration": 60,
    "start_time": "2021-10-09T20:55:59.008Z"
   },
   {
    "duration": 21,
    "start_time": "2021-10-09T20:55:59.072Z"
   },
   {
    "duration": 752,
    "start_time": "2021-10-09T21:03:31.515Z"
   },
   {
    "duration": 396,
    "start_time": "2021-10-09T21:06:35.036Z"
   },
   {
    "duration": 119,
    "start_time": "2021-10-09T21:07:12.936Z"
   },
   {
    "duration": 351,
    "start_time": "2021-10-09T21:07:18.836Z"
   },
   {
    "duration": 328,
    "start_time": "2021-10-09T21:07:26.985Z"
   },
   {
    "duration": 475,
    "start_time": "2021-10-09T21:08:56.960Z"
   },
   {
    "duration": 362,
    "start_time": "2021-10-09T21:09:04.358Z"
   },
   {
    "duration": 123,
    "start_time": "2021-10-09T21:12:38.890Z"
   },
   {
    "duration": 367,
    "start_time": "2021-10-09T21:12:52.891Z"
   },
   {
    "duration": 2016,
    "start_time": "2021-10-09T21:14:29.193Z"
   },
   {
    "duration": 642,
    "start_time": "2021-10-09T21:14:42.460Z"
   },
   {
    "duration": 653,
    "start_time": "2021-10-09T21:15:07.840Z"
   },
   {
    "duration": 737,
    "start_time": "2021-10-09T21:15:18.153Z"
   },
   {
    "duration": 364,
    "start_time": "2021-10-09T21:15:29.247Z"
   },
   {
    "duration": 5,
    "start_time": "2021-10-09T21:17:10.218Z"
   },
   {
    "duration": 264,
    "start_time": "2021-10-09T21:17:36.003Z"
   },
   {
    "duration": 132,
    "start_time": "2021-10-09T21:17:47.474Z"
   },
   {
    "duration": 115,
    "start_time": "2021-10-09T21:17:53.064Z"
   },
   {
    "duration": 136,
    "start_time": "2021-10-09T21:18:04.577Z"
   },
   {
    "duration": 616,
    "start_time": "2021-10-09T21:19:00.902Z"
   },
   {
    "duration": 622,
    "start_time": "2021-10-09T21:19:09.876Z"
   },
   {
    "duration": 609,
    "start_time": "2021-10-09T21:19:17.863Z"
   },
   {
    "duration": 884,
    "start_time": "2021-10-09T21:19:23.572Z"
   },
   {
    "duration": 57,
    "start_time": "2021-10-09T21:19:24.459Z"
   },
   {
    "duration": 15,
    "start_time": "2021-10-09T21:19:24.519Z"
   },
   {
    "duration": 17,
    "start_time": "2021-10-09T21:19:24.537Z"
   },
   {
    "duration": 17,
    "start_time": "2021-10-09T21:19:24.556Z"
   },
   {
    "duration": 28,
    "start_time": "2021-10-09T21:19:24.579Z"
   },
   {
    "duration": 14,
    "start_time": "2021-10-09T21:19:24.610Z"
   },
   {
    "duration": 12,
    "start_time": "2021-10-09T21:19:24.663Z"
   },
   {
    "duration": 38,
    "start_time": "2021-10-09T21:19:24.681Z"
   },
   {
    "duration": 61,
    "start_time": "2021-10-09T21:19:24.722Z"
   },
   {
    "duration": 13,
    "start_time": "2021-10-09T21:19:24.786Z"
   },
   {
    "duration": 8,
    "start_time": "2021-10-09T21:19:24.804Z"
   },
   {
    "duration": 56,
    "start_time": "2021-10-09T21:19:24.815Z"
   },
   {
    "duration": 11,
    "start_time": "2021-10-09T21:19:24.878Z"
   },
   {
    "duration": 9,
    "start_time": "2021-10-09T21:19:24.908Z"
   },
   {
    "duration": 78,
    "start_time": "2021-10-09T21:19:24.919Z"
   },
   {
    "duration": 16,
    "start_time": "2021-10-09T21:19:24.999Z"
   },
   {
    "duration": 772,
    "start_time": "2021-10-09T21:19:25.063Z"
   },
   {
    "duration": 6,
    "start_time": "2021-10-09T21:19:25.837Z"
   },
   {
    "duration": 643,
    "start_time": "2021-10-09T21:19:25.845Z"
   },
   {
    "duration": 617,
    "start_time": "2021-10-09T21:19:42.333Z"
   },
   {
    "duration": 618,
    "start_time": "2021-10-09T21:21:11.257Z"
   },
   {
    "duration": 574,
    "start_time": "2021-10-09T22:05:21.783Z"
   },
   {
    "duration": 677,
    "start_time": "2021-10-09T22:17:47.503Z"
   },
   {
    "duration": 704,
    "start_time": "2021-10-09T22:18:15.036Z"
   },
   {
    "duration": 299,
    "start_time": "2021-10-10T19:28:00.284Z"
   },
   {
    "duration": 886,
    "start_time": "2021-10-10T19:37:09.180Z"
   },
   {
    "duration": 71,
    "start_time": "2021-10-10T19:37:10.069Z"
   },
   {
    "duration": 19,
    "start_time": "2021-10-10T19:37:10.143Z"
   },
   {
    "duration": 10,
    "start_time": "2021-10-10T19:37:10.164Z"
   },
   {
    "duration": 33,
    "start_time": "2021-10-10T19:37:10.177Z"
   },
   {
    "duration": 21,
    "start_time": "2021-10-10T19:37:10.213Z"
   },
   {
    "duration": 51,
    "start_time": "2021-10-10T19:37:10.237Z"
   },
   {
    "duration": 16,
    "start_time": "2021-10-10T19:37:10.294Z"
   },
   {
    "duration": 26,
    "start_time": "2021-10-10T19:37:10.314Z"
   },
   {
    "duration": 42,
    "start_time": "2021-10-10T19:37:10.343Z"
   },
   {
    "duration": 20,
    "start_time": "2021-10-10T19:37:10.387Z"
   },
   {
    "duration": 33,
    "start_time": "2021-10-10T19:37:10.409Z"
   },
   {
    "duration": 48,
    "start_time": "2021-10-10T19:37:10.445Z"
   },
   {
    "duration": 23,
    "start_time": "2021-10-10T19:37:10.495Z"
   },
   {
    "duration": 38,
    "start_time": "2021-10-10T19:37:10.521Z"
   },
   {
    "duration": 35,
    "start_time": "2021-10-10T19:37:10.562Z"
   },
   {
    "duration": 31,
    "start_time": "2021-10-10T19:37:10.599Z"
   },
   {
    "duration": 16,
    "start_time": "2021-10-10T19:37:10.633Z"
   },
   {
    "duration": 424,
    "start_time": "2021-10-10T19:37:10.652Z"
   },
   {
    "duration": 294,
    "start_time": "2021-10-10T19:37:11.078Z"
   },
   {
    "duration": 18,
    "start_time": "2021-10-10T19:37:11.375Z"
   },
   {
    "duration": 36,
    "start_time": "2021-10-10T19:37:11.396Z"
   },
   {
    "duration": 361,
    "start_time": "2021-10-10T19:37:11.438Z"
   },
   {
    "duration": 358,
    "start_time": "2021-10-10T19:37:11.802Z"
   },
   {
    "duration": 434,
    "start_time": "2021-10-10T19:37:12.162Z"
   },
   {
    "duration": 5,
    "start_time": "2021-10-10T19:38:25.934Z"
   },
   {
    "duration": 386,
    "start_time": "2021-10-10T19:38:31.740Z"
   },
   {
    "duration": 316,
    "start_time": "2021-10-10T19:39:22.293Z"
   },
   {
    "duration": 75,
    "start_time": "2021-10-10T19:39:33.610Z"
   },
   {
    "duration": 340,
    "start_time": "2021-10-10T19:39:47.105Z"
   },
   {
    "duration": 647,
    "start_time": "2021-10-10T19:40:05.244Z"
   },
   {
    "duration": 821,
    "start_time": "2021-10-10T19:41:03.086Z"
   },
   {
    "duration": 609,
    "start_time": "2021-10-10T19:41:35.522Z"
   },
   {
    "duration": 360,
    "start_time": "2021-10-10T19:42:57.186Z"
   },
   {
    "duration": 408,
    "start_time": "2021-10-10T19:43:08.917Z"
   },
   {
    "duration": 433,
    "start_time": "2021-10-10T19:43:35.532Z"
   },
   {
    "duration": 425,
    "start_time": "2021-10-10T19:43:51.609Z"
   },
   {
    "duration": 385,
    "start_time": "2021-10-10T19:46:35.298Z"
   },
   {
    "duration": 628,
    "start_time": "2021-10-10T19:47:45.837Z"
   },
   {
    "duration": 539,
    "start_time": "2021-10-10T19:51:39.928Z"
   },
   {
    "duration": 236,
    "start_time": "2021-10-10T20:13:21.736Z"
   },
   {
    "duration": 5,
    "start_time": "2021-10-10T20:13:49.089Z"
   },
   {
    "duration": 229,
    "start_time": "2021-10-10T20:16:10.405Z"
   },
   {
    "duration": 7,
    "start_time": "2021-10-10T20:16:24.604Z"
   },
   {
    "duration": 314,
    "start_time": "2021-10-10T20:17:14.212Z"
   },
   {
    "duration": 420,
    "start_time": "2021-10-10T20:17:44.756Z"
   },
   {
    "duration": 27,
    "start_time": "2021-10-10T20:18:09.120Z"
   },
   {
    "duration": 605,
    "start_time": "2021-10-10T20:18:55.665Z"
   },
   {
    "duration": 403,
    "start_time": "2021-10-10T20:20:48.362Z"
   },
   {
    "duration": 463,
    "start_time": "2021-10-10T20:23:11.022Z"
   },
   {
    "duration": 447,
    "start_time": "2021-10-10T20:23:19.539Z"
   },
   {
    "duration": 452,
    "start_time": "2021-10-10T20:24:50.732Z"
   },
   {
    "duration": 401,
    "start_time": "2021-10-10T20:38:00.072Z"
   },
   {
    "duration": 398,
    "start_time": "2021-10-10T20:38:13.864Z"
   },
   {
    "duration": 532,
    "start_time": "2021-10-10T20:38:59.427Z"
   },
   {
    "duration": 496,
    "start_time": "2021-10-10T20:39:32.772Z"
   },
   {
    "duration": 427,
    "start_time": "2021-10-10T20:39:42.963Z"
   },
   {
    "duration": 696,
    "start_time": "2021-10-10T20:39:57.393Z"
   },
   {
    "duration": 12,
    "start_time": "2021-10-10T20:40:18.066Z"
   },
   {
    "duration": 616,
    "start_time": "2021-10-10T20:40:55.151Z"
   },
   {
    "duration": 524,
    "start_time": "2021-10-10T20:47:27.975Z"
   },
   {
    "duration": 563,
    "start_time": "2021-10-10T20:47:39.710Z"
   },
   {
    "duration": 542,
    "start_time": "2021-10-10T20:47:44.517Z"
   },
   {
    "duration": 78,
    "start_time": "2021-10-10T22:38:58.926Z"
   },
   {
    "duration": 609,
    "start_time": "2021-10-10T22:39:14.693Z"
   },
   {
    "duration": 337,
    "start_time": "2021-10-10T22:39:27.142Z"
   },
   {
    "duration": 244,
    "start_time": "2021-10-10T22:40:00.722Z"
   },
   {
    "duration": 206,
    "start_time": "2021-10-10T22:40:11.440Z"
   },
   {
    "duration": 206,
    "start_time": "2021-10-10T22:40:15.922Z"
   },
   {
    "duration": 192,
    "start_time": "2021-10-10T22:40:30.471Z"
   },
   {
    "duration": 486,
    "start_time": "2021-10-10T22:43:57.602Z"
   },
   {
    "duration": 536,
    "start_time": "2021-10-10T22:45:21.980Z"
   },
   {
    "duration": 8,
    "start_time": "2021-10-10T22:45:55.058Z"
   },
   {
    "duration": 6,
    "start_time": "2021-10-10T22:47:26.381Z"
   },
   {
    "duration": 15,
    "start_time": "2021-10-10T22:47:39.714Z"
   },
   {
    "duration": 506,
    "start_time": "2021-10-10T22:50:15.194Z"
   },
   {
    "duration": 9,
    "start_time": "2021-10-10T23:00:12.640Z"
   },
   {
    "duration": 388,
    "start_time": "2021-10-10T23:02:09.189Z"
   },
   {
    "duration": 295,
    "start_time": "2021-10-10T23:02:18.912Z"
   },
   {
    "duration": 250,
    "start_time": "2021-10-10T23:03:01.789Z"
   },
   {
    "duration": 488,
    "start_time": "2021-10-10T23:03:19.163Z"
   },
   {
    "duration": 617,
    "start_time": "2021-10-10T23:03:29.681Z"
   },
   {
    "duration": 8,
    "start_time": "2021-10-10T23:04:40.573Z"
   },
   {
    "duration": 477,
    "start_time": "2021-10-10T23:13:20.114Z"
   },
   {
    "duration": 459,
    "start_time": "2021-10-10T23:14:51.286Z"
   },
   {
    "duration": 469,
    "start_time": "2021-10-10T23:15:08.380Z"
   },
   {
    "duration": 228,
    "start_time": "2021-10-10T23:19:09.838Z"
   },
   {
    "duration": 8,
    "start_time": "2021-10-10T23:19:44.488Z"
   },
   {
    "duration": 7,
    "start_time": "2021-10-10T23:21:23.010Z"
   },
   {
    "duration": 245,
    "start_time": "2021-10-10T23:21:35.155Z"
   },
   {
    "duration": 419,
    "start_time": "2021-10-10T23:21:59.124Z"
   },
   {
    "duration": 10,
    "start_time": "2021-10-10T23:22:05.609Z"
   },
   {
    "duration": 14,
    "start_time": "2021-10-10T23:25:22.256Z"
   },
   {
    "duration": 7776,
    "start_time": "2021-10-10T23:26:47.522Z"
   },
   {
    "duration": 15,
    "start_time": "2021-10-10T23:27:07.939Z"
   },
   {
    "duration": 18,
    "start_time": "2021-10-10T23:34:07.811Z"
   },
   {
    "duration": 11,
    "start_time": "2021-10-10T23:34:29.074Z"
   },
   {
    "duration": 517,
    "start_time": "2021-10-10T23:39:02.176Z"
   },
   {
    "duration": 20,
    "start_time": "2021-10-10T23:39:30.149Z"
   },
   {
    "duration": 380,
    "start_time": "2021-10-11T09:13:09.584Z"
   },
   {
    "duration": 1328,
    "start_time": "2021-10-11T09:13:15.706Z"
   },
   {
    "duration": 58,
    "start_time": "2021-10-11T09:13:17.037Z"
   },
   {
    "duration": 16,
    "start_time": "2021-10-11T09:13:17.098Z"
   },
   {
    "duration": 12,
    "start_time": "2021-10-11T09:13:17.117Z"
   },
   {
    "duration": 20,
    "start_time": "2021-10-11T09:13:17.132Z"
   },
   {
    "duration": 12,
    "start_time": "2021-10-11T09:13:17.155Z"
   },
   {
    "duration": 16,
    "start_time": "2021-10-11T09:13:17.170Z"
   },
   {
    "duration": 10,
    "start_time": "2021-10-11T09:13:17.189Z"
   },
   {
    "duration": 10,
    "start_time": "2021-10-11T09:13:17.202Z"
   },
   {
    "duration": 12,
    "start_time": "2021-10-11T09:13:17.215Z"
   },
   {
    "duration": 17,
    "start_time": "2021-10-11T09:13:17.230Z"
   },
   {
    "duration": 40,
    "start_time": "2021-10-11T09:13:17.249Z"
   },
   {
    "duration": 15,
    "start_time": "2021-10-11T09:13:17.291Z"
   },
   {
    "duration": 23,
    "start_time": "2021-10-11T09:13:17.309Z"
   },
   {
    "duration": 14,
    "start_time": "2021-10-11T09:13:17.335Z"
   },
   {
    "duration": 22,
    "start_time": "2021-10-11T09:13:17.352Z"
   },
   {
    "duration": 16,
    "start_time": "2021-10-11T09:13:17.376Z"
   },
   {
    "duration": 7,
    "start_time": "2021-10-11T09:13:17.395Z"
   },
   {
    "duration": 422,
    "start_time": "2021-10-11T09:13:17.405Z"
   },
   {
    "duration": 290,
    "start_time": "2021-10-11T09:13:17.830Z"
   },
   {
    "duration": 20,
    "start_time": "2021-10-11T09:13:18.123Z"
   },
   {
    "duration": 20,
    "start_time": "2021-10-11T09:13:18.145Z"
   },
   {
    "duration": 426,
    "start_time": "2021-10-11T09:13:18.184Z"
   },
   {
    "duration": 571,
    "start_time": "2021-10-11T09:13:18.615Z"
   },
   {
    "duration": 657,
    "start_time": "2021-10-11T09:13:19.188Z"
   },
   {
    "duration": 6,
    "start_time": "2021-10-11T09:13:19.848Z"
   },
   {
    "duration": 29,
    "start_time": "2021-10-11T09:13:19.857Z"
   },
   {
    "duration": 426,
    "start_time": "2021-10-11T09:13:19.888Z"
   },
   {
    "duration": 12,
    "start_time": "2021-10-11T09:13:20.317Z"
   },
   {
    "duration": 541,
    "start_time": "2021-10-11T09:13:20.331Z"
   },
   {
    "duration": 213,
    "start_time": "2021-10-11T09:13:20.874Z"
   },
   {
    "duration": 467,
    "start_time": "2021-10-11T09:13:21.089Z"
   },
   {
    "duration": 7,
    "start_time": "2021-10-11T09:13:21.558Z"
   },
   {
    "duration": 500,
    "start_time": "2021-10-11T09:13:21.582Z"
   },
   {
    "duration": 6,
    "start_time": "2021-10-11T09:13:22.085Z"
   },
   {
    "duration": 475,
    "start_time": "2021-10-11T09:13:22.094Z"
   },
   {
    "duration": 257,
    "start_time": "2021-10-11T09:13:22.572Z"
   },
   {
    "duration": 8,
    "start_time": "2021-10-11T09:13:22.831Z"
   },
   {
    "duration": 9,
    "start_time": "2021-10-11T09:13:22.842Z"
   },
   {
    "duration": 34,
    "start_time": "2021-10-11T09:13:22.853Z"
   },
   {
    "duration": 12,
    "start_time": "2021-10-11T09:13:22.889Z"
   },
   {
    "duration": 12,
    "start_time": "2021-10-11T09:13:22.903Z"
   },
   {
    "duration": 12,
    "start_time": "2021-10-11T09:13:22.918Z"
   },
   {
    "duration": 50,
    "start_time": "2021-10-11T09:13:22.932Z"
   },
   {
    "duration": 9,
    "start_time": "2021-10-11T09:13:22.985Z"
   },
   {
    "duration": 19,
    "start_time": "2021-10-11T09:13:22.996Z"
   },
   {
    "duration": 6,
    "start_time": "2021-10-11T09:15:36.700Z"
   },
   {
    "duration": 12,
    "start_time": "2021-10-11T09:24:41.350Z"
   },
   {
    "duration": 12,
    "start_time": "2021-10-11T09:32:25.074Z"
   },
   {
    "duration": 12,
    "start_time": "2021-10-11T09:36:58.841Z"
   },
   {
    "duration": 12,
    "start_time": "2021-10-11T09:38:03.346Z"
   },
   {
    "duration": 432,
    "start_time": "2021-10-11T09:42:23.135Z"
   },
   {
    "duration": 222,
    "start_time": "2021-10-11T09:43:01.089Z"
   },
   {
    "duration": 405,
    "start_time": "2021-10-11T13:15:11.323Z"
   },
   {
    "duration": 1291,
    "start_time": "2021-10-11T13:15:17.783Z"
   },
   {
    "duration": 71,
    "start_time": "2021-10-11T13:15:19.077Z"
   },
   {
    "duration": 21,
    "start_time": "2021-10-11T13:15:19.150Z"
   },
   {
    "duration": 11,
    "start_time": "2021-10-11T13:15:19.173Z"
   },
   {
    "duration": 20,
    "start_time": "2021-10-11T13:15:19.186Z"
   },
   {
    "duration": 26,
    "start_time": "2021-10-11T13:15:19.208Z"
   },
   {
    "duration": 24,
    "start_time": "2021-10-11T13:15:19.236Z"
   },
   {
    "duration": 29,
    "start_time": "2021-10-11T13:15:19.264Z"
   },
   {
    "duration": 15,
    "start_time": "2021-10-11T13:15:19.296Z"
   },
   {
    "duration": 34,
    "start_time": "2021-10-11T13:15:19.313Z"
   },
   {
    "duration": 39,
    "start_time": "2021-10-11T13:15:19.349Z"
   },
   {
    "duration": 25,
    "start_time": "2021-10-11T13:15:19.390Z"
   },
   {
    "duration": 35,
    "start_time": "2021-10-11T13:15:19.418Z"
   },
   {
    "duration": 28,
    "start_time": "2021-10-11T13:15:19.456Z"
   },
   {
    "duration": 32,
    "start_time": "2021-10-11T13:15:19.486Z"
   },
   {
    "duration": 45,
    "start_time": "2021-10-11T13:15:19.520Z"
   },
   {
    "duration": 18,
    "start_time": "2021-10-11T13:15:19.568Z"
   },
   {
    "duration": 36,
    "start_time": "2021-10-11T13:15:19.588Z"
   },
   {
    "duration": 397,
    "start_time": "2021-10-11T13:15:19.626Z"
   },
   {
    "duration": 275,
    "start_time": "2021-10-11T13:15:20.025Z"
   },
   {
    "duration": 35,
    "start_time": "2021-10-11T13:15:20.303Z"
   },
   {
    "duration": 37,
    "start_time": "2021-10-11T13:15:20.341Z"
   },
   {
    "duration": 437,
    "start_time": "2021-10-11T13:15:20.385Z"
   },
   {
    "duration": 412,
    "start_time": "2021-10-11T13:15:20.825Z"
   },
   {
    "duration": 481,
    "start_time": "2021-10-11T13:15:21.239Z"
   },
   {
    "duration": 5,
    "start_time": "2021-10-11T13:15:21.723Z"
   },
   {
    "duration": 26,
    "start_time": "2021-10-11T13:15:21.731Z"
   },
   {
    "duration": 421,
    "start_time": "2021-10-11T13:15:21.760Z"
   },
   {
    "duration": 12,
    "start_time": "2021-10-11T13:15:22.183Z"
   },
   {
    "duration": 536,
    "start_time": "2021-10-11T13:15:22.198Z"
   },
   {
    "duration": 228,
    "start_time": "2021-10-11T13:15:22.737Z"
   },
   {
    "duration": 457,
    "start_time": "2021-10-11T13:15:22.968Z"
   },
   {
    "duration": 6,
    "start_time": "2021-10-11T13:15:23.427Z"
   },
   {
    "duration": 481,
    "start_time": "2021-10-11T13:15:23.435Z"
   },
   {
    "duration": 7,
    "start_time": "2021-10-11T13:15:23.922Z"
   },
   {
    "duration": 457,
    "start_time": "2021-10-11T13:15:23.931Z"
   },
   {
    "duration": 262,
    "start_time": "2021-10-11T13:15:24.390Z"
   },
   {
    "duration": 7,
    "start_time": "2021-10-11T13:15:24.655Z"
   },
   {
    "duration": 19,
    "start_time": "2021-10-11T13:15:24.665Z"
   },
   {
    "duration": 14,
    "start_time": "2021-10-11T13:15:24.686Z"
   },
   {
    "duration": 33,
    "start_time": "2021-10-11T13:15:24.702Z"
   },
   {
    "duration": 14,
    "start_time": "2021-10-11T13:15:24.738Z"
   },
   {
    "duration": 21,
    "start_time": "2021-10-11T13:15:24.755Z"
   },
   {
    "duration": 16,
    "start_time": "2021-10-11T13:15:24.778Z"
   },
   {
    "duration": 29,
    "start_time": "2021-10-11T13:15:24.796Z"
   },
   {
    "duration": 26,
    "start_time": "2021-10-11T13:15:24.828Z"
   },
   {
    "duration": 16,
    "start_time": "2021-10-11T13:38:11.698Z"
   },
   {
    "duration": 7,
    "start_time": "2021-10-11T13:38:14.101Z"
   },
   {
    "duration": 6,
    "start_time": "2021-10-11T13:38:17.909Z"
   },
   {
    "duration": 6,
    "start_time": "2021-10-11T13:38:51.809Z"
   },
   {
    "duration": 1292,
    "start_time": "2021-10-11T14:40:21.263Z"
   },
   {
    "duration": 68,
    "start_time": "2021-10-11T14:40:22.557Z"
   },
   {
    "duration": 15,
    "start_time": "2021-10-11T14:40:22.628Z"
   },
   {
    "duration": 10,
    "start_time": "2021-10-11T14:40:22.646Z"
   },
   {
    "duration": 15,
    "start_time": "2021-10-11T14:40:22.658Z"
   },
   {
    "duration": 9,
    "start_time": "2021-10-11T14:40:22.676Z"
   },
   {
    "duration": 39,
    "start_time": "2021-10-11T14:40:22.688Z"
   },
   {
    "duration": 10,
    "start_time": "2021-10-11T14:40:22.732Z"
   },
   {
    "duration": 8,
    "start_time": "2021-10-11T14:40:22.745Z"
   },
   {
    "duration": 19,
    "start_time": "2021-10-11T14:40:22.756Z"
   },
   {
    "duration": 11,
    "start_time": "2021-10-11T14:40:22.777Z"
   },
   {
    "duration": 36,
    "start_time": "2021-10-11T14:40:22.790Z"
   },
   {
    "duration": 16,
    "start_time": "2021-10-11T14:40:22.828Z"
   },
   {
    "duration": 13,
    "start_time": "2021-10-11T14:40:22.846Z"
   },
   {
    "duration": 9,
    "start_time": "2021-10-11T14:40:22.861Z"
   },
   {
    "duration": 50,
    "start_time": "2021-10-11T14:40:22.872Z"
   },
   {
    "duration": 16,
    "start_time": "2021-10-11T14:40:22.925Z"
   },
   {
    "duration": 11,
    "start_time": "2021-10-11T14:40:22.944Z"
   },
   {
    "duration": 371,
    "start_time": "2021-10-11T14:40:22.958Z"
   },
   {
    "duration": 279,
    "start_time": "2021-10-11T14:40:23.332Z"
   },
   {
    "duration": 24,
    "start_time": "2021-10-11T14:40:23.614Z"
   },
   {
    "duration": 10,
    "start_time": "2021-10-11T14:40:23.640Z"
   },
   {
    "duration": 671,
    "start_time": "2021-10-11T14:40:23.655Z"
   },
   {
    "duration": 510,
    "start_time": "2021-10-11T14:40:24.329Z"
   },
   {
    "duration": 481,
    "start_time": "2021-10-11T14:40:24.841Z"
   },
   {
    "duration": 5,
    "start_time": "2021-10-11T14:40:25.324Z"
   },
   {
    "duration": 18,
    "start_time": "2021-10-11T14:40:25.331Z"
   },
   {
    "duration": 416,
    "start_time": "2021-10-11T14:40:25.352Z"
   },
   {
    "duration": 12,
    "start_time": "2021-10-11T14:40:25.770Z"
   },
   {
    "duration": 551,
    "start_time": "2021-10-11T14:40:25.785Z"
   },
   {
    "duration": 231,
    "start_time": "2021-10-11T14:40:26.338Z"
   },
   {
    "duration": 501,
    "start_time": "2021-10-11T14:40:26.572Z"
   },
   {
    "duration": 7,
    "start_time": "2021-10-11T14:40:27.076Z"
   },
   {
    "duration": 507,
    "start_time": "2021-10-11T14:40:27.086Z"
   },
   {
    "duration": 7,
    "start_time": "2021-10-11T14:40:27.596Z"
   },
   {
    "duration": 470,
    "start_time": "2021-10-11T14:40:27.606Z"
   },
   {
    "duration": 228,
    "start_time": "2021-10-11T14:40:28.079Z"
   },
   {
    "duration": 16,
    "start_time": "2021-10-11T14:40:28.309Z"
   },
   {
    "duration": 30,
    "start_time": "2021-10-11T14:40:28.328Z"
   },
   {
    "duration": 24,
    "start_time": "2021-10-11T14:40:28.360Z"
   },
   {
    "duration": 25,
    "start_time": "2021-10-11T14:40:28.387Z"
   },
   {
    "duration": 30,
    "start_time": "2021-10-11T14:40:28.414Z"
   },
   {
    "duration": 23,
    "start_time": "2021-10-11T14:40:28.447Z"
   },
   {
    "duration": 44,
    "start_time": "2021-10-11T14:40:28.472Z"
   },
   {
    "duration": 21,
    "start_time": "2021-10-11T14:40:28.518Z"
   },
   {
    "duration": 29,
    "start_time": "2021-10-11T14:40:28.541Z"
   },
   {
    "duration": 28,
    "start_time": "2021-10-11T14:40:28.572Z"
   },
   {
    "duration": 22,
    "start_time": "2021-10-11T14:40:28.602Z"
   },
   {
    "duration": 469,
    "start_time": "2021-10-11T14:41:42.098Z"
   },
   {
    "duration": 1052,
    "start_time": "2021-10-12T05:58:12.592Z"
   },
   {
    "duration": 65,
    "start_time": "2021-10-12T05:58:13.646Z"
   },
   {
    "duration": 10,
    "start_time": "2021-10-12T05:58:13.713Z"
   },
   {
    "duration": 5,
    "start_time": "2021-10-12T05:58:13.725Z"
   },
   {
    "duration": 8,
    "start_time": "2021-10-12T05:58:13.732Z"
   },
   {
    "duration": 5,
    "start_time": "2021-10-12T05:58:13.742Z"
   },
   {
    "duration": 9,
    "start_time": "2021-10-12T05:58:13.749Z"
   },
   {
    "duration": 6,
    "start_time": "2021-10-12T05:58:13.761Z"
   },
   {
    "duration": 7,
    "start_time": "2021-10-12T05:58:13.770Z"
   },
   {
    "duration": 12,
    "start_time": "2021-10-12T05:58:13.779Z"
   },
   {
    "duration": 9,
    "start_time": "2021-10-12T05:58:13.793Z"
   },
   {
    "duration": 10,
    "start_time": "2021-10-12T05:58:13.803Z"
   },
   {
    "duration": 10,
    "start_time": "2021-10-12T05:58:13.814Z"
   },
   {
    "duration": 26,
    "start_time": "2021-10-12T05:58:13.826Z"
   },
   {
    "duration": 5,
    "start_time": "2021-10-12T05:58:13.854Z"
   },
   {
    "duration": 16,
    "start_time": "2021-10-12T05:58:13.861Z"
   },
   {
    "duration": 10,
    "start_time": "2021-10-12T05:58:13.879Z"
   },
   {
    "duration": 9,
    "start_time": "2021-10-12T05:58:13.891Z"
   },
   {
    "duration": 227,
    "start_time": "2021-10-12T05:58:13.902Z"
   },
   {
    "duration": 174,
    "start_time": "2021-10-12T05:58:14.131Z"
   },
   {
    "duration": 12,
    "start_time": "2021-10-12T05:58:14.307Z"
   },
   {
    "duration": 9,
    "start_time": "2021-10-12T05:58:14.321Z"
   },
   {
    "duration": 256,
    "start_time": "2021-10-12T05:58:14.350Z"
   },
   {
    "duration": 244,
    "start_time": "2021-10-12T05:58:14.608Z"
   },
   {
    "duration": 361,
    "start_time": "2021-10-12T05:58:14.853Z"
   },
   {
    "duration": 4,
    "start_time": "2021-10-12T05:58:15.216Z"
   },
   {
    "duration": 10,
    "start_time": "2021-10-12T05:58:15.222Z"
   },
   {
    "duration": 266,
    "start_time": "2021-10-12T05:58:15.234Z"
   },
   {
    "duration": 9,
    "start_time": "2021-10-12T05:58:15.502Z"
   },
   {
    "duration": 399,
    "start_time": "2021-10-12T05:58:15.513Z"
   },
   {
    "duration": 111,
    "start_time": "2021-10-12T05:58:15.914Z"
   },
   {
    "duration": 359,
    "start_time": "2021-10-12T05:58:16.027Z"
   },
   {
    "duration": 6,
    "start_time": "2021-10-12T05:58:16.388Z"
   },
   {
    "duration": 330,
    "start_time": "2021-10-12T05:58:16.395Z"
   },
   {
    "duration": 4,
    "start_time": "2021-10-12T05:58:16.727Z"
   },
   {
    "duration": 294,
    "start_time": "2021-10-12T05:58:16.733Z"
   },
   {
    "duration": 141,
    "start_time": "2021-10-12T05:58:17.029Z"
   },
   {
    "duration": 6,
    "start_time": "2021-10-12T05:58:17.172Z"
   },
   {
    "duration": 12,
    "start_time": "2021-10-12T05:58:17.180Z"
   },
   {
    "duration": 8,
    "start_time": "2021-10-12T05:58:17.194Z"
   },
   {
    "duration": 11,
    "start_time": "2021-10-12T05:58:17.203Z"
   },
   {
    "duration": 41,
    "start_time": "2021-10-12T05:58:17.216Z"
   },
   {
    "duration": 9,
    "start_time": "2021-10-12T05:58:17.259Z"
   },
   {
    "duration": 17,
    "start_time": "2021-10-12T05:58:17.270Z"
   },
   {
    "duration": 9,
    "start_time": "2021-10-12T05:58:17.290Z"
   },
   {
    "duration": 16,
    "start_time": "2021-10-12T05:58:17.301Z"
   },
   {
    "duration": 10,
    "start_time": "2021-10-12T05:58:17.319Z"
   },
   {
    "duration": 17,
    "start_time": "2021-10-12T05:58:17.350Z"
   },
   {
    "duration": 21,
    "start_time": "2021-10-12T22:07:40.908Z"
   },
   {
    "duration": 9,
    "start_time": "2021-10-12T22:14:11.805Z"
   },
   {
    "duration": 9956,
    "start_time": "2021-10-12T22:25:55.698Z"
   },
   {
    "duration": 9529,
    "start_time": "2021-10-12T22:26:08.524Z"
   },
   {
    "duration": 318,
    "start_time": "2021-10-12T22:28:19.467Z"
   },
   {
    "duration": 20,
    "start_time": "2021-10-12T22:28:30.621Z"
   },
   {
    "duration": 1397,
    "start_time": "2021-10-12T22:30:15.930Z"
   },
   {
    "duration": 55,
    "start_time": "2021-10-12T22:30:17.329Z"
   },
   {
    "duration": 15,
    "start_time": "2021-10-12T22:30:17.387Z"
   },
   {
    "duration": 8,
    "start_time": "2021-10-12T22:30:17.405Z"
   },
   {
    "duration": 13,
    "start_time": "2021-10-12T22:30:17.416Z"
   },
   {
    "duration": 12,
    "start_time": "2021-10-12T22:30:17.432Z"
   },
   {
    "duration": 24,
    "start_time": "2021-10-12T22:30:17.447Z"
   },
   {
    "duration": 10,
    "start_time": "2021-10-12T22:30:17.476Z"
   },
   {
    "duration": 8,
    "start_time": "2021-10-12T22:30:17.490Z"
   },
   {
    "duration": 16,
    "start_time": "2021-10-12T22:30:17.500Z"
   },
   {
    "duration": 46,
    "start_time": "2021-10-12T22:30:17.519Z"
   },
   {
    "duration": 10,
    "start_time": "2021-10-12T22:30:17.569Z"
   },
   {
    "duration": 15,
    "start_time": "2021-10-12T22:30:17.582Z"
   },
   {
    "duration": 11,
    "start_time": "2021-10-12T22:30:17.600Z"
   },
   {
    "duration": 55,
    "start_time": "2021-10-12T22:30:17.613Z"
   },
   {
    "duration": 9,
    "start_time": "2021-10-12T22:30:17.670Z"
   },
   {
    "duration": 3,
    "start_time": "2021-10-12T22:30:17.681Z"
   },
   {
    "duration": 17,
    "start_time": "2021-10-12T22:30:17.686Z"
   },
   {
    "duration": 68,
    "start_time": "2021-10-12T22:30:17.705Z"
   },
   {
    "duration": 9,
    "start_time": "2021-10-12T22:30:17.776Z"
   },
   {
    "duration": 719,
    "start_time": "2021-10-12T22:30:17.787Z"
   },
   {
    "duration": 298,
    "start_time": "2021-10-12T22:30:18.508Z"
   },
   {
    "duration": 19,
    "start_time": "2021-10-12T22:30:18.811Z"
   },
   {
    "duration": 35,
    "start_time": "2021-10-12T22:30:18.833Z"
   },
   {
    "duration": 424,
    "start_time": "2021-10-12T22:30:18.871Z"
   },
   {
    "duration": 665,
    "start_time": "2021-10-12T22:30:19.297Z"
   },
   {
    "duration": 587,
    "start_time": "2021-10-12T22:30:19.964Z"
   },
   {
    "duration": 9,
    "start_time": "2021-10-12T22:30:20.554Z"
   },
   {
    "duration": 11,
    "start_time": "2021-10-12T22:30:20.566Z"
   },
   {
    "duration": 435,
    "start_time": "2021-10-12T22:30:20.580Z"
   },
   {
    "duration": 11,
    "start_time": "2021-10-12T22:30:21.018Z"
   },
   {
    "duration": 545,
    "start_time": "2021-10-12T22:30:21.032Z"
   },
   {
    "duration": 210,
    "start_time": "2021-10-12T22:30:21.580Z"
   },
   {
    "duration": 462,
    "start_time": "2021-10-12T22:30:21.793Z"
   },
   {
    "duration": 9,
    "start_time": "2021-10-12T22:30:22.257Z"
   },
   {
    "duration": 508,
    "start_time": "2021-10-12T22:30:22.268Z"
   },
   {
    "duration": 7,
    "start_time": "2021-10-12T22:30:22.778Z"
   },
   {
    "duration": 500,
    "start_time": "2021-10-12T22:30:22.787Z"
   },
   {
    "duration": 221,
    "start_time": "2021-10-12T22:30:23.290Z"
   },
   {
    "duration": 8,
    "start_time": "2021-10-12T22:30:23.514Z"
   },
   {
    "duration": 9,
    "start_time": "2021-10-12T22:30:23.525Z"
   },
   {
    "duration": 28,
    "start_time": "2021-10-12T22:30:23.537Z"
   },
   {
    "duration": 13,
    "start_time": "2021-10-12T22:30:23.568Z"
   },
   {
    "duration": 15,
    "start_time": "2021-10-12T22:30:23.583Z"
   },
   {
    "duration": 12,
    "start_time": "2021-10-12T22:30:23.600Z"
   },
   {
    "duration": 50,
    "start_time": "2021-10-12T22:30:23.614Z"
   },
   {
    "duration": 6,
    "start_time": "2021-10-12T22:30:23.666Z"
   },
   {
    "duration": 12,
    "start_time": "2021-10-12T22:30:23.674Z"
   },
   {
    "duration": 13,
    "start_time": "2021-10-12T22:30:23.688Z"
   },
   {
    "duration": 20,
    "start_time": "2021-10-12T22:30:23.703Z"
   },
   {
    "duration": 8,
    "start_time": "2021-10-12T22:31:19.728Z"
   },
   {
    "duration": 14,
    "start_time": "2021-10-12T22:31:33.256Z"
   },
   {
    "duration": 439,
    "start_time": "2021-10-12T22:32:03.403Z"
   },
   {
    "duration": 16,
    "start_time": "2021-10-12T22:32:26.726Z"
   },
   {
    "duration": 17,
    "start_time": "2021-10-12T22:34:12.212Z"
   },
   {
    "duration": 15,
    "start_time": "2021-10-12T22:34:19.025Z"
   },
   {
    "duration": 10,
    "start_time": "2021-10-12T22:34:25.270Z"
   },
   {
    "duration": 127,
    "start_time": "2021-10-12T22:38:14.867Z"
   },
   {
    "duration": 25,
    "start_time": "2021-10-12T22:38:34.992Z"
   },
   {
    "duration": 25,
    "start_time": "2021-10-12T22:39:23.136Z"
   },
   {
    "duration": 26,
    "start_time": "2021-10-12T22:42:39.766Z"
   },
   {
    "duration": 9,
    "start_time": "2021-10-12T22:42:42.532Z"
   },
   {
    "duration": 8,
    "start_time": "2021-10-12T22:42:48.593Z"
   },
   {
    "duration": 18,
    "start_time": "2021-10-12T22:43:36.755Z"
   },
   {
    "duration": 1570,
    "start_time": "2021-10-12T22:44:03.208Z"
   },
   {
    "duration": 82,
    "start_time": "2021-10-12T22:44:04.780Z"
   },
   {
    "duration": 16,
    "start_time": "2021-10-12T22:44:04.865Z"
   },
   {
    "duration": 8,
    "start_time": "2021-10-12T22:44:04.884Z"
   },
   {
    "duration": 10,
    "start_time": "2021-10-12T22:44:04.894Z"
   },
   {
    "duration": 4,
    "start_time": "2021-10-12T22:44:04.962Z"
   },
   {
    "duration": 19,
    "start_time": "2021-10-12T22:44:04.968Z"
   },
   {
    "duration": 9,
    "start_time": "2021-10-12T22:44:04.992Z"
   },
   {
    "duration": 58,
    "start_time": "2021-10-12T22:44:05.004Z"
   },
   {
    "duration": 14,
    "start_time": "2021-10-12T22:44:05.066Z"
   },
   {
    "duration": 9,
    "start_time": "2021-10-12T22:44:05.083Z"
   },
   {
    "duration": 7,
    "start_time": "2021-10-12T22:44:05.094Z"
   },
   {
    "duration": 9,
    "start_time": "2021-10-12T22:44:05.103Z"
   },
   {
    "duration": 54,
    "start_time": "2021-10-12T22:44:05.115Z"
   },
   {
    "duration": 8,
    "start_time": "2021-10-12T22:44:05.171Z"
   },
   {
    "duration": 27,
    "start_time": "2021-10-12T22:44:05.181Z"
   },
   {
    "duration": 54,
    "start_time": "2021-10-12T22:44:05.210Z"
   },
   {
    "duration": 9,
    "start_time": "2021-10-12T22:44:05.267Z"
   },
   {
    "duration": 15,
    "start_time": "2021-10-12T22:44:05.278Z"
   },
   {
    "duration": 16,
    "start_time": "2021-10-12T22:44:05.296Z"
   },
   {
    "duration": 6,
    "start_time": "2021-10-12T22:44:05.314Z"
   },
   {
    "duration": 17,
    "start_time": "2021-10-12T22:44:05.362Z"
   },
   {
    "duration": 13,
    "start_time": "2021-10-12T22:44:05.385Z"
   },
   {
    "duration": 1450,
    "start_time": "2021-10-12T22:44:05.401Z"
   },
   {
    "duration": 110964,
    "start_time": "2021-10-12T22:42:15.890Z"
   },
   {
    "duration": 110962,
    "start_time": "2021-10-12T22:42:15.893Z"
   },
   {
    "duration": 110959,
    "start_time": "2021-10-12T22:42:15.898Z"
   },
   {
    "duration": 110956,
    "start_time": "2021-10-12T22:42:15.902Z"
   },
   {
    "duration": 110954,
    "start_time": "2021-10-12T22:42:15.905Z"
   },
   {
    "duration": 110954,
    "start_time": "2021-10-12T22:42:15.907Z"
   },
   {
    "duration": 110953,
    "start_time": "2021-10-12T22:42:15.910Z"
   },
   {
    "duration": 110953,
    "start_time": "2021-10-12T22:42:15.911Z"
   },
   {
    "duration": 110951,
    "start_time": "2021-10-12T22:42:15.915Z"
   },
   {
    "duration": 110950,
    "start_time": "2021-10-12T22:42:15.917Z"
   },
   {
    "duration": 110949,
    "start_time": "2021-10-12T22:42:15.920Z"
   },
   {
    "duration": 110949,
    "start_time": "2021-10-12T22:42:15.922Z"
   },
   {
    "duration": 110948,
    "start_time": "2021-10-12T22:42:15.924Z"
   },
   {
    "duration": 110946,
    "start_time": "2021-10-12T22:42:15.927Z"
   },
   {
    "duration": 110946,
    "start_time": "2021-10-12T22:42:15.929Z"
   },
   {
    "duration": 110945,
    "start_time": "2021-10-12T22:42:15.932Z"
   },
   {
    "duration": 110944,
    "start_time": "2021-10-12T22:42:15.934Z"
   },
   {
    "duration": 110936,
    "start_time": "2021-10-12T22:42:15.944Z"
   },
   {
    "duration": 110932,
    "start_time": "2021-10-12T22:42:15.949Z"
   },
   {
    "duration": 110916,
    "start_time": "2021-10-12T22:42:15.966Z"
   },
   {
    "duration": 110910,
    "start_time": "2021-10-12T22:42:15.974Z"
   },
   {
    "duration": 110909,
    "start_time": "2021-10-12T22:42:15.976Z"
   },
   {
    "duration": 110904,
    "start_time": "2021-10-12T22:42:15.982Z"
   },
   {
    "duration": 110904,
    "start_time": "2021-10-12T22:42:15.984Z"
   },
   {
    "duration": 110902,
    "start_time": "2021-10-12T22:42:15.987Z"
   },
   {
    "duration": 110902,
    "start_time": "2021-10-12T22:42:15.989Z"
   },
   {
    "duration": 110900,
    "start_time": "2021-10-12T22:42:15.992Z"
   },
   {
    "duration": 320,
    "start_time": "2021-10-12T22:45:07.257Z"
   },
   {
    "duration": 349,
    "start_time": "2021-10-12T22:45:14.056Z"
   },
   {
    "duration": 376,
    "start_time": "2021-10-12T22:45:25.643Z"
   },
   {
    "duration": 343,
    "start_time": "2021-10-12T22:45:30.916Z"
   },
   {
    "duration": 6888,
    "start_time": "2021-10-12T22:47:15.735Z"
   },
   {
    "duration": 3367,
    "start_time": "2021-10-12T22:47:50.478Z"
   },
   {
    "duration": 18,
    "start_time": "2021-10-12T22:48:26.233Z"
   },
   {
    "duration": 214,
    "start_time": "2021-10-12T22:48:34.948Z"
   },
   {
    "duration": 1672,
    "start_time": "2021-10-12T22:48:59.220Z"
   },
   {
    "duration": 85,
    "start_time": "2021-10-12T22:49:00.894Z"
   },
   {
    "duration": 17,
    "start_time": "2021-10-12T22:49:00.982Z"
   },
   {
    "duration": 6,
    "start_time": "2021-10-12T22:49:01.001Z"
   },
   {
    "duration": 52,
    "start_time": "2021-10-12T22:49:01.010Z"
   },
   {
    "duration": 14,
    "start_time": "2021-10-12T22:49:01.065Z"
   },
   {
    "duration": 38,
    "start_time": "2021-10-12T22:49:01.081Z"
   },
   {
    "duration": 19,
    "start_time": "2021-10-12T22:49:01.123Z"
   },
   {
    "duration": 18,
    "start_time": "2021-10-12T22:49:01.145Z"
   },
   {
    "duration": 15,
    "start_time": "2021-10-12T22:49:01.166Z"
   },
   {
    "duration": 15,
    "start_time": "2021-10-12T22:49:01.184Z"
   },
   {
    "duration": 21,
    "start_time": "2021-10-12T22:49:01.202Z"
   },
   {
    "duration": 13,
    "start_time": "2021-10-12T22:49:01.225Z"
   },
   {
    "duration": 22,
    "start_time": "2021-10-12T22:49:01.241Z"
   },
   {
    "duration": 15,
    "start_time": "2021-10-12T22:49:01.266Z"
   },
   {
    "duration": 36,
    "start_time": "2021-10-12T22:49:01.283Z"
   },
   {
    "duration": 11,
    "start_time": "2021-10-12T22:49:01.322Z"
   },
   {
    "duration": 48,
    "start_time": "2021-10-12T22:49:01.337Z"
   },
   {
    "duration": 28,
    "start_time": "2021-10-12T22:49:01.389Z"
   },
   {
    "duration": 17,
    "start_time": "2021-10-12T22:49:01.420Z"
   },
   {
    "duration": 8,
    "start_time": "2021-10-12T22:49:01.462Z"
   },
   {
    "duration": 366,
    "start_time": "2021-10-12T22:49:01.473Z"
   },
   {
    "duration": 301,
    "start_time": "2021-10-12T22:49:01.846Z"
   },
   {
    "duration": 23,
    "start_time": "2021-10-12T22:49:02.161Z"
   },
   {
    "duration": 11,
    "start_time": "2021-10-12T22:49:02.187Z"
   },
   {
    "duration": 475,
    "start_time": "2021-10-12T22:49:02.200Z"
   },
   {
    "duration": 411,
    "start_time": "2021-10-12T22:49:02.678Z"
   },
   {
    "duration": 481,
    "start_time": "2021-10-12T22:49:03.091Z"
   },
   {
    "duration": 5,
    "start_time": "2021-10-12T22:49:03.575Z"
   },
   {
    "duration": 10,
    "start_time": "2021-10-12T22:49:03.582Z"
   },
   {
    "duration": 427,
    "start_time": "2021-10-12T22:49:03.594Z"
   },
   {
    "duration": 12,
    "start_time": "2021-10-12T22:49:04.023Z"
   },
   {
    "duration": 541,
    "start_time": "2021-10-12T22:49:04.037Z"
   },
   {
    "duration": 209,
    "start_time": "2021-10-12T22:49:04.581Z"
   },
   {
    "duration": 478,
    "start_time": "2021-10-12T22:49:04.792Z"
   },
   {
    "duration": 7,
    "start_time": "2021-10-12T22:49:05.272Z"
   },
   {
    "duration": 505,
    "start_time": "2021-10-12T22:49:05.281Z"
   },
   {
    "duration": 6,
    "start_time": "2021-10-12T22:49:05.789Z"
   },
   {
    "duration": 519,
    "start_time": "2021-10-12T22:49:05.798Z"
   },
   {
    "duration": 238,
    "start_time": "2021-10-12T22:49:06.320Z"
   },
   {
    "duration": 9,
    "start_time": "2021-10-12T22:49:06.561Z"
   },
   {
    "duration": 12,
    "start_time": "2021-10-12T22:49:06.573Z"
   },
   {
    "duration": 9,
    "start_time": "2021-10-12T22:49:06.588Z"
   },
   {
    "duration": 18,
    "start_time": "2021-10-12T22:49:06.600Z"
   },
   {
    "duration": 52,
    "start_time": "2021-10-12T22:49:06.620Z"
   },
   {
    "duration": 12,
    "start_time": "2021-10-12T22:49:06.675Z"
   },
   {
    "duration": 15,
    "start_time": "2021-10-12T22:49:06.689Z"
   },
   {
    "duration": 9,
    "start_time": "2021-10-12T22:49:06.707Z"
   },
   {
    "duration": 50,
    "start_time": "2021-10-12T22:49:06.718Z"
   },
   {
    "duration": 12,
    "start_time": "2021-10-12T22:49:06.771Z"
   },
   {
    "duration": 22,
    "start_time": "2021-10-12T22:49:06.786Z"
   },
   {
    "duration": 7,
    "start_time": "2021-10-12T22:49:18.011Z"
   },
   {
    "duration": 9,
    "start_time": "2021-10-12T22:49:19.377Z"
   },
   {
    "duration": 1573,
    "start_time": "2021-10-12T22:50:18.211Z"
   },
   {
    "duration": 91,
    "start_time": "2021-10-12T22:50:19.786Z"
   },
   {
    "duration": 15,
    "start_time": "2021-10-12T22:50:19.880Z"
   },
   {
    "duration": 5,
    "start_time": "2021-10-12T22:50:19.898Z"
   },
   {
    "duration": 10,
    "start_time": "2021-10-12T22:50:19.905Z"
   },
   {
    "duration": 6,
    "start_time": "2021-10-12T22:50:19.917Z"
   },
   {
    "duration": 41,
    "start_time": "2021-10-12T22:50:19.925Z"
   },
   {
    "duration": 9,
    "start_time": "2021-10-12T22:50:19.970Z"
   },
   {
    "duration": 7,
    "start_time": "2021-10-12T22:50:19.982Z"
   },
   {
    "duration": 14,
    "start_time": "2021-10-12T22:50:19.991Z"
   },
   {
    "duration": 14,
    "start_time": "2021-10-12T22:50:20.008Z"
   },
   {
    "duration": 6,
    "start_time": "2021-10-12T22:50:20.063Z"
   },
   {
    "duration": 27,
    "start_time": "2021-10-12T22:50:20.072Z"
   },
   {
    "duration": 13,
    "start_time": "2021-10-12T22:50:20.102Z"
   },
   {
    "duration": 9,
    "start_time": "2021-10-12T22:50:20.118Z"
   },
   {
    "duration": 47,
    "start_time": "2021-10-12T22:50:20.130Z"
   },
   {
    "duration": 9507,
    "start_time": "2021-10-12T22:50:20.180Z"
   },
   {
    "duration": 110835,
    "start_time": "2021-10-12T22:48:38.857Z"
   },
   {
    "duration": 110833,
    "start_time": "2021-10-12T22:48:38.861Z"
   },
   {
    "duration": 110830,
    "start_time": "2021-10-12T22:48:38.865Z"
   },
   {
    "duration": 110828,
    "start_time": "2021-10-12T22:48:38.868Z"
   },
   {
    "duration": 110825,
    "start_time": "2021-10-12T22:48:38.873Z"
   },
   {
    "duration": 110823,
    "start_time": "2021-10-12T22:48:38.876Z"
   },
   {
    "duration": 110822,
    "start_time": "2021-10-12T22:48:38.878Z"
   },
   {
    "duration": 110821,
    "start_time": "2021-10-12T22:48:38.881Z"
   },
   {
    "duration": 110820,
    "start_time": "2021-10-12T22:48:38.883Z"
   },
   {
    "duration": 110819,
    "start_time": "2021-10-12T22:48:38.885Z"
   },
   {
    "duration": 110817,
    "start_time": "2021-10-12T22:48:38.889Z"
   },
   {
    "duration": 110814,
    "start_time": "2021-10-12T22:48:38.893Z"
   },
   {
    "duration": 110810,
    "start_time": "2021-10-12T22:48:38.898Z"
   },
   {
    "duration": 110810,
    "start_time": "2021-10-12T22:48:38.900Z"
   },
   {
    "duration": 110807,
    "start_time": "2021-10-12T22:48:38.904Z"
   },
   {
    "duration": 110806,
    "start_time": "2021-10-12T22:48:38.907Z"
   },
   {
    "duration": 110799,
    "start_time": "2021-10-12T22:48:38.915Z"
   },
   {
    "duration": 110797,
    "start_time": "2021-10-12T22:48:38.918Z"
   },
   {
    "duration": 110795,
    "start_time": "2021-10-12T22:48:38.921Z"
   },
   {
    "duration": 110794,
    "start_time": "2021-10-12T22:48:38.924Z"
   },
   {
    "duration": 110794,
    "start_time": "2021-10-12T22:48:38.926Z"
   },
   {
    "duration": 110794,
    "start_time": "2021-10-12T22:48:38.928Z"
   },
   {
    "duration": 110794,
    "start_time": "2021-10-12T22:48:38.930Z"
   },
   {
    "duration": 110794,
    "start_time": "2021-10-12T22:48:38.932Z"
   },
   {
    "duration": 110781,
    "start_time": "2021-10-12T22:48:38.946Z"
   },
   {
    "duration": 110779,
    "start_time": "2021-10-12T22:48:38.949Z"
   },
   {
    "duration": 110809,
    "start_time": "2021-10-12T22:48:38.953Z"
   },
   {
    "duration": 110805,
    "start_time": "2021-10-12T22:48:38.958Z"
   },
   {
    "duration": 110804,
    "start_time": "2021-10-12T22:48:38.961Z"
   },
   {
    "duration": 110803,
    "start_time": "2021-10-12T22:48:38.963Z"
   },
   {
    "duration": 110801,
    "start_time": "2021-10-12T22:48:38.966Z"
   },
   {
    "duration": 110801,
    "start_time": "2021-10-12T22:48:38.968Z"
   },
   {
    "duration": 110797,
    "start_time": "2021-10-12T22:48:38.973Z"
   },
   {
    "duration": 110796,
    "start_time": "2021-10-12T22:48:38.975Z"
   },
   {
    "duration": 704,
    "start_time": "2021-10-12T22:51:48.448Z"
   },
   {
    "duration": 541,
    "start_time": "2021-10-12T22:52:20.855Z"
   },
   {
    "duration": 1236,
    "start_time": "2021-10-12T22:53:16.794Z"
   },
   {
    "duration": 357,
    "start_time": "2021-10-12T22:54:57.698Z"
   },
   {
    "duration": 660,
    "start_time": "2021-10-12T22:57:13.162Z"
   },
   {
    "duration": 16,
    "start_time": "2021-10-12T22:57:24.186Z"
   },
   {
    "duration": 21,
    "start_time": "2021-10-12T22:57:48.789Z"
   },
   {
    "duration": 27,
    "start_time": "2021-10-12T23:00:47.785Z"
   },
   {
    "duration": 21,
    "start_time": "2021-10-12T23:01:04.344Z"
   },
   {
    "duration": 21,
    "start_time": "2021-10-12T23:01:14.949Z"
   },
   {
    "duration": 7,
    "start_time": "2021-10-12T23:01:18.858Z"
   },
   {
    "duration": 9,
    "start_time": "2021-10-12T23:01:20.401Z"
   },
   {
    "duration": 1623,
    "start_time": "2021-10-12T23:01:27.488Z"
   },
   {
    "duration": 56,
    "start_time": "2021-10-12T23:01:29.114Z"
   },
   {
    "duration": 16,
    "start_time": "2021-10-12T23:01:29.172Z"
   },
   {
    "duration": 8,
    "start_time": "2021-10-12T23:01:29.190Z"
   },
   {
    "duration": 10,
    "start_time": "2021-10-12T23:01:29.200Z"
   },
   {
    "duration": 7,
    "start_time": "2021-10-12T23:01:29.212Z"
   },
   {
    "duration": 43,
    "start_time": "2021-10-12T23:01:29.221Z"
   },
   {
    "duration": 20,
    "start_time": "2021-10-12T23:01:29.267Z"
   },
   {
    "duration": 9,
    "start_time": "2021-10-12T23:01:29.290Z"
   },
   {
    "duration": 13,
    "start_time": "2021-10-12T23:01:29.301Z"
   },
   {
    "duration": 14,
    "start_time": "2021-10-12T23:01:29.316Z"
   },
   {
    "duration": 29,
    "start_time": "2021-10-12T23:01:29.333Z"
   },
   {
    "duration": 11,
    "start_time": "2021-10-12T23:01:29.365Z"
   },
   {
    "duration": 10,
    "start_time": "2021-10-12T23:01:29.378Z"
   },
   {
    "duration": 8,
    "start_time": "2021-10-12T23:01:29.390Z"
   },
   {
    "duration": 61,
    "start_time": "2021-10-12T23:01:29.401Z"
   },
   {
    "duration": 8,
    "start_time": "2021-10-12T23:01:29.464Z"
   },
   {
    "duration": 9,
    "start_time": "2021-10-12T23:01:29.475Z"
   },
   {
    "duration": 17,
    "start_time": "2021-10-12T23:01:29.486Z"
   },
   {
    "duration": 70,
    "start_time": "2021-10-12T23:01:29.506Z"
   },
   {
    "duration": 6,
    "start_time": "2021-10-12T23:01:29.579Z"
   },
   {
    "duration": 18,
    "start_time": "2021-10-12T23:01:29.587Z"
   },
   {
    "duration": 14,
    "start_time": "2021-10-12T23:01:29.665Z"
   },
   {
    "duration": 2437,
    "start_time": "2021-10-12T23:01:29.683Z"
   },
   {
    "duration": 110953,
    "start_time": "2021-10-12T22:59:41.170Z"
   },
   {
    "duration": 110944,
    "start_time": "2021-10-12T22:59:41.181Z"
   },
   {
    "duration": 110933,
    "start_time": "2021-10-12T22:59:41.193Z"
   },
   {
    "duration": 110931,
    "start_time": "2021-10-12T22:59:41.197Z"
   },
   {
    "duration": 110930,
    "start_time": "2021-10-12T22:59:41.199Z"
   },
   {
    "duration": 110929,
    "start_time": "2021-10-12T22:59:41.201Z"
   },
   {
    "duration": 110921,
    "start_time": "2021-10-12T22:59:41.211Z"
   },
   {
    "duration": 110918,
    "start_time": "2021-10-12T22:59:41.215Z"
   },
   {
    "duration": 110918,
    "start_time": "2021-10-12T22:59:41.217Z"
   },
   {
    "duration": 110916,
    "start_time": "2021-10-12T22:59:41.220Z"
   },
   {
    "duration": 110909,
    "start_time": "2021-10-12T22:59:41.229Z"
   },
   {
    "duration": 110906,
    "start_time": "2021-10-12T22:59:41.233Z"
   },
   {
    "duration": 110897,
    "start_time": "2021-10-12T22:59:41.243Z"
   },
   {
    "duration": 110896,
    "start_time": "2021-10-12T22:59:41.246Z"
   },
   {
    "duration": 110894,
    "start_time": "2021-10-12T22:59:41.249Z"
   },
   {
    "duration": 110892,
    "start_time": "2021-10-12T22:59:41.253Z"
   },
   {
    "duration": 110883,
    "start_time": "2021-10-12T22:59:41.263Z"
   },
   {
    "duration": 110881,
    "start_time": "2021-10-12T22:59:41.266Z"
   },
   {
    "duration": 110879,
    "start_time": "2021-10-12T22:59:41.270Z"
   },
   {
    "duration": 110872,
    "start_time": "2021-10-12T22:59:41.278Z"
   },
   {
    "duration": 110868,
    "start_time": "2021-10-12T22:59:41.283Z"
   },
   {
    "duration": 110867,
    "start_time": "2021-10-12T22:59:41.286Z"
   },
   {
    "duration": 110864,
    "start_time": "2021-10-12T22:59:41.290Z"
   },
   {
    "duration": 110863,
    "start_time": "2021-10-12T22:59:41.292Z"
   },
   {
    "duration": 110862,
    "start_time": "2021-10-12T22:59:41.295Z"
   },
   {
    "duration": 110834,
    "start_time": "2021-10-12T22:59:41.324Z"
   },
   {
    "duration": 110834,
    "start_time": "2021-10-12T22:59:41.326Z"
   },
   {
    "duration": 1760,
    "start_time": "2021-10-12T23:02:11.631Z"
   },
   {
    "duration": 56,
    "start_time": "2021-10-12T23:02:13.394Z"
   },
   {
    "duration": 15,
    "start_time": "2021-10-12T23:02:13.453Z"
   },
   {
    "duration": 6,
    "start_time": "2021-10-12T23:02:13.471Z"
   },
   {
    "duration": 14,
    "start_time": "2021-10-12T23:02:13.479Z"
   },
   {
    "duration": 7,
    "start_time": "2021-10-12T23:02:13.495Z"
   },
   {
    "duration": 18,
    "start_time": "2021-10-12T23:02:13.504Z"
   },
   {
    "duration": 42,
    "start_time": "2021-10-12T23:02:13.525Z"
   },
   {
    "duration": 7,
    "start_time": "2021-10-12T23:02:13.570Z"
   },
   {
    "duration": 14,
    "start_time": "2021-10-12T23:02:13.579Z"
   },
   {
    "duration": 14,
    "start_time": "2021-10-12T23:02:13.595Z"
   },
   {
    "duration": 10,
    "start_time": "2021-10-12T23:02:13.611Z"
   },
   {
    "duration": 40,
    "start_time": "2021-10-12T23:02:13.623Z"
   },
   {
    "duration": 11,
    "start_time": "2021-10-12T23:02:13.665Z"
   },
   {
    "duration": 6,
    "start_time": "2021-10-12T23:02:13.679Z"
   },
   {
    "duration": 20,
    "start_time": "2021-10-12T23:02:13.688Z"
   },
   {
    "duration": 3,
    "start_time": "2021-10-12T23:02:13.711Z"
   },
   {
    "duration": 59,
    "start_time": "2021-10-12T23:02:13.716Z"
   },
   {
    "duration": 19,
    "start_time": "2021-10-12T23:02:13.777Z"
   },
   {
    "duration": 14,
    "start_time": "2021-10-12T23:02:13.798Z"
   },
   {
    "duration": 9,
    "start_time": "2021-10-12T23:02:13.814Z"
   },
   {
    "duration": 392,
    "start_time": "2021-10-12T23:02:13.825Z"
   },
   {
    "duration": 312,
    "start_time": "2021-10-12T23:02:14.222Z"
   },
   {
    "duration": 32,
    "start_time": "2021-10-12T23:02:14.537Z"
   },
   {
    "duration": 12,
    "start_time": "2021-10-12T23:02:14.571Z"
   },
   {
    "duration": 447,
    "start_time": "2021-10-12T23:02:14.586Z"
   },
   {
    "duration": 432,
    "start_time": "2021-10-12T23:02:15.036Z"
   },
   {
    "duration": 494,
    "start_time": "2021-10-12T23:02:15.471Z"
   },
   {
    "duration": 5,
    "start_time": "2021-10-12T23:02:15.967Z"
   },
   {
    "duration": 13,
    "start_time": "2021-10-12T23:02:15.974Z"
   },
   {
    "duration": 450,
    "start_time": "2021-10-12T23:02:15.990Z"
   },
   {
    "duration": 23,
    "start_time": "2021-10-12T23:02:16.443Z"
   },
   {
    "duration": 536,
    "start_time": "2021-10-12T23:02:16.468Z"
   },
   {
    "duration": 209,
    "start_time": "2021-10-12T23:02:17.007Z"
   },
   {
    "duration": 518,
    "start_time": "2021-10-12T23:02:17.218Z"
   },
   {
    "duration": 7,
    "start_time": "2021-10-12T23:02:17.738Z"
   },
   {
    "duration": 510,
    "start_time": "2021-10-12T23:02:17.763Z"
   },
   {
    "duration": 7,
    "start_time": "2021-10-12T23:02:18.275Z"
   },
   {
    "duration": 495,
    "start_time": "2021-10-12T23:02:18.285Z"
   },
   {
    "duration": 229,
    "start_time": "2021-10-12T23:02:18.782Z"
   },
   {
    "duration": 8,
    "start_time": "2021-10-12T23:02:19.013Z"
   },
   {
    "duration": 11,
    "start_time": "2021-10-12T23:02:19.023Z"
   },
   {
    "duration": 26,
    "start_time": "2021-10-12T23:02:19.036Z"
   },
   {
    "duration": 11,
    "start_time": "2021-10-12T23:02:19.064Z"
   },
   {
    "duration": 13,
    "start_time": "2021-10-12T23:02:19.078Z"
   },
   {
    "duration": 12,
    "start_time": "2021-10-12T23:02:19.093Z"
   },
   {
    "duration": 14,
    "start_time": "2021-10-12T23:02:19.107Z"
   },
   {
    "duration": 43,
    "start_time": "2021-10-12T23:02:19.123Z"
   },
   {
    "duration": 11,
    "start_time": "2021-10-12T23:02:19.169Z"
   },
   {
    "duration": 11,
    "start_time": "2021-10-12T23:02:19.182Z"
   },
   {
    "duration": 21,
    "start_time": "2021-10-12T23:02:19.195Z"
   },
   {
    "duration": 25,
    "start_time": "2021-10-12T23:02:29.331Z"
   },
   {
    "duration": 4,
    "start_time": "2021-10-12T23:03:27.536Z"
   },
   {
    "duration": 7,
    "start_time": "2021-10-12T23:03:34.712Z"
   },
   {
    "duration": 8,
    "start_time": "2021-10-12T23:03:44.433Z"
   },
   {
    "duration": 20,
    "start_time": "2021-10-12T23:03:45.388Z"
   },
   {
    "duration": 1316,
    "start_time": "2021-10-12T23:04:38.804Z"
   },
   {
    "duration": 54,
    "start_time": "2021-10-12T23:04:40.123Z"
   },
   {
    "duration": 15,
    "start_time": "2021-10-12T23:04:40.180Z"
   },
   {
    "duration": 14,
    "start_time": "2021-10-12T23:04:40.198Z"
   },
   {
    "duration": 14,
    "start_time": "2021-10-12T23:04:40.215Z"
   },
   {
    "duration": 8,
    "start_time": "2021-10-12T23:04:40.231Z"
   },
   {
    "duration": 24,
    "start_time": "2021-10-12T23:04:40.241Z"
   },
   {
    "duration": 16,
    "start_time": "2021-10-12T23:04:40.269Z"
   },
   {
    "duration": 11,
    "start_time": "2021-10-12T23:04:40.288Z"
   },
   {
    "duration": 61,
    "start_time": "2021-10-12T23:04:40.301Z"
   },
   {
    "duration": 8,
    "start_time": "2021-10-12T23:04:40.365Z"
   },
   {
    "duration": 10,
    "start_time": "2021-10-12T23:04:40.375Z"
   },
   {
    "duration": 12,
    "start_time": "2021-10-12T23:04:40.387Z"
   },
   {
    "duration": 11,
    "start_time": "2021-10-12T23:04:40.401Z"
   },
   {
    "duration": 8,
    "start_time": "2021-10-12T23:04:40.463Z"
   },
   {
    "duration": 26,
    "start_time": "2021-10-12T23:04:40.473Z"
   },
   {
    "duration": 60,
    "start_time": "2021-10-12T23:04:40.501Z"
   },
   {
    "duration": 8,
    "start_time": "2021-10-12T23:04:40.564Z"
   },
   {
    "duration": 18,
    "start_time": "2021-10-12T23:04:40.575Z"
   },
   {
    "duration": 71,
    "start_time": "2021-10-12T23:04:40.595Z"
   },
   {
    "duration": 16,
    "start_time": "2021-10-12T23:04:40.669Z"
   },
   {
    "duration": 11,
    "start_time": "2021-10-12T23:04:40.687Z"
   },
   {
    "duration": 670,
    "start_time": "2021-10-12T23:04:40.703Z"
   },
   {
    "duration": 4750,
    "start_time": "2021-10-12T23:04:41.376Z"
   },
   {
    "duration": 110952,
    "start_time": "2021-10-12T23:02:55.177Z"
   },
   {
    "duration": 110950,
    "start_time": "2021-10-12T23:02:55.180Z"
   },
   {
    "duration": 110948,
    "start_time": "2021-10-12T23:02:55.183Z"
   },
   {
    "duration": 110948,
    "start_time": "2021-10-12T23:02:55.185Z"
   },
   {
    "duration": 110948,
    "start_time": "2021-10-12T23:02:55.187Z"
   },
   {
    "duration": 110947,
    "start_time": "2021-10-12T23:02:55.189Z"
   },
   {
    "duration": 110945,
    "start_time": "2021-10-12T23:02:55.192Z"
   },
   {
    "duration": 110945,
    "start_time": "2021-10-12T23:02:55.194Z"
   },
   {
    "duration": 110944,
    "start_time": "2021-10-12T23:02:55.196Z"
   },
   {
    "duration": 110944,
    "start_time": "2021-10-12T23:02:55.198Z"
   },
   {
    "duration": 110928,
    "start_time": "2021-10-12T23:02:55.215Z"
   },
   {
    "duration": 110927,
    "start_time": "2021-10-12T23:02:55.218Z"
   },
   {
    "duration": 110901,
    "start_time": "2021-10-12T23:02:55.245Z"
   },
   {
    "duration": 110897,
    "start_time": "2021-10-12T23:02:55.251Z"
   },
   {
    "duration": 110895,
    "start_time": "2021-10-12T23:02:55.254Z"
   },
   {
    "duration": 110894,
    "start_time": "2021-10-12T23:02:55.257Z"
   },
   {
    "duration": 110892,
    "start_time": "2021-10-12T23:02:55.260Z"
   },
   {
    "duration": 110860,
    "start_time": "2021-10-12T23:02:55.294Z"
   },
   {
    "duration": 110859,
    "start_time": "2021-10-12T23:02:55.296Z"
   },
   {
    "duration": 110858,
    "start_time": "2021-10-12T23:02:55.298Z"
   },
   {
    "duration": 110858,
    "start_time": "2021-10-12T23:02:55.300Z"
   },
   {
    "duration": 110857,
    "start_time": "2021-10-12T23:02:55.302Z"
   },
   {
    "duration": 110856,
    "start_time": "2021-10-12T23:02:55.305Z"
   },
   {
    "duration": 110855,
    "start_time": "2021-10-12T23:02:55.307Z"
   },
   {
    "duration": 110855,
    "start_time": "2021-10-12T23:02:55.309Z"
   },
   {
    "duration": 110854,
    "start_time": "2021-10-12T23:02:55.311Z"
   },
   {
    "duration": 110853,
    "start_time": "2021-10-12T23:02:55.313Z"
   },
   {
    "duration": 110847,
    "start_time": "2021-10-12T23:02:55.321Z"
   },
   {
    "duration": 7,
    "start_time": "2021-10-12T23:07:51.675Z"
   },
   {
    "duration": 9,
    "start_time": "2021-10-12T23:08:58.089Z"
   },
   {
    "duration": 20,
    "start_time": "2021-10-12T23:09:23.189Z"
   },
   {
    "duration": 21,
    "start_time": "2021-10-12T23:13:55.384Z"
   },
   {
    "duration": 7,
    "start_time": "2021-10-12T23:15:06.200Z"
   },
   {
    "duration": 7,
    "start_time": "2021-10-12T23:16:16.610Z"
   },
   {
    "duration": 7,
    "start_time": "2021-10-12T23:16:17.740Z"
   },
   {
    "duration": 18,
    "start_time": "2021-10-12T23:16:19.371Z"
   },
   {
    "duration": 1331,
    "start_time": "2021-10-12T23:17:41.892Z"
   },
   {
    "duration": 53,
    "start_time": "2021-10-12T23:17:43.226Z"
   },
   {
    "duration": 14,
    "start_time": "2021-10-12T23:17:43.282Z"
   },
   {
    "duration": 5,
    "start_time": "2021-10-12T23:17:43.299Z"
   },
   {
    "duration": 11,
    "start_time": "2021-10-12T23:17:43.307Z"
   },
   {
    "duration": 6,
    "start_time": "2021-10-12T23:17:43.321Z"
   },
   {
    "duration": 39,
    "start_time": "2021-10-12T23:17:43.330Z"
   },
   {
    "duration": 8,
    "start_time": "2021-10-12T23:17:43.373Z"
   },
   {
    "duration": 29,
    "start_time": "2021-10-12T23:17:43.383Z"
   },
   {
    "duration": 17,
    "start_time": "2021-10-12T23:17:43.414Z"
   },
   {
    "duration": 12,
    "start_time": "2021-10-12T23:17:43.433Z"
   },
   {
    "duration": 21,
    "start_time": "2021-10-12T23:17:43.448Z"
   },
   {
    "duration": 10,
    "start_time": "2021-10-12T23:17:43.471Z"
   },
   {
    "duration": 9,
    "start_time": "2021-10-12T23:17:43.483Z"
   },
   {
    "duration": 8,
    "start_time": "2021-10-12T23:17:43.494Z"
   },
   {
    "duration": 21,
    "start_time": "2021-10-12T23:17:43.504Z"
   },
   {
    "duration": 40,
    "start_time": "2021-10-12T23:17:43.527Z"
   },
   {
    "duration": 10,
    "start_time": "2021-10-12T23:17:43.569Z"
   },
   {
    "duration": 18,
    "start_time": "2021-10-12T23:17:43.581Z"
   },
   {
    "duration": 17,
    "start_time": "2021-10-12T23:17:43.602Z"
   },
   {
    "duration": 49,
    "start_time": "2021-10-12T23:17:43.621Z"
   },
   {
    "duration": 8,
    "start_time": "2021-10-12T23:17:43.673Z"
   },
   {
    "duration": 600,
    "start_time": "2021-10-12T23:17:43.688Z"
   },
   {
    "duration": 450,
    "start_time": "2021-10-12T23:17:44.291Z"
   },
   {
    "duration": 33,
    "start_time": "2021-10-12T23:17:44.743Z"
   },
   {
    "duration": 11,
    "start_time": "2021-10-12T23:17:44.779Z"
   },
   {
    "duration": 429,
    "start_time": "2021-10-12T23:17:44.793Z"
   },
   {
    "duration": 432,
    "start_time": "2021-10-12T23:17:45.225Z"
   },
   {
    "duration": 500,
    "start_time": "2021-10-12T23:17:45.662Z"
   },
   {
    "duration": 6,
    "start_time": "2021-10-12T23:17:46.164Z"
   },
   {
    "duration": 16,
    "start_time": "2021-10-12T23:17:46.185Z"
   },
   {
    "duration": 532,
    "start_time": "2021-10-12T23:17:46.204Z"
   },
   {
    "duration": 23,
    "start_time": "2021-10-12T23:17:46.739Z"
   },
   {
    "duration": 505,
    "start_time": "2021-10-12T23:17:46.764Z"
   },
   {
    "duration": 236,
    "start_time": "2021-10-12T23:17:47.272Z"
   },
   {
    "duration": 532,
    "start_time": "2021-10-12T23:17:47.511Z"
   },
   {
    "duration": 7,
    "start_time": "2021-10-12T23:17:48.045Z"
   },
   {
    "duration": 510,
    "start_time": "2021-10-12T23:17:48.054Z"
   },
   {
    "duration": 6,
    "start_time": "2021-10-12T23:17:48.567Z"
   },
   {
    "duration": 476,
    "start_time": "2021-10-12T23:17:48.576Z"
   },
   {
    "duration": 234,
    "start_time": "2021-10-12T23:17:49.054Z"
   },
   {
    "duration": 9,
    "start_time": "2021-10-12T23:17:49.290Z"
   },
   {
    "duration": 10,
    "start_time": "2021-10-12T23:17:49.301Z"
   },
   {
    "duration": 7,
    "start_time": "2021-10-12T23:17:49.313Z"
   },
   {
    "duration": 44,
    "start_time": "2021-10-12T23:17:49.323Z"
   },
   {
    "duration": 13,
    "start_time": "2021-10-12T23:17:49.369Z"
   },
   {
    "duration": 11,
    "start_time": "2021-10-12T23:17:49.385Z"
   },
   {
    "duration": 11,
    "start_time": "2021-10-12T23:17:49.398Z"
   },
   {
    "duration": 7,
    "start_time": "2021-10-12T23:17:49.411Z"
   },
   {
    "duration": 48,
    "start_time": "2021-10-12T23:17:49.420Z"
   },
   {
    "duration": 10,
    "start_time": "2021-10-12T23:17:49.471Z"
   },
   {
    "duration": 18,
    "start_time": "2021-10-12T23:17:49.483Z"
   },
   {
    "duration": 439,
    "start_time": "2021-10-12T23:22:41.025Z"
   },
   {
    "duration": 424,
    "start_time": "2021-10-12T23:22:54.403Z"
   },
   {
    "duration": 496,
    "start_time": "2021-10-12T23:23:22.326Z"
   },
   {
    "duration": 515,
    "start_time": "2021-10-12T23:24:24.722Z"
   },
   {
    "duration": 438,
    "start_time": "2021-10-12T23:25:12.046Z"
   },
   {
    "duration": 516,
    "start_time": "2021-10-12T23:25:44.564Z"
   },
   {
    "duration": 1311,
    "start_time": "2021-10-12T23:26:08.514Z"
   },
   {
    "duration": 56,
    "start_time": "2021-10-12T23:26:09.828Z"
   },
   {
    "duration": 15,
    "start_time": "2021-10-12T23:26:09.887Z"
   },
   {
    "duration": 55,
    "start_time": "2021-10-12T23:26:09.906Z"
   },
   {
    "duration": 9,
    "start_time": "2021-10-12T23:26:09.964Z"
   },
   {
    "duration": 6,
    "start_time": "2021-10-12T23:26:09.976Z"
   },
   {
    "duration": 20,
    "start_time": "2021-10-12T23:26:09.984Z"
   },
   {
    "duration": 58,
    "start_time": "2021-10-12T23:26:10.008Z"
   },
   {
    "duration": 9,
    "start_time": "2021-10-12T23:26:10.069Z"
   },
   {
    "duration": 18,
    "start_time": "2021-10-12T23:26:10.080Z"
   },
   {
    "duration": 61,
    "start_time": "2021-10-12T23:26:10.101Z"
   },
   {
    "duration": 8,
    "start_time": "2021-10-12T23:26:10.165Z"
   },
   {
    "duration": 13,
    "start_time": "2021-10-12T23:26:10.176Z"
   },
   {
    "duration": 10,
    "start_time": "2021-10-12T23:26:10.192Z"
   },
   {
    "duration": 9,
    "start_time": "2021-10-12T23:26:10.261Z"
   },
   {
    "duration": 28,
    "start_time": "2021-10-12T23:26:10.274Z"
   },
   {
    "duration": 59,
    "start_time": "2021-10-12T23:26:10.305Z"
   },
   {
    "duration": 18,
    "start_time": "2021-10-12T23:26:10.367Z"
   },
   {
    "duration": 20,
    "start_time": "2021-10-12T23:26:10.388Z"
   },
   {
    "duration": 23,
    "start_time": "2021-10-12T23:26:10.463Z"
   },
   {
    "duration": 10,
    "start_time": "2021-10-12T23:26:10.489Z"
   },
   {
    "duration": 871,
    "start_time": "2021-10-12T23:26:10.502Z"
   },
   {
    "duration": 296,
    "start_time": "2021-10-12T23:26:11.381Z"
   },
   {
    "duration": 18,
    "start_time": "2021-10-12T23:26:11.681Z"
   },
   {
    "duration": 12,
    "start_time": "2021-10-12T23:26:11.701Z"
   },
   {
    "duration": 459,
    "start_time": "2021-10-12T23:26:11.715Z"
   },
   {
    "duration": 468,
    "start_time": "2021-10-12T23:26:12.177Z"
   },
   {
    "duration": 510,
    "start_time": "2021-10-12T23:26:12.648Z"
   },
   {
    "duration": 7,
    "start_time": "2021-10-12T23:26:13.162Z"
   },
   {
    "duration": 18,
    "start_time": "2021-10-12T23:26:13.172Z"
   },
   {
    "duration": 441,
    "start_time": "2021-10-12T23:26:13.192Z"
   },
   {
    "duration": 12,
    "start_time": "2021-10-12T23:26:13.636Z"
   },
   {
    "duration": 545,
    "start_time": "2021-10-12T23:26:13.650Z"
   },
   {
    "duration": 209,
    "start_time": "2021-10-12T23:26:14.197Z"
   },
   {
    "duration": 485,
    "start_time": "2021-10-12T23:26:14.409Z"
   },
   {
    "duration": 6,
    "start_time": "2021-10-12T23:26:14.896Z"
   },
   {
    "duration": 476,
    "start_time": "2021-10-12T23:26:14.905Z"
   },
   {
    "duration": 8,
    "start_time": "2021-10-12T23:26:15.384Z"
   },
   {
    "duration": 459,
    "start_time": "2021-10-12T23:26:15.395Z"
   },
   {
    "duration": 207,
    "start_time": "2021-10-12T23:26:15.861Z"
   },
   {
    "duration": 8,
    "start_time": "2021-10-12T23:26:16.071Z"
   },
   {
    "duration": 11,
    "start_time": "2021-10-12T23:26:16.081Z"
   },
   {
    "duration": 9,
    "start_time": "2021-10-12T23:26:16.094Z"
   },
   {
    "duration": 13,
    "start_time": "2021-10-12T23:26:16.105Z"
   },
   {
    "duration": 48,
    "start_time": "2021-10-12T23:26:16.120Z"
   },
   {
    "duration": 12,
    "start_time": "2021-10-12T23:26:16.171Z"
   },
   {
    "duration": 13,
    "start_time": "2021-10-12T23:26:16.185Z"
   },
   {
    "duration": 5,
    "start_time": "2021-10-12T23:26:16.201Z"
   },
   {
    "duration": 12,
    "start_time": "2021-10-12T23:26:16.209Z"
   },
   {
    "duration": 45,
    "start_time": "2021-10-12T23:26:16.224Z"
   },
   {
    "duration": 20,
    "start_time": "2021-10-12T23:26:16.272Z"
   },
   {
    "duration": 559,
    "start_time": "2021-10-12T23:27:20.719Z"
   },
   {
    "duration": 10,
    "start_time": "2021-10-12T23:38:23.210Z"
   },
   {
    "duration": 9,
    "start_time": "2021-10-12T23:41:50.986Z"
   },
   {
    "duration": 15,
    "start_time": "2021-10-12T23:41:57.125Z"
   },
   {
    "duration": 10,
    "start_time": "2021-10-12T23:43:48.659Z"
   },
   {
    "duration": 17,
    "start_time": "2021-10-12T23:44:10.275Z"
   },
   {
    "duration": 10,
    "start_time": "2021-10-12T23:44:32.362Z"
   },
   {
    "duration": 21,
    "start_time": "2021-10-12T23:44:41.416Z"
   },
   {
    "duration": 10,
    "start_time": "2021-10-12T23:44:56.661Z"
   },
   {
    "duration": 1341,
    "start_time": "2021-10-13T07:01:26.136Z"
   },
   {
    "duration": 69,
    "start_time": "2021-10-13T07:01:27.479Z"
   },
   {
    "duration": 17,
    "start_time": "2021-10-13T07:01:27.551Z"
   },
   {
    "duration": 6,
    "start_time": "2021-10-13T07:01:27.571Z"
   },
   {
    "duration": 18,
    "start_time": "2021-10-13T07:01:27.579Z"
   },
   {
    "duration": 12,
    "start_time": "2021-10-13T07:01:27.599Z"
   },
   {
    "duration": 16,
    "start_time": "2021-10-13T07:01:27.613Z"
   },
   {
    "duration": 11,
    "start_time": "2021-10-13T07:01:27.634Z"
   },
   {
    "duration": 9,
    "start_time": "2021-10-13T07:01:27.648Z"
   },
   {
    "duration": 24,
    "start_time": "2021-10-13T07:01:27.660Z"
   },
   {
    "duration": 35,
    "start_time": "2021-10-13T07:01:27.687Z"
   },
   {
    "duration": 6,
    "start_time": "2021-10-13T07:01:27.725Z"
   },
   {
    "duration": 10,
    "start_time": "2021-10-13T07:01:27.734Z"
   },
   {
    "duration": 8,
    "start_time": "2021-10-13T07:01:27.746Z"
   },
   {
    "duration": 14,
    "start_time": "2021-10-13T07:01:27.757Z"
   },
   {
    "duration": 63,
    "start_time": "2021-10-13T07:01:27.774Z"
   },
   {
    "duration": 8,
    "start_time": "2021-10-13T07:01:27.840Z"
   },
   {
    "duration": 10,
    "start_time": "2021-10-13T07:01:27.851Z"
   },
   {
    "duration": 27,
    "start_time": "2021-10-13T07:01:27.865Z"
   },
   {
    "duration": 16,
    "start_time": "2021-10-13T07:01:27.922Z"
   },
   {
    "duration": 22,
    "start_time": "2021-10-13T07:01:27.941Z"
   },
   {
    "duration": 357,
    "start_time": "2021-10-13T07:01:27.966Z"
   },
   {
    "duration": 281,
    "start_time": "2021-10-13T07:01:28.328Z"
   },
   {
    "duration": 19,
    "start_time": "2021-10-13T07:01:28.622Z"
   },
   {
    "duration": 25,
    "start_time": "2021-10-13T07:01:28.644Z"
   },
   {
    "duration": 429,
    "start_time": "2021-10-13T07:01:28.672Z"
   },
   {
    "duration": 440,
    "start_time": "2021-10-13T07:01:29.104Z"
   },
   {
    "duration": 483,
    "start_time": "2021-10-13T07:01:29.546Z"
   },
   {
    "duration": 5,
    "start_time": "2021-10-13T07:01:30.031Z"
   },
   {
    "duration": 21,
    "start_time": "2021-10-13T07:01:30.038Z"
   },
   {
    "duration": 425,
    "start_time": "2021-10-13T07:01:30.062Z"
   },
   {
    "duration": 12,
    "start_time": "2021-10-13T07:01:30.490Z"
   },
   {
    "duration": 544,
    "start_time": "2021-10-13T07:01:30.505Z"
   },
   {
    "duration": 215,
    "start_time": "2021-10-13T07:01:31.052Z"
   },
   {
    "duration": 494,
    "start_time": "2021-10-13T07:01:31.270Z"
   },
   {
    "duration": 6,
    "start_time": "2021-10-13T07:01:31.767Z"
   },
   {
    "duration": 526,
    "start_time": "2021-10-13T07:01:31.776Z"
   },
   {
    "duration": 18,
    "start_time": "2021-10-13T07:01:32.305Z"
   },
   {
    "duration": 476,
    "start_time": "2021-10-13T07:01:32.326Z"
   },
   {
    "duration": 228,
    "start_time": "2021-10-13T07:01:32.804Z"
   },
   {
    "duration": 9,
    "start_time": "2021-10-13T07:01:33.034Z"
   },
   {
    "duration": 24,
    "start_time": "2021-10-13T07:01:33.045Z"
   },
   {
    "duration": 33,
    "start_time": "2021-10-13T07:01:33.071Z"
   },
   {
    "duration": 33,
    "start_time": "2021-10-13T07:01:33.107Z"
   },
   {
    "duration": 15,
    "start_time": "2021-10-13T07:01:33.142Z"
   },
   {
    "duration": 13,
    "start_time": "2021-10-13T07:01:33.159Z"
   },
   {
    "duration": 17,
    "start_time": "2021-10-13T07:01:33.174Z"
   },
   {
    "duration": 23,
    "start_time": "2021-10-13T07:01:33.194Z"
   },
   {
    "duration": 13,
    "start_time": "2021-10-13T07:01:33.219Z"
   },
   {
    "duration": 23,
    "start_time": "2021-10-13T07:01:33.234Z"
   },
   {
    "duration": 20,
    "start_time": "2021-10-13T07:01:33.259Z"
   }
  ],
  "kernelspec": {
   "display_name": "Python 3",
   "language": "python",
   "name": "python3"
  },
  "language_info": {
   "codemirror_mode": {
    "name": "ipython",
    "version": 3
   },
   "file_extension": ".py",
   "mimetype": "text/x-python",
   "name": "python",
   "nbconvert_exporter": "python",
   "pygments_lexer": "ipython3",
   "version": "3.8.8"
  },
  "toc": {
   "base_numbering": 1,
   "nav_menu": {},
   "number_sections": true,
   "sideBar": true,
   "skip_h1_title": true,
   "title_cell": "Table of Contents",
   "title_sidebar": "Contents",
   "toc_cell": false,
   "toc_position": {
    "height": "calc(100% - 180px)",
    "left": "10px",
    "top": "150px",
    "width": "298.391px"
   },
   "toc_section_display": true,
   "toc_window_display": true
  }
 },
 "nbformat": 4,
 "nbformat_minor": 2
}
